{
 "cells": [
  {
   "cell_type": "markdown",
   "metadata": {},
   "source": [
    "## Study 5: Classification \n",
    "## Fraud Detection\n",
    "### Goal:\n",
    "- Predict fraudulent cases in credit card transactions.\n",
    "### Approach:\n",
    "- Search and retrieve relevant data from any source of your choice.\n",
    "- Select relevant techniques to clean the data (missing values, outliers, wrong data types etc.)\n",
    "- Choose the correct feature selection technique for a classification problem.\n",
    "- Perform feature normalization on the data set.\n",
    "- Use credit card transactions and the information on its account-holder as attributes (i.e., When does a customer buy, what does he buy, how often he pays on time, etc.)\n",
    "- Label past transactions as fraud or fair transactions. This forms the class attribute.\n",
    "- Build a model for the class of the transactions.\n",
    "- Use this model to detect fraud by observing credit card transactions on an account."
   ]
  },
  {
   "cell_type": "markdown",
   "metadata": {},
   "source": [
    "## Group Members 3\n",
    "| Member | Admission Number | \n",
    "| --------------- | --------------- | \n",
    "| Allan Matano |  |\n",
    "| Carol Opiyo |  | \n",
    "| Faridah Nyaga |  | \n",
    "| Julie Ishimwe | 149483  | \n",
    "| Mercy Titus |  | \n",
    "| Sandra Otieno |  | \n",
    "| Stacy Njimu|  | \n",
    "| Rosemary Kanyoro |  | \n"
   ]
  },
  {
   "cell_type": "markdown",
   "metadata": {},
   "source": [
    "## Table of Contents\n",
    "\n"
   ]
  },
  {
   "cell_type": "markdown",
   "metadata": {},
   "source": [
    "# Solution\n",
    "## Data Description\n",
    "The data used in this assignment was adopted from [Credit Card Transactions Fraud Detection Dataset](https://www.kaggle.com/datasets/kartik2112/fraud-detection) in Kaggle. The data is a simulated credit card transaction dataset containing legitimate and fraud transactions from the duration 1st Jan 2019 - 31st Dec 2020. It covers credit cards of 1000 customers doing transactions with a pool of 800 merchants.\n",
    "\n",
    "~~~\n",
    "NOTE:\n",
    "In the approach given in the question it is indicated that we should label past transactions as fraud or fair transactions forming the target variable but we were able to get data with the fraud target variable. Therefore this is not a step that is addressed in this assignment. \n",
    "~~~\n",
    "\n",
    "Only certain columns and from the kaggle dataset were incorporated into the dataset we used and they are:\n",
    "\n",
    "1. Transaction Number\n",
    "2. Customer ID\t\n",
    "3. Time stamp \t\n",
    "4. Category\n",
    "5. Amount Transacted \n",
    "6. First Name\n",
    "7. Last\n",
    "8. Gender\n",
    "9. Street\n",
    "10. City\n",
    "11. Is fraud (Which is the target variable)\n",
    "\n",
    "We added our own columns which are:\n",
    "\n",
    "1. Credit Limit\n",
    "2. Number of Transactions\n",
    "3. Amounts received per day\n",
    "4. Card Type\n",
    "5. Authentication\n",
    "\n",
    "**NOTE:** We changed the values in the amount transacted column to our own values. \n",
    "\n",
    "We extracted 287 entries from the kaggle dataset. However we added our own features as mentioned above. The 287 entries include both fraudulent and legitimate transactions. To make the columns we added meaningful we used the following logic.\n",
    "1. We made it so that our dataset only contains 1 or 2 legitimate transactions every day in order to make the number of transactions column a useful predictor for fraud. The majority of the fraudulent transactions in our dataset had more than two transactions every day.\n",
    "2. Each person received a particular card type with a set credit limit, and in some fraud cases, we included situations where the limit is exceeded in order to make the credit limit and card type useful predictors for fraud. For a particular card type, there are different credit limits, for example the signature card has a credit limit of both 400,000 and 500,000, the gold card has a credit limit of 600,000, 700,000 and 750,000 and the platinum card has a credit limit of 900,000 and 1,000,000. \n",
    "3. We introduced an authentication field that returns success after a successful transaction, and fail whenever a transaction is unsuccessful. To make this column a useful predictor, we only created fail cases for the fraudulent transactions."
   ]
  },
  {
   "cell_type": "markdown",
   "metadata": {},
   "source": [
    "## Libraries"
   ]
  },
  {
   "cell_type": "code",
   "execution_count": 715,
   "metadata": {},
   "outputs": [],
   "source": [
    "#Installing libraries if they are not installed\n",
    "#!pip3 install matplotlib\n",
    "#!pip3 install scikit-learn\n",
    "#!pip3 install seaborn\n",
    "#!pip3 install numpy\n",
    "#!pip3 install pandas\n",
    "#!pip3 install mlxtend\n",
    "#!pip3 install statsmodels"
   ]
  },
  {
   "cell_type": "code",
   "execution_count": 716,
   "metadata": {},
   "outputs": [],
   "source": [
    "#Libraries\n",
    "import pandas as pd\n",
    "import numpy as np\n",
    "import seaborn as sns\n",
    "import matplotlib\n",
    "import matplotlib.pyplot as plt\n",
    "from sklearn.model_selection import train_test_split\n",
    "from sklearn.linear_model import LogisticRegression\n",
    "from sklearn.metrics import accuracy_score, classification_report, confusion_matrix\n",
    "import datetime as dt\n",
    "from sklearn.preprocessing import minmax_scale\n",
    "from sklearn.preprocessing import StandardScaler\n",
    "from pandas.api.types import CategoricalDtype\n",
    "from sklearn.feature_selection import SelectKBest\n",
    "from sklearn.feature_selection import mutual_info_classif\n",
    "from sklearn.linear_model import LassoCV\n",
    "import statsmodels.api as sm"
   ]
  },
  {
   "cell_type": "markdown",
   "metadata": {},
   "source": [
    "## Reading in Dataset"
   ]
  },
  {
   "cell_type": "code",
   "execution_count": 717,
   "metadata": {},
   "outputs": [
    {
     "data": {
      "text/html": [
       "<div>\n",
       "<style scoped>\n",
       "    .dataframe tbody tr th:only-of-type {\n",
       "        vertical-align: middle;\n",
       "    }\n",
       "\n",
       "    .dataframe tbody tr th {\n",
       "        vertical-align: top;\n",
       "    }\n",
       "\n",
       "    .dataframe thead th {\n",
       "        text-align: right;\n",
       "    }\n",
       "</style>\n",
       "<table border=\"1\" class=\"dataframe\">\n",
       "  <thead>\n",
       "    <tr style=\"text-align: right;\">\n",
       "      <th></th>\n",
       "      <th>Transaction_Number</th>\n",
       "      <th>Customer_ID</th>\n",
       "      <th>Time_stamp_changed</th>\n",
       "      <th>Category</th>\n",
       "      <th>Amount_Transacted</th>\n",
       "      <th>First</th>\n",
       "      <th>Last</th>\n",
       "      <th>Gender</th>\n",
       "      <th>Street</th>\n",
       "      <th>City</th>\n",
       "      <th>Is_fraud</th>\n",
       "      <th>Credit_Limit</th>\n",
       "      <th>No_of_Transactions</th>\n",
       "      <th>Amounts_received_per_day</th>\n",
       "      <th>Card_Type</th>\n",
       "      <th>Authentication</th>\n",
       "    </tr>\n",
       "  </thead>\n",
       "  <tbody>\n",
       "    <tr>\n",
       "      <th>0</th>\n",
       "      <td>51250</td>\n",
       "      <td>6.59</td>\n",
       "      <td>1/30/2019 23:16</td>\n",
       "      <td>kids_pets</td>\n",
       "      <td>297820.0</td>\n",
       "      <td>Amanda</td>\n",
       "      <td>Molina</td>\n",
       "      <td>Female</td>\n",
       "      <td>8425 Daniel Knolls Suite 288</td>\n",
       "      <td>Philadelphia</td>\n",
       "      <td>0</td>\n",
       "      <td>1000000</td>\n",
       "      <td>2</td>\n",
       "      <td>42187</td>\n",
       "      <td>Platinum</td>\n",
       "      <td>Success</td>\n",
       "    </tr>\n",
       "    <tr>\n",
       "      <th>1</th>\n",
       "      <td>51528</td>\n",
       "      <td>6.59</td>\n",
       "      <td>1/31/2019 5:41</td>\n",
       "      <td>grocery_net</td>\n",
       "      <td>687879.0</td>\n",
       "      <td>Amanda</td>\n",
       "      <td>Molina</td>\n",
       "      <td>Female</td>\n",
       "      <td>8425 Daniel Knolls Suite 288</td>\n",
       "      <td>Philadelphia</td>\n",
       "      <td>0</td>\n",
       "      <td>1000000</td>\n",
       "      <td>3</td>\n",
       "      <td>98637</td>\n",
       "      <td>Platinum</td>\n",
       "      <td>Success</td>\n",
       "    </tr>\n",
       "    <tr>\n",
       "      <th>2</th>\n",
       "      <td>53779</td>\n",
       "      <td>6.59</td>\n",
       "      <td>2/1/2019 20:58</td>\n",
       "      <td>personal_care</td>\n",
       "      <td>738456.0</td>\n",
       "      <td>Amanda</td>\n",
       "      <td>Molina</td>\n",
       "      <td>Female</td>\n",
       "      <td>8425 Daniel Knolls Suite 288</td>\n",
       "      <td>Philadelphia</td>\n",
       "      <td>0</td>\n",
       "      <td>1000000</td>\n",
       "      <td>1</td>\n",
       "      <td>21304</td>\n",
       "      <td>Platinum</td>\n",
       "      <td>Success</td>\n",
       "    </tr>\n",
       "  </tbody>\n",
       "</table>\n",
       "</div>"
      ],
      "text/plain": [
       "   Transaction_Number  Customer_ID Time_stamp_changed       Category  \\\n",
       "0               51250         6.59    1/30/2019 23:16      kids_pets   \n",
       "1               51528         6.59     1/31/2019 5:41    grocery_net   \n",
       "2               53779         6.59     2/1/2019 20:58  personal_care   \n",
       "\n",
       "   Amount_Transacted   First    Last  Gender                        Street  \\\n",
       "0           297820.0  Amanda  Molina  Female  8425 Daniel Knolls Suite 288   \n",
       "1           687879.0  Amanda  Molina  Female  8425 Daniel Knolls Suite 288   \n",
       "2           738456.0  Amanda  Molina  Female  8425 Daniel Knolls Suite 288   \n",
       "\n",
       "           City  Is_fraud  Credit_Limit  No_of_Transactions  \\\n",
       "0  Philadelphia         0       1000000                   2   \n",
       "1  Philadelphia         0       1000000                   3   \n",
       "2  Philadelphia         0       1000000                   1   \n",
       "\n",
       "   Amounts_received_per_day Card_Type Authentication  \n",
       "0                     42187  Platinum        Success  \n",
       "1                     98637  Platinum        Success  \n",
       "2                     21304  Platinum        Success  "
      ]
     },
     "execution_count": 717,
     "metadata": {},
     "output_type": "execute_result"
    }
   ],
   "source": [
    "#Read in Data set\n",
    "df = pd.read_csv(\"Group Work More Cases.csv\")\n",
    "df.head(3)"
   ]
  },
  {
   "cell_type": "markdown",
   "metadata": {},
   "source": [
    "## Formating Dataset Columns"
   ]
  },
  {
   "cell_type": "code",
   "execution_count": 718,
   "metadata": {},
   "outputs": [],
   "source": [
    "#Converting Datetime column to date time\n",
    "df['Time_stamp_changed'] = pd.to_datetime(df['Time_stamp_changed'])"
   ]
  },
  {
   "cell_type": "code",
   "execution_count": 719,
   "metadata": {},
   "outputs": [
    {
     "name": "stdout",
     "output_type": "stream",
     "text": [
      "<class 'pandas.core.frame.DataFrame'>\n",
      "RangeIndex: 287 entries, 0 to 286\n",
      "Data columns (total 16 columns):\n",
      " #   Column                    Non-Null Count  Dtype         \n",
      "---  ------                    --------------  -----         \n",
      " 0   Transaction_Number        287 non-null    int64         \n",
      " 1   Customer_ID               287 non-null    float64       \n",
      " 2   Time_stamp_changed        287 non-null    datetime64[ns]\n",
      " 3   Category                  287 non-null    object        \n",
      " 4   Amount_Transacted         287 non-null    float64       \n",
      " 5   First                     287 non-null    object        \n",
      " 6   Last                      287 non-null    object        \n",
      " 7   Gender                    287 non-null    object        \n",
      " 8   Street                    287 non-null    object        \n",
      " 9   City                      287 non-null    object        \n",
      " 10  Is_fraud                  287 non-null    int64         \n",
      " 11  Credit_Limit              287 non-null    int64         \n",
      " 12  No_of_Transactions        287 non-null    int64         \n",
      " 13  Amounts_received_per_day  287 non-null    int64         \n",
      " 14  Card_Type                 287 non-null    object        \n",
      " 15  Authentication            287 non-null    object        \n",
      "dtypes: datetime64[ns](1), float64(2), int64(5), object(8)\n",
      "memory usage: 36.0+ KB\n"
     ]
    }
   ],
   "source": [
    "#Checking  the data types\n",
    "df.info()"
   ]
  },
  {
   "cell_type": "code",
   "execution_count": 720,
   "metadata": {},
   "outputs": [
    {
     "name": "stdout",
     "output_type": "stream",
     "text": [
      "<class 'pandas.core.frame.DataFrame'>\n",
      "RangeIndex: 287 entries, 0 to 286\n",
      "Data columns (total 16 columns):\n",
      " #   Column                    Non-Null Count  Dtype         \n",
      "---  ------                    --------------  -----         \n",
      " 0   Transaction_Number        287 non-null    int64         \n",
      " 1   Customer_ID               287 non-null    float64       \n",
      " 2   Time_stamp_changed        287 non-null    datetime64[ns]\n",
      " 3   Category                  287 non-null    category      \n",
      " 4   Amount_Transacted         287 non-null    float64       \n",
      " 5   First                     287 non-null    object        \n",
      " 6   Last                      287 non-null    object        \n",
      " 7   Gender                    287 non-null    category      \n",
      " 8   Street                    287 non-null    object        \n",
      " 9   City                      287 non-null    category      \n",
      " 10  Is_fraud                  287 non-null    category      \n",
      " 11  Credit_Limit              287 non-null    category      \n",
      " 12  No_of_Transactions        287 non-null    category      \n",
      " 13  Amounts_received_per_day  287 non-null    int64         \n",
      " 14  Card_Type                 287 non-null    category      \n",
      " 15  Authentication            287 non-null    category      \n",
      "dtypes: category(8), datetime64[ns](1), float64(2), int64(2), object(3)\n",
      "memory usage: 23.6+ KB\n"
     ]
    }
   ],
   "source": [
    "#Recognising categorical variables as categorical.\n",
    "#Converting categorical columns to categorical \n",
    "df['Category'] = pd.Categorical(df['Category'])\n",
    "df['Gender'] = pd.Categorical(df['Gender'])\n",
    "df['City'] = pd.Categorical(df['City'])\n",
    "df['Credit_Limit'] = pd.Categorical(df['Credit_Limit'])\n",
    "df['No_of_Transactions'] = pd.Categorical(df['No_of_Transactions'])\n",
    "df['Card_Type'] = pd.Categorical(df['Card_Type'])\n",
    "df['Is_fraud']= pd.Categorical(df['Is_fraud'])\n",
    "df['Authentication'] = pd.Categorical(df['Authentication'])\n",
    "df.info()"
   ]
  },
  {
   "cell_type": "code",
   "execution_count": 721,
   "metadata": {},
   "outputs": [
    {
     "name": "stdout",
     "output_type": "stream",
     "text": [
      "<class 'pandas.core.frame.DataFrame'>\n",
      "RangeIndex: 287 entries, 0 to 286\n",
      "Data columns (total 24 columns):\n",
      " #   Column                    Non-Null Count  Dtype         \n",
      "---  ------                    --------------  -----         \n",
      " 0   Transaction_Number        287 non-null    int64         \n",
      " 1   Customer_ID               287 non-null    float64       \n",
      " 2   Time_stamp_changed        287 non-null    datetime64[ns]\n",
      " 3   Category                  287 non-null    category      \n",
      " 4   Amount_Transacted         287 non-null    float64       \n",
      " 5   First                     287 non-null    object        \n",
      " 6   Last                      287 non-null    object        \n",
      " 7   Gender                    287 non-null    category      \n",
      " 8   Street                    287 non-null    object        \n",
      " 9   City                      287 non-null    category      \n",
      " 10  Is_fraud                  287 non-null    category      \n",
      " 11  Credit_Limit              287 non-null    category      \n",
      " 12  No_of_Transactions        287 non-null    category      \n",
      " 13  Amounts_received_per_day  287 non-null    int64         \n",
      " 14  Card_Type                 287 non-null    category      \n",
      " 15  Authentication            287 non-null    category      \n",
      " 16  Category_code             287 non-null    int8          \n",
      " 17  Gender_code               287 non-null    int8          \n",
      " 18  City_code                 287 non-null    int8          \n",
      " 19  Credit_Limit_code         287 non-null    int8          \n",
      " 20  No_of_Transactions_code   287 non-null    int8          \n",
      " 21  Card_Type_code            287 non-null    int8          \n",
      " 22  Is_fraud_code             287 non-null    int8          \n",
      " 23  Authentication_code       287 non-null    int8          \n",
      "dtypes: category(8), datetime64[ns](1), float64(2), int64(2), int8(8), object(3)\n",
      "memory usage: 25.8+ KB\n"
     ]
    }
   ],
   "source": [
    "#Making new colums with codes instead of string\n",
    "df['Category_code'] = df['Category'].cat.codes\n",
    "df['Gender_code'] = df['Gender'].cat.codes\n",
    "df['City_code'] = df['City'].cat.codes\n",
    "df['Credit_Limit_code'] = df['Credit_Limit'].cat.codes\n",
    "df['No_of_Transactions_code'] = df['No_of_Transactions'].cat.codes\n",
    "df['Card_Type_code'] = df['Card_Type'].cat.codes\n",
    "df['Is_fraud_code']= df['Is_fraud'].cat.codes\n",
    "df['Authentication_code']= df['Authentication'].cat.codes\n",
    "df.info()"
   ]
  },
  {
   "cell_type": "code",
   "execution_count": 722,
   "metadata": {},
   "outputs": [
    {
     "name": "stdout",
     "output_type": "stream",
     "text": [
      "                 0\n",
      "Category          \n",
      "entertainment    0\n",
      "food_dining      1\n",
      "gas_transport    2\n",
      "grocery_net      3\n",
      "grocery_pos      4\n",
      "health_fitness   5\n",
      "home             6\n",
      "kids_pets        7\n",
      "misc_net         8\n",
      "misc_pos         9\n",
      "personal_care   10\n",
      "shopping_net    11\n",
      "shopping_pos    12\n",
      "travel          13\n",
      "        0\n",
      "Gender   \n",
      "Female  0\n",
      "Male    1\n",
      "                         0\n",
      "City                      \n",
      "Alpharetta               0\n",
      "Aurora                   1\n",
      "Bigelow                  2\n",
      "Browning                 3\n",
      "Burns Flat               4\n",
      "Campbell                 5\n",
      "Cape Towm                6\n",
      "Cape Town                7\n",
      "Cazenovia                8\n",
      "Collettsville            9\n",
      "Coulee Dam              10\n",
      "De Lancey               11\n",
      "De Queen                12\n",
      "Deadwood                13\n",
      "Easton                  14\n",
      "Elizabeth               15\n",
      "Fields Landing          16\n",
      "Gibsonville             17\n",
      "Ironton                 18\n",
      "Iselin                  19\n",
      "Kirtland Afb            20\n",
      "Laredo                  21\n",
      "Louisville              22\n",
      "Madisonville            23\n",
      "Manquin                 24\n",
      "Marathon                25\n",
      "Matawan                 26\n",
      "Montrose                27\n",
      "Nazareth                28\n",
      "New York City           29\n",
      "Nobleboro               30\n",
      "Palermo                 31\n",
      "Paris                   32\n",
      "Parker Dam              33\n",
      "Phil Campbell           34\n",
      "Philadelphia            35\n",
      "Ravenna                 36\n",
      "Republic                37\n",
      "San Antonio             38\n",
      "San Diego               39\n",
      "San Jose                40\n",
      "Scotts Mills            41\n",
      "Shields                 42\n",
      "Smock                   43\n",
      "Tomahawk                44\n",
      "University              45\n",
      "Utica                   46\n",
      "Washington Court House  47\n",
      "              0\n",
      "Credit_Limit   \n",
      "400000        0\n",
      "500000        1\n",
      "600000        2\n",
      "700000        3\n",
      "750000        4\n",
      "900000        5\n",
      "1000000       6\n",
      "                    0\n",
      "No_of_Transactions   \n",
      "1                   0\n",
      "2                   1\n",
      "3                   2\n",
      "4                   3\n",
      "5                   4\n",
      "6                   5\n",
      "7                   6\n",
      "8                   7\n",
      "9                   8\n",
      "           0\n",
      "Card_Type   \n",
      "Gold       0\n",
      "Platinum   1\n",
      "Signature  2\n",
      "          0\n",
      "Is_fraud   \n",
      "0         0\n",
      "1         1\n",
      "                0\n",
      "Authentication   \n",
      "Failed          0\n",
      "Success         1\n"
     ]
    }
   ],
   "source": [
    "#Checking which categories belong to which code\n",
    "categories = df['Category_code'].groupby(df['Category']).unique().apply(pd.Series)\n",
    "gender = df['Gender_code'].groupby(df['Gender']).unique().apply(pd.Series)\n",
    "cities =df['City_code'].groupby(df['City']).unique().apply(pd.Series)\n",
    "credit_limit = df['Credit_Limit_code'].groupby(df['Credit_Limit']).unique().apply(pd.Series)\n",
    "transactions =df['No_of_Transactions_code'].groupby(df['No_of_Transactions']).unique().apply(pd.Series)\n",
    "cards =df['Card_Type_code'].groupby(df['Card_Type']).unique().apply(pd.Series)\n",
    "fraud=df['Is_fraud_code'].groupby(df['Is_fraud']).unique().apply(pd.Series)\n",
    "auth = df['Authentication_code'].groupby(df['Authentication']).unique().apply(pd.Series)\n",
    "print(categories)\n",
    "print(gender)\n",
    "print(cities) \n",
    "print(credit_limit)\n",
    "print(transactions)\n",
    "print(cards)\n",
    "print(fraud)\n",
    "print(auth)"
   ]
  },
  {
   "cell_type": "code",
   "execution_count": 723,
   "metadata": {},
   "outputs": [
    {
     "name": "stdout",
     "output_type": "stream",
     "text": [
      "<class 'pandas.core.frame.DataFrame'>\n",
      "RangeIndex: 287 entries, 0 to 286\n",
      "Data columns (total 12 columns):\n",
      " #   Column                    Non-Null Count  Dtype         \n",
      "---  ------                    --------------  -----         \n",
      " 0   Customer_ID               287 non-null    float64       \n",
      " 1   Time_stamp_changed        287 non-null    datetime64[ns]\n",
      " 2   Amount_Transacted         287 non-null    float64       \n",
      " 3   Amounts_received_per_day  287 non-null    int64         \n",
      " 4   Category_code             287 non-null    int8          \n",
      " 5   Gender_code               287 non-null    int8          \n",
      " 6   City_code                 287 non-null    int8          \n",
      " 7   Credit_Limit_code         287 non-null    int8          \n",
      " 8   No_of_Transactions_code   287 non-null    int8          \n",
      " 9   Card_Type_code            287 non-null    int8          \n",
      " 10  Is_fraud_code             287 non-null    int8          \n",
      " 11  Authentication_code       287 non-null    int8          \n",
      "dtypes: datetime64[ns](1), float64(2), int64(1), int8(8)\n",
      "memory usage: 11.3 KB\n"
     ]
    }
   ],
   "source": [
    "#Make new dataframe without string variables and Transaction Number column\n",
    "df2 = df.drop(['Transaction_Number','First','Last','Street','Category', 'Gender', 'City','Credit_Limit', 'Card_Type', 'No_of_Transactions', 'Card_Type', 'Is_fraud', 'Authentication'],axis=1)\n",
    "df2.info()"
   ]
  },
  {
   "cell_type": "markdown",
   "metadata": {},
   "source": [
    "## Exploratory Data Analysis "
   ]
  },
  {
   "cell_type": "code",
   "execution_count": 724,
   "metadata": {},
   "outputs": [
    {
     "data": {
      "text/html": [
       "<div>\n",
       "<style scoped>\n",
       "    .dataframe tbody tr th:only-of-type {\n",
       "        vertical-align: middle;\n",
       "    }\n",
       "\n",
       "    .dataframe tbody tr th {\n",
       "        vertical-align: top;\n",
       "    }\n",
       "\n",
       "    .dataframe thead th {\n",
       "        text-align: right;\n",
       "    }\n",
       "</style>\n",
       "<table border=\"1\" class=\"dataframe\">\n",
       "  <thead>\n",
       "    <tr style=\"text-align: right;\">\n",
       "      <th></th>\n",
       "      <th>Customer_ID</th>\n",
       "      <th>Time_stamp_changed</th>\n",
       "      <th>Amount_Transacted</th>\n",
       "      <th>Amounts_received_per_day</th>\n",
       "      <th>Category_code</th>\n",
       "      <th>Gender_code</th>\n",
       "      <th>City_code</th>\n",
       "      <th>Credit_Limit_code</th>\n",
       "      <th>No_of_Transactions_code</th>\n",
       "      <th>Card_Type_code</th>\n",
       "      <th>Is_fraud_code</th>\n",
       "      <th>Authentication_code</th>\n",
       "    </tr>\n",
       "  </thead>\n",
       "  <tbody>\n",
       "    <tr>\n",
       "      <th>count</th>\n",
       "      <td>287.000000</td>\n",
       "      <td>287</td>\n",
       "      <td>2.870000e+02</td>\n",
       "      <td>287.000000</td>\n",
       "      <td>287.000000</td>\n",
       "      <td>287.000000</td>\n",
       "      <td>287.000000</td>\n",
       "      <td>287.000000</td>\n",
       "      <td>287.000000</td>\n",
       "      <td>287.000000</td>\n",
       "      <td>287.000000</td>\n",
       "      <td>287.000000</td>\n",
       "    </tr>\n",
       "    <tr>\n",
       "      <th>mean</th>\n",
       "      <td>5.814007</td>\n",
       "      <td>2019-02-25 08:10:49.128919808</td>\n",
       "      <td>4.486565e+05</td>\n",
       "      <td>42971.885017</td>\n",
       "      <td>6.630662</td>\n",
       "      <td>0.383275</td>\n",
       "      <td>25.512195</td>\n",
       "      <td>3.160279</td>\n",
       "      <td>1.205575</td>\n",
       "      <td>0.993031</td>\n",
       "      <td>0.491289</td>\n",
       "      <td>0.986063</td>\n",
       "    </tr>\n",
       "    <tr>\n",
       "      <th>min</th>\n",
       "      <td>1.800000</td>\n",
       "      <td>2019-01-01 00:12:00</td>\n",
       "      <td>1.056900e+05</td>\n",
       "      <td>10003.000000</td>\n",
       "      <td>0.000000</td>\n",
       "      <td>0.000000</td>\n",
       "      <td>0.000000</td>\n",
       "      <td>0.000000</td>\n",
       "      <td>0.000000</td>\n",
       "      <td>0.000000</td>\n",
       "      <td>0.000000</td>\n",
       "      <td>0.000000</td>\n",
       "    </tr>\n",
       "    <tr>\n",
       "      <th>25%</th>\n",
       "      <td>4.040000</td>\n",
       "      <td>2019-01-10 13:47:00</td>\n",
       "      <td>2.021625e+05</td>\n",
       "      <td>12342.000000</td>\n",
       "      <td>4.000000</td>\n",
       "      <td>0.000000</td>\n",
       "      <td>15.000000</td>\n",
       "      <td>1.000000</td>\n",
       "      <td>0.000000</td>\n",
       "      <td>0.000000</td>\n",
       "      <td>0.000000</td>\n",
       "      <td>1.000000</td>\n",
       "    </tr>\n",
       "    <tr>\n",
       "      <th>50%</th>\n",
       "      <td>6.300000</td>\n",
       "      <td>2019-02-02 02:51:00</td>\n",
       "      <td>4.180090e+05</td>\n",
       "      <td>31044.000000</td>\n",
       "      <td>6.000000</td>\n",
       "      <td>0.000000</td>\n",
       "      <td>27.000000</td>\n",
       "      <td>3.000000</td>\n",
       "      <td>1.000000</td>\n",
       "      <td>1.000000</td>\n",
       "      <td>0.000000</td>\n",
       "      <td>1.000000</td>\n",
       "    </tr>\n",
       "    <tr>\n",
       "      <th>75%</th>\n",
       "      <td>7.330000</td>\n",
       "      <td>2019-04-10 17:04:30</td>\n",
       "      <td>5.968660e+05</td>\n",
       "      <td>55323.000000</td>\n",
       "      <td>10.000000</td>\n",
       "      <td>1.000000</td>\n",
       "      <td>35.000000</td>\n",
       "      <td>5.000000</td>\n",
       "      <td>2.000000</td>\n",
       "      <td>2.000000</td>\n",
       "      <td>1.000000</td>\n",
       "      <td>1.000000</td>\n",
       "    </tr>\n",
       "    <tr>\n",
       "      <th>max</th>\n",
       "      <td>7.540000</td>\n",
       "      <td>2019-07-21 03:00:00</td>\n",
       "      <td>1.926072e+06</td>\n",
       "      <td>832630.000000</td>\n",
       "      <td>13.000000</td>\n",
       "      <td>1.000000</td>\n",
       "      <td>47.000000</td>\n",
       "      <td>6.000000</td>\n",
       "      <td>8.000000</td>\n",
       "      <td>2.000000</td>\n",
       "      <td>1.000000</td>\n",
       "      <td>1.000000</td>\n",
       "    </tr>\n",
       "    <tr>\n",
       "      <th>std</th>\n",
       "      <td>1.743172</td>\n",
       "      <td>NaN</td>\n",
       "      <td>2.548651e+05</td>\n",
       "      <td>53833.460028</td>\n",
       "      <td>3.580664</td>\n",
       "      <td>0.487034</td>\n",
       "      <td>12.234553</td>\n",
       "      <td>2.239683</td>\n",
       "      <td>1.471015</td>\n",
       "      <td>0.784433</td>\n",
       "      <td>0.500797</td>\n",
       "      <td>0.117435</td>\n",
       "    </tr>\n",
       "  </tbody>\n",
       "</table>\n",
       "</div>"
      ],
      "text/plain": [
       "       Customer_ID             Time_stamp_changed  Amount_Transacted  \\\n",
       "count   287.000000                            287       2.870000e+02   \n",
       "mean      5.814007  2019-02-25 08:10:49.128919808       4.486565e+05   \n",
       "min       1.800000            2019-01-01 00:12:00       1.056900e+05   \n",
       "25%       4.040000            2019-01-10 13:47:00       2.021625e+05   \n",
       "50%       6.300000            2019-02-02 02:51:00       4.180090e+05   \n",
       "75%       7.330000            2019-04-10 17:04:30       5.968660e+05   \n",
       "max       7.540000            2019-07-21 03:00:00       1.926072e+06   \n",
       "std       1.743172                            NaN       2.548651e+05   \n",
       "\n",
       "       Amounts_received_per_day  Category_code  Gender_code   City_code  \\\n",
       "count                287.000000     287.000000   287.000000  287.000000   \n",
       "mean               42971.885017       6.630662     0.383275   25.512195   \n",
       "min                10003.000000       0.000000     0.000000    0.000000   \n",
       "25%                12342.000000       4.000000     0.000000   15.000000   \n",
       "50%                31044.000000       6.000000     0.000000   27.000000   \n",
       "75%                55323.000000      10.000000     1.000000   35.000000   \n",
       "max               832630.000000      13.000000     1.000000   47.000000   \n",
       "std                53833.460028       3.580664     0.487034   12.234553   \n",
       "\n",
       "       Credit_Limit_code  No_of_Transactions_code  Card_Type_code  \\\n",
       "count         287.000000               287.000000      287.000000   \n",
       "mean            3.160279                 1.205575        0.993031   \n",
       "min             0.000000                 0.000000        0.000000   \n",
       "25%             1.000000                 0.000000        0.000000   \n",
       "50%             3.000000                 1.000000        1.000000   \n",
       "75%             5.000000                 2.000000        2.000000   \n",
       "max             6.000000                 8.000000        2.000000   \n",
       "std             2.239683                 1.471015        0.784433   \n",
       "\n",
       "       Is_fraud_code  Authentication_code  \n",
       "count     287.000000           287.000000  \n",
       "mean        0.491289             0.986063  \n",
       "min         0.000000             0.000000  \n",
       "25%         0.000000             1.000000  \n",
       "50%         0.000000             1.000000  \n",
       "75%         1.000000             1.000000  \n",
       "max         1.000000             1.000000  \n",
       "std         0.500797             0.117435  "
      ]
     },
     "execution_count": 724,
     "metadata": {},
     "output_type": "execute_result"
    }
   ],
   "source": [
    "#Summary of the data\n",
    "df2.describe(datetime_is_numeric=True)\n",
    "#There is a wide range of values in the amount transacted column so we can't decide if outliers exist from the summary"
   ]
  },
  {
   "cell_type": "code",
   "execution_count": 725,
   "metadata": {},
   "outputs": [
    {
     "data": {
      "text/plain": [
       "Customer_ID                 0\n",
       "Time_stamp_changed          0\n",
       "Amount_Transacted           0\n",
       "Amounts_received_per_day    0\n",
       "Category_code               0\n",
       "Gender_code                 0\n",
       "City_code                   0\n",
       "Credit_Limit_code           0\n",
       "No_of_Transactions_code     0\n",
       "Card_Type_code              0\n",
       "Is_fraud_code               0\n",
       "Authentication_code         0\n",
       "dtype: int64"
      ]
     },
     "execution_count": 725,
     "metadata": {},
     "output_type": "execute_result"
    }
   ],
   "source": [
    "#number of missing values in each column\n",
    "df2.isnull().sum()"
   ]
  },
  {
   "cell_type": "markdown",
   "metadata": {},
   "source": [
    "In our dataset the columns we rae taking into consideration are;\n",
    "1. Customer ID (Int)\n",
    "2. Time_stamp_changed (Date time column converted to numeric)\n",
    "3. Amount_Transacted(Int, ratio scale variable)\n",
    "4. Amounts_received_per_day (Int, ratio variable)\n",
    "5. Category (int, Nominal variable)\n",
    "6. Gender (int, Nominal)\n",
    "7. City (int, Nominal)\n",
    "8. Credit_Limit (int, nominal)\n",
    "9. No_of_Transactions (int, ordinal)\n",
    "10. Card_Type (int, nominal)\n",
    "11. Is_fraud (int, nominal) \n",
    "12. Authentication_code (int, nominal)\n"
   ]
  },
  {
   "cell_type": "code",
   "execution_count": 726,
   "metadata": {},
   "outputs": [],
   "source": [
    "#function to detect outliers in numerical variables\n",
    "def find_outliers_IQR(df):\n",
    "   q1=df.quantile(0.25)\n",
    "   q3=df.quantile(0.75)\n",
    "   IQR=q3-q1\n",
    "   outliers = df[((df<(q1-1.5*IQR)) | (df>(q3+1.5*IQR)))]\n",
    "   return outliers"
   ]
  },
  {
   "cell_type": "code",
   "execution_count": 727,
   "metadata": {},
   "outputs": [
    {
     "name": "stdout",
     "output_type": "stream",
     "text": [
      "number of outliers in Customer_ID is: 0\n",
      "number of outliers in Time_stamp_changed is: 0\n",
      "number of outliers in Amount_Transacted is: 2\n",
      "number of outliers in Amounts_received_per_day is: 1\n",
      "number of outliers in Category_code is: 0\n",
      "number of outliers in Gender_code is: 0\n",
      "number of outliers in City_code is: 0\n",
      "number of outliers in Credit_Limit_code is: 0\n",
      "number of outliers in No_of_Transactions_code is: 6\n",
      "number of outliers in Card_Type_code is: 0\n",
      "number of outliers in Is_fraud_code is: 0\n",
      "number of outliers in Authentication_code is: 4\n"
     ]
    }
   ],
   "source": [
    "#using the function to detect outliers in numerical variables\n",
    "for column in df2:\n",
    "    mycolumn= df2[column]\n",
    "    outliers = find_outliers_IQR(mycolumn)\n",
    "    print(f\"number of outliers in {column} is: {str(len(outliers))}\")"
   ]
  },
  {
   "cell_type": "code",
   "execution_count": 728,
   "metadata": {},
   "outputs": [
    {
     "name": "stdout",
     "output_type": "stream",
     "text": [
      "max outlier value: 1926072.0\n",
      "min outlier value: 1553907.0\n",
      "max outlier value: 832630\n",
      "min outlier value: 832630\n"
     ]
    }
   ],
   "source": [
    "#Getting exact outliers in the ratio scale variables which are amount transacted and amount recieved per day. \n",
    "#Note: The outliers in the nominal scale variables are meaningful so will not be treated.\n",
    "outliers_Amount_T = find_outliers_IQR(df2['Amount_Transacted'])\n",
    "print(\"max outlier value: \"+ str(outliers_Amount_T.max()))\n",
    "print(\"min outlier value: \"+ str(outliers_Amount_T.min()))\n",
    "\n",
    "outliers_Amount_R = find_outliers_IQR(df2['Amounts_received_per_day'])\n",
    "print(\"max outlier value: \"+ str(outliers_Amount_R.max()))\n",
    "print(\"min outlier value: \"+ str(outliers_Amount_R.min()))"
   ]
  },
  {
   "cell_type": "code",
   "execution_count": 729,
   "metadata": {},
   "outputs": [
    {
     "name": "stdout",
     "output_type": "stream",
     "text": [
      "<class 'pandas.core.frame.DataFrame'>\n",
      "Int64Index: 284 entries, 0 to 286\n",
      "Data columns (total 12 columns):\n",
      " #   Column                    Non-Null Count  Dtype         \n",
      "---  ------                    --------------  -----         \n",
      " 0   Customer_ID               284 non-null    float64       \n",
      " 1   Time_stamp_changed        284 non-null    datetime64[ns]\n",
      " 2   Amount_Transacted         284 non-null    float64       \n",
      " 3   Amounts_received_per_day  284 non-null    float64       \n",
      " 4   Category_code             284 non-null    int8          \n",
      " 5   Gender_code               284 non-null    int8          \n",
      " 6   City_code                 284 non-null    int8          \n",
      " 7   Credit_Limit_code         284 non-null    int8          \n",
      " 8   No_of_Transactions_code   284 non-null    int8          \n",
      " 9   Card_Type_code            284 non-null    int8          \n",
      " 10  Is_fraud_code             284 non-null    int8          \n",
      " 11  Authentication_code       284 non-null    int8          \n",
      "dtypes: datetime64[ns](1), float64(3), int8(8)\n",
      "memory usage: 13.3 KB\n"
     ]
    }
   ],
   "source": [
    "#Replace outliers in amount transcated and amount recieved column using imputation as if they were missing values\n",
    "#Identifying ids with outliers in amount transcated\n",
    "id= df2[df2['Amount_Transacted']== 1926072.0]\n",
    "#Giving outliers the value with missing value and dropping them\n",
    "df2.loc[df2['Amount_Transacted'] ==1926072, 'Amount_Transacted'] = np.nan\n",
    "df2.loc[df2['Amount_Transacted'] ==1553907, 'Amount_Transacted'] = np.nan\n",
    "df2.loc[df2['Amounts_received_per_day'] == 832630, 'Amounts_received_per_day'] = np.nan\n",
    "df2 = df2.dropna()\n",
    "df2.info()"
   ]
  },
  {
   "cell_type": "code",
   "execution_count": 730,
   "metadata": {},
   "outputs": [
    {
     "data": {
      "image/png": "[encoded data removed]",
      "text/plain": [
       "<Figure size 432x288 with 1 Axes>"
      ]
     },
     "metadata": {
      "needs_background": "light"
     },
     "output_type": "display_data"
    }
   ],
   "source": [
    "#box plot to check if outliers have been removed\n",
    "#Removing timestamp column since it is a time stamp column\n",
    "df3 = df2.drop(['Time_stamp_changed'], axis = 1)\n",
    "sns.boxplot(data = df3)\n",
    "plt.xticks(rotation=90);"
   ]
  },
  {
   "cell_type": "markdown",
   "metadata": {},
   "source": [
    "## Feature Selection"
   ]
  },
  {
   "cell_type": "code",
   "execution_count": 731,
   "metadata": {},
   "outputs": [
    {
     "name": "stdout",
     "output_type": "stream",
     "text": [
      "<class 'pandas.core.frame.DataFrame'>\n",
      "Int64Index: 284 entries, 0 to 286\n",
      "Data columns (total 12 columns):\n",
      " #   Column                    Non-Null Count  Dtype  \n",
      "---  ------                    --------------  -----  \n",
      " 0   Customer_ID               284 non-null    float64\n",
      " 1   Time_stamp_changed        284 non-null    int64  \n",
      " 2   Amount_Transacted         284 non-null    float64\n",
      " 3   Amounts_received_per_day  284 non-null    float64\n",
      " 4   Category_code             284 non-null    int8   \n",
      " 5   Gender_code               284 non-null    int8   \n",
      " 6   City_code                 284 non-null    int8   \n",
      " 7   Credit_Limit_code         284 non-null    int8   \n",
      " 8   No_of_Transactions_code   284 non-null    int8   \n",
      " 9   Card_Type_code            284 non-null    int8   \n",
      " 10  Is_fraud_code             284 non-null    int8   \n",
      " 11  Authentication_code       284 non-null    int8   \n",
      "dtypes: float64(3), int64(1), int8(8)\n",
      "memory usage: 13.3 KB\n"
     ]
    }
   ],
   "source": [
    "#Converting Time variable to ordinal in all 3 datasets\n",
    "df2['Time_stamp_changed']=df2['Time_stamp_changed'].apply(pd.Timestamp.toordinal)\n",
    "# df_norm['Time_stamp_changed']=df_norm['Time_stamp_changed'].apply(pd.Timestamp.toordinal)\n",
    "# df_stand['Time_stamp_changed']=df_stand['Time_stamp_changed'].apply(pd.Timestamp.toordinal)\n",
    "df2.info()"
   ]
  },
  {
   "cell_type": "code",
   "execution_count": 732,
   "metadata": {},
   "outputs": [
    {
     "data": {
      "image/png": "[encoded data removed]",
      "text/plain": [
       "<Figure size 864x720 with 2 Axes>"
      ]
     },
     "metadata": {
      "needs_background": "light"
     },
     "output_type": "display_data"
    }
   ],
   "source": [
    "# Using Pearson Correlation of all features (including target)\n",
    "plt.figure(figsize=(12,10))                      # creating a plot figure                              # compute correlation\n",
    "cor = df2.corr()\n",
    "sns.heatmap(cor, annot=True, cmap=plt.cm.Reds)   # plot heatmap\n",
    "plt.show()                                       # show heatmap"
   ]
  },
  {
   "cell_type": "markdown",
   "metadata": {},
   "source": [
    "From the plot above, we can see that credit limit and amount transacted sshow strong correlation so we test further with backward elimination below. "
   ]
  },
  {
   "cell_type": "code",
   "execution_count": 733,
   "metadata": {},
   "outputs": [],
   "source": [
    "# Choosing target variable and feature matrix for the 2 dataset (normalised and standardised)\n",
    "target_norm = df2['Is_fraud_code']\n",
    "features_norm = df2.drop(\"Is_fraud_code\", axis=1)\n",
    "# target_stand = df_stand['Is_fraud_code']\n",
    "# features_stand = df_stand.drop(\"Is_fraud_code\", axis=1)"
   ]
  },
  {
   "cell_type": "markdown",
   "metadata": {},
   "source": [
    "### Backward Feature Elimination\n",
    "This process goes through the following process\n",
    "1. Select a P-value level which is selcected as 0.05\n",
    "2. Fit the model with all features\n",
    "3. Which feature has highest P-value?\n",
    "4. Remove the feature with highest P-value\n",
    "5. Fit the model again (Step 2) \n",
    "6. Repeat the Backward Elimination until we remove all features with p-value higher the significance level\n",
    "\n",
    "\n",
    "The code below iterates through the predictors until only the significant variables are chosen\n",
    "\n"
   ]
  },
  {
   "cell_type": "code",
   "execution_count": 734,
   "metadata": {},
   "outputs": [
    {
     "name": "stdout",
     "output_type": "stream",
     "text": [
      "['Customer_ID', 'Time_stamp_changed', 'Amounts_received_per_day', 'Gender_code', 'City_code', 'Credit_Limit_code', 'No_of_Transactions_code', 'Card_Type_code', 'Authentication_code']\n"
     ]
    }
   ],
   "source": [
    "#Backward Elimination for normalised data\n",
    "X = features_norm\n",
    "y = target_norm\n",
    "cols = list(X.columns)\n",
    "pmax = 1\n",
    "while (len(cols)>0):\n",
    "    p= []\n",
    "    X_1 = X[cols]\n",
    "    X_1 = sm.add_constant(X_1)\n",
    "    model = sm.OLS(y,X_1).fit()\n",
    "    p = pd.Series(model.pvalues.values[1:],index = cols)      \n",
    "    pmax = max(p)\n",
    "    feature_with_p_max = p.idxmax()\n",
    "    if(pmax>0.05):\n",
    "        cols.remove(feature_with_p_max)\n",
    "    else:\n",
    "        break\n",
    "selected_features_BE = cols\n",
    "print(selected_features_BE)"
   ]
  },
  {
   "cell_type": "code",
   "execution_count": 735,
   "metadata": {},
   "outputs": [],
   "source": [
    "# #Backward Elimination for standardised data\n",
    "# X = features_stand\n",
    "# y = target_stand\n",
    "# cols = list(X.columns)\n",
    "# pmax = 1\n",
    "# while (len(cols)>0):\n",
    "#     p= []\n",
    "#     X_1 = X[cols]\n",
    "#     X_1 = sm.add_constant(X_1)\n",
    "#     model = sm.OLS(y,X_1).fit()\n",
    "#     p = pd.Series(model.pvalues.values[1:],index = cols)      \n",
    "#     pmax = max(p)\n",
    "#     feature_with_p_max = p.idxmax()\n",
    "#     if(pmax>0.05):\n",
    "#         cols.remove(feature_with_p_max)\n",
    "#     else:\n",
    "#         break\n",
    "# selected_features_BE = cols\n",
    "# print(selected_features_BE)"
   ]
  },
  {
   "cell_type": "markdown",
   "metadata": {},
   "source": [
    "## Feature Normalisation"
   ]
  },
  {
   "cell_type": "code",
   "execution_count": 736,
   "metadata": {},
   "outputs": [
    {
     "data": {
      "image/png": "[encoded data removed]",
      "text/plain": [
       "<Figure size 432x288 with 1 Axes>"
      ]
     },
     "metadata": {
      "needs_background": "light"
     },
     "output_type": "display_data"
    }
   ],
   "source": [
    "#Normalising Amount transacted and amount recieved\n",
    "#Creating copy of dataset\n",
    "df_norm = df2.copy()\n",
    "cols = ['Amount_Transacted', 'Amounts_received_per_day', 'Time_stamp_changed']\n",
    "df_norm[cols] = minmax_scale(df_norm[cols])\n",
    "df_norm.head()\n",
    "\n",
    "#Standardising Amount transacted and amount recieved\n",
    "df_stand = df2.copy()\n",
    "cols = ['Amount_Transacted', 'Amounts_received_per_day', 'Time_stamp_changed']\n",
    "df_stand[cols] = StandardScaler().fit_transform(df_stand[cols])\n",
    "df_stand.head()\n",
    "#Comparing  normalised and starndised data without time column\n",
    "#Removing time data from the datasets for box plot\n",
    "# df3 = df3.assign(Location=1)\n",
    "df_norm1 = df_norm.assign(Location=2)\n",
    "df_stand1 = df_stand.assign(Location=3)\n",
    "\n",
    "#Combining the 3 dataframes into 1 to have the box plot in one frame\n",
    "cdf = pd.concat([df_norm1, df_stand1])    \n",
    "mdf = pd.melt(cdf, id_vars=['Location'], var_name=['Variables'])\n",
    "\n",
    "bx = sns.boxplot(x=\"Location\", y=\"value\", hue=\"Variables\", data=mdf);    \n",
    "bx.legend(bbox_to_anchor= (1.03, 1) );\n",
    "plt.xticks(rotation = 90);"
   ]
  },
  {
   "cell_type": "markdown",
   "metadata": {},
   "source": [
    "### Checking for oversampling or undersampling in the data for our target variable fraud\n",
    "In all cases fraud is undersampled"
   ]
  },
  {
   "cell_type": "code",
   "execution_count": 737,
   "metadata": {},
   "outputs": [
    {
     "name": "stdout",
     "output_type": "stream",
     "text": [
      "(146, 12)\n",
      "(138, 12)\n"
     ]
    }
   ],
   "source": [
    "#For normalised Dataset\n",
    "legit_norm= df_norm[df_norm.Is_fraud_code== 0]\n",
    "fraud_norm = df_norm[df_norm.Is_fraud_code == 1]\n",
    "print(legit_norm.shape)\n",
    "print(fraud_norm.shape)"
   ]
  },
  {
   "cell_type": "code",
   "execution_count": 738,
   "metadata": {},
   "outputs": [
    {
     "name": "stdout",
     "output_type": "stream",
     "text": [
      "(146, 12)\n",
      "(138, 12)\n"
     ]
    }
   ],
   "source": [
    "#For standardised Dataset\n",
    "legit_stand= df_stand[df_stand.Is_fraud_code== 0]\n",
    "fraud_stand = df_stand[df_stand.Is_fraud_code == 1]\n",
    "print(legit_stand.shape)\n",
    "print(fraud_stand.shape)"
   ]
  },
  {
   "cell_type": "code",
   "execution_count": 739,
   "metadata": {},
   "outputs": [
    {
     "name": "stdout",
     "output_type": "stream",
     "text": [
      "<class 'pandas.core.frame.DataFrame'>\n",
      "Int64Index: 276 entries, 93 to 16\n",
      "Data columns (total 12 columns):\n",
      " #   Column                    Non-Null Count  Dtype  \n",
      "---  ------                    --------------  -----  \n",
      " 0   Customer_ID               276 non-null    float64\n",
      " 1   Time_stamp_changed        276 non-null    float64\n",
      " 2   Amount_Transacted         276 non-null    float64\n",
      " 3   Amounts_received_per_day  276 non-null    float64\n",
      " 4   Category_code             276 non-null    int8   \n",
      " 5   Gender_code               276 non-null    int8   \n",
      " 6   City_code                 276 non-null    int8   \n",
      " 7   Credit_Limit_code         276 non-null    int8   \n",
      " 8   No_of_Transactions_code   276 non-null    int8   \n",
      " 9   Card_Type_code            276 non-null    int8   \n",
      " 10  Is_fraud_code             276 non-null    int8   \n",
      " 11  Authentication_code       276 non-null    int8   \n",
      "dtypes: float64(4), int8(8)\n",
      "memory usage: 12.9 KB\n",
      "<class 'pandas.core.frame.DataFrame'>\n",
      "Int64Index: 276 entries, 204 to 38\n",
      "Data columns (total 12 columns):\n",
      " #   Column                    Non-Null Count  Dtype  \n",
      "---  ------                    --------------  -----  \n",
      " 0   Customer_ID               276 non-null    float64\n",
      " 1   Time_stamp_changed        276 non-null    float64\n",
      " 2   Amount_Transacted         276 non-null    float64\n",
      " 3   Amounts_received_per_day  276 non-null    float64\n",
      " 4   Category_code             276 non-null    int8   \n",
      " 5   Gender_code               276 non-null    int8   \n",
      " 6   City_code                 276 non-null    int8   \n",
      " 7   Credit_Limit_code         276 non-null    int8   \n",
      " 8   No_of_Transactions_code   276 non-null    int8   \n",
      " 9   Card_Type_code            276 non-null    int8   \n",
      " 10  Is_fraud_code             276 non-null    int8   \n",
      " 11  Authentication_code       276 non-null    int8   \n",
      "dtypes: float64(4), int8(8)\n",
      "memory usage: 12.9 KB\n"
     ]
    }
   ],
   "source": [
    "#Making sample equal and recombining dataset\n",
    "#Normalised dataset\n",
    "legit_norm = legit_norm.sample(n = 138)\n",
    "fraud_norm = fraud_norm.sample(n = 138)\n",
    "df_norm2 = pd.concat([legit_norm,fraud_norm], axis=0)\n",
    "df_norm2.info()\n",
    "\n",
    "#Standardised dataset\n",
    "legit_stand = legit_stand.sample(n = 138)\n",
    "fraud_stand = fraud_stand.sample(n = 138)\n",
    "df_stand2 = pd.concat([legit_stand,fraud_stand], axis=0)\n",
    "df_stand2.info()"
   ]
  },
  {
   "cell_type": "markdown",
   "metadata": {},
   "source": [
    "From Backward selection we chose the predictor variables\n",
    "1. 'Customer_ID',\n",
    "2. 'Time_stamp_changed'\n",
    "3. 'Amounts_received_per_day'\n",
    "4. 'Gender_code'\n",
    "5. 'City_code'\n",
    "6. 'Credit_Limit_code'\n",
    "7. 'No_of_Transactions_code'\n",
    "8. 'Card_Type_code'\n",
    "9. 'Authentication_code'"
   ]
  },
  {
   "cell_type": "code",
   "execution_count": 740,
   "metadata": {},
   "outputs": [],
   "source": [
    "#Splitting the data into features and targets for normalised data\n",
    "X_norm = df_norm2.drop(['Is_fraud_code', 'Amount_Transacted', 'Category_code'], axis=1)\n",
    "Y_norm = df_norm2['Is_fraud_code']\n"
   ]
  },
  {
   "cell_type": "code",
   "execution_count": 741,
   "metadata": {},
   "outputs": [],
   "source": [
    "#Splitting the data into features and targets for normalised data\n",
    "X_stand= df_norm2.drop(['Is_fraud_code', 'Amount_Transacted', 'Category_code'], axis=1)\n",
    "Y_stand = df_norm2['Is_fraud_code']"
   ]
  },
  {
   "cell_type": "code",
   "execution_count": 742,
   "metadata": {},
   "outputs": [
    {
     "name": "stdout",
     "output_type": "stream",
     "text": [
      "(276, 9) (220, 9) (56, 9)\n",
      "(276,) (220,) (56,)\n"
     ]
    }
   ],
   "source": [
    "#Split data into testing and training data for normalised data\n",
    "#We spilt the data by 20% test and 80%trains\n",
    "#Stratify evenly distributes the fraudulent and legit cases equally\n",
    "X_train, X_test, Y_train, Y_test = train_test_split(X_norm,Y_norm,test_size=0.2, stratify= Y_norm, random_state=2)\n",
    "print(X_norm.shape,X_train.shape, X_test.shape)\n",
    "print(Y_norm.shape, Y_train.shape, Y_test.shape)\n"
   ]
  },
  {
   "cell_type": "code",
   "execution_count": 743,
   "metadata": {},
   "outputs": [
    {
     "name": "stdout",
     "output_type": "stream",
     "text": [
      "Accuracy on training data 0.9590909090909091\n",
      "Accuracy on test data 0.9821428571428571\n"
     ]
    }
   ],
   "source": [
    "#Model Training for normalised data\n",
    "model = LogisticRegression( max_iter=1000)\n",
    "#Training the logistic regression model with normalised training data \n",
    "model.fit(X_train, Y_train);\n",
    "\n",
    "#Find the performance of the model with normalised data\n",
    "#Accuracy Score on training data\n",
    "X_train_prediction = model.predict(X_train)\n",
    "training_data_accuracy = accuracy_score(X_train_prediction, Y_train)\n",
    "print(\"Accuracy on training data\", training_data_accuracy)\n",
    "\n",
    "#Accuracy on test data\n",
    "X_test_prediction = model.predict(X_test)\n",
    "testing_data_accuracy = accuracy_score(X_test_prediction, Y_test)\n",
    "print(\"Accuracy on test data\", testing_data_accuracy)\n"
   ]
  },
  {
   "cell_type": "code",
   "execution_count": 744,
   "metadata": {},
   "outputs": [
    {
     "name": "stdout",
     "output_type": "stream",
     "text": [
      "              precision    recall  f1-score   support\n",
      "\n",
      "           0       0.96      1.00      0.98        27\n",
      "           1       1.00      0.97      0.98        29\n",
      "\n",
      "    accuracy                           0.98        56\n",
      "   macro avg       0.98      0.98      0.98        56\n",
      "weighted avg       0.98      0.98      0.98        56\n",
      "\n"
     ]
    }
   ],
   "source": [
    "print(classification_report(X_test_prediction, Y_test))"
   ]
  },
  {
   "cell_type": "code",
   "execution_count": 745,
   "metadata": {},
   "outputs": [],
   "source": [
    "import itertools\n",
    "def plot_confusion_matrix(cm, classes, title, normalize = False, cmap = plt.cm.Blues):\n",
    "    title = 'Confusion Matrix of {}'.format(title)\n",
    "    if normalize:\n",
    "        cm = cm.astype(float) / cm.sum(axis=1)[:, np.newaxis]\n",
    "\n",
    "    plt.imshow(cm, interpolation = 'nearest', cmap = cmap)\n",
    "    plt.title(title)\n",
    "    plt.colorbar()\n",
    "    tick_marks = np.arange(len(classes))\n",
    "    plt.xticks(tick_marks, classes, rotation = 45)\n",
    "    plt.yticks(tick_marks, classes)\n",
    "\n",
    "    fmt = '.2f' if normalize else 'd'\n",
    "    thresh = cm.max() / 2.\n",
    "    for i, j in itertools.product(range(cm.shape[0]), range(cm.shape[1])):\n",
    "        plt.text(j, i, format(cm[i, j], fmt),\n",
    "                 horizontalalignment = 'center',\n",
    "                 color = 'white' if cm[i, j] > thresh else 'black')\n",
    "\n",
    "    plt.tight_layout()\n",
    "    plt.ylabel('True label')\n",
    "    plt.xlabel('Predicted label')"
   ]
  },
  {
   "cell_type": "code",
   "execution_count": 746,
   "metadata": {},
   "outputs": [
    {
     "data": {
      "image/png": "[encoded data removed]",
      "text/plain": [
       "<Figure size 432x288 with 2 Axes>"
      ]
     },
     "metadata": {
      "needs_background": "light"
     },
     "output_type": "display_data"
    }
   ],
   "source": [
    "#Confusion Matrix\n",
    "lr_matrix = confusion_matrix(Y_test, X_test_prediction, labels = [0, 1]) \n",
    "lr_cm_plot = plot_confusion_matrix(lr_matrix, \n",
    "                                classes = ['Non-Default(0)','Default(1)'], \n",
    "                                normalize = False, title = 'Logistic Regression')\n",
    "plt.show()"
   ]
  },
  {
   "cell_type": "code",
   "execution_count": 747,
   "metadata": {},
   "outputs": [
    {
     "name": "stdout",
     "output_type": "stream",
     "text": [
      "{'Customer_ID': 8.9, 'Time_stamp_changed': ['2019-08-03 04:00:00'], 'Amounts_received_per_day': 90000, 'Gender_code': 1, 'City_code': 3, 'Credit_Limit_code': 1, 'No_of_Transactions_code': 5, 'Card_Type_code': 2, 'Authentication_code': 1}\n"
     ]
    }
   ],
   "source": [
    "import datetime\n",
    "import pickle\n",
    "new_person = {\n",
    "    'Customer_ID': 8.9,\n",
    "    'Time_stamp_changed': [\n",
    "               datetime.datetime(\n",
    "                   2019, \n",
    "                   8, \n",
    "                   3, \n",
    "                   4, \n",
    "                   0, \n",
    "                   0, \n",
    "                   00000\n",
    "              ).strftime(\"%Y-%m-%d %H:%M:%S\")],\n",
    "    'Amounts_received_per_day':90000,\n",
    "   'Gender_code':1,\n",
    "    'City_code':3,\n",
    "    'Credit_Limit_code':1,\n",
    "    'No_of_Transactions_code':5,\n",
    "    'Card_Type_code':2,\n",
    "    'Authentication_code':1\n",
    "}\n",
    "print(new_person)"
   ]
  }
 ],
 "metadata": {
  "kernelspec": {
   "display_name": "Python 3.10.4 64-bit",
   "language": "python",
   "name": "python3"
  },
  "language_info": {
   "codemirror_mode": {
    "name": "ipython",
    "version": 3
   },
   "file_extension": ".py",
   "mimetype": "text/x-python",
   "name": "python",
   "nbconvert_exporter": "python",
   "pygments_lexer": "ipython3",
   "version": "3.10.4"
  },
  "orig_nbformat": 4,
  "vscode": {
   "interpreter": {
    "hash": "0ff010205904bfe3eee581ff58f8f0b99bd85f9d9a45393812156d4e4d4c6c03"
   }
  }
 },
 "nbformat": 4,
 "nbformat_minor": 2
}
