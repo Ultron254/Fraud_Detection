{
 "cells": [
  {
   "cell_type": "markdown",
   "metadata": {},
   "source": [
    "## Group 3: Predictive fraud detection (Classification)\n"
   ]
  },
  {
   "cell_type": "code",
   "execution_count": null,
   "metadata": {},
   "outputs": [],
   "source": [
    "'''\n",
    "Group Members:\n",
    "    Allan Matano\n",
    "    Rosemary Kanyoro\n",
    "    Julie Ishimwe\n",
    "    Stacy Njimu\n",
    "    Carol Opiyo\n",
    "    Mercy Titus\n",
    "    Sandra Otieno\n",
    "    Faridah Nyaga\n",
    "\n",
    "'''"
   ]
  },
  {
   "cell_type": "code",
   "execution_count": null,
   "metadata": {},
   "outputs": [],
   "source": [
    "import pandas as pd\n",
    "import numpy as np\n",
    "import random\n",
    "import seaborn as sns\n",
    "import matplotlib.pyplot as plt\n",
    "\n",
    "from sklearn.model_selection import train_test_split\n",
    "from sklearn.linear_model import LogisticRegression\n",
    "from sklearn.metrics import accuracy_score\n",
    "\n",
    "\n",
    "df = pd.read_csv(\"Fraud Detection Credit Card Dataset.csv\")\n",
    "\n",
    "\n",
    "df2 = pd.read_csv('Main Dataset.csv')\n",
    "\n",
    "df"
   ]
  }
 ],
 "metadata": {
  "language_info": {
   "name": "python"
  },
  "orig_nbformat": 4
 },
 "nbformat": 4,
 "nbformat_minor": 2
}
