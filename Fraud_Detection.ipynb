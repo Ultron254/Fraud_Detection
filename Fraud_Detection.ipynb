{
 "cells": [
  {
   "cell_type": "markdown",
   "metadata": {},
   "source": [
    "## Group 3: Predictive fraud detection (Classification)\n"
   ]
  },
  {
   "cell_type": "code",
   "execution_count": null,
   "metadata": {},
   "outputs": [],
   "source": [
    "'''\n",
    "Group Members:\n",
    "    Allan Matano\n",
    "    Rosemary Kanyoro\n",
    "    Julie Ishimwe\n",
    "    Stacy Njimu\n",
    "    Carol Opiyo\n",
    "    Mercy Titus\n",
    "    Sandra Otieno\n",
    "    Faridah Nyaga\n",
    "\n",
    "'''"
   ]
  }
 ],
 "metadata": {
  "language_info": {
   "name": "python"
  },
  "orig_nbformat": 4
 },
 "nbformat": 4,
 "nbformat_minor": 2
}
