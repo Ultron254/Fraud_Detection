{
 "cells": [
  {
   "cell_type": "markdown",
   "metadata": {},
   "source": [
    "## Study 5: Classification \n",
    "## Fraud Detection\n",
    "### Goal:\n",
    "- Predict fraudulent cases in credit card transactions.\n",
    "\n",
    "### Approach:\n",
    "- Search and retrieve relevant data from any source of your choice.\n",
    "- Select relevant techniques to clean the data (missing values, outliers, wrong data types etc.)\n",
    "- Choose the correct feature selection technique for a classification problem.\n",
    "- Perform feature normalization on the data set.\n",
    "- Use credit card transactions and the information on its account-holder as attributes (i.e., When does a customer buy, what does he buy, how often he pays on time, etc.)\n",
    "- Label past transactions as fraud or fair transactions. This forms the class attribute.\n",
    "- Build a model for the class of the transactions.\n",
    "- Use this model to detect fraud by observing credit card transactions on an account."
   ]
  },
  {
   "cell_type": "markdown",
   "metadata": {},
   "source": [
    "## Group 3 \n",
    "| Member | Admission Number | \n",
    "| --------------- | --------------- | \n",
    "| Allan Matano | 94946 |\n",
    "| Carol Opiyo |  | \n",
    "| Faridah Nyaga |  | \n",
    "| Julie Ishimwe | 149483  | \n",
    "| Mercy Titus |  | \n",
    "| Sandra Otieno |  | \n",
    "| Stacy Njimu|  | \n",
    "| Rosemary Kanyoro |  | "
   ]
  },
  {
   "cell_type": "markdown",
   "metadata": {},
   "source": [
    "## Solution\n",
    "## Data Description\n",
    "The data used in this assignment was adopted from [Credit Card Transactions Fraud Detection Dataset](https://www.kaggle.com/datasets/kartik2112/fraud-detection) in Kaggle. The data is a simulated credit card transaction dataset containing legitimate and fraud transactions from the duration 1st Jan 2019 - 31st Dec 2020. It covers credit cards of 1000 customers doing transactions with a pool of 800 merchants.\n",
    "\n",
    "~~~\n",
    "NOTE:\n",
    "In the approach given in the question it is indicated that we should label past transactions as fraud or fair transactions forming the target variable but we were able to get data with the fraud target variable. Therefore this is not a step that is addressed in this assignment. \n",
    "~~~\n",
    "\n",
    "Only certain columns and from the kaggle dataset were incorporated into the dataset we used and they are:\n",
    "\n",
    "1. Transaction Number\n",
    "2. Customer ID\t\n",
    "3. Time stamp \t\n",
    "4. Category\n",
    "5. Amount Transacted \n",
    "6. First Name\n",
    "7. Last\n",
    "8. Gender\n",
    "9. Street\n",
    "10. City\n",
    "11. Is fraud (Which is the target variable)\n",
    "\n",
    "We added our own columns which are:\n",
    "\n",
    "1. Credit Limit\n",
    "2. Number of Transactions\n",
    "3. Amounts received per day\n",
    "4. Card Type\n",
    "5. Authentication\n",
    "\n",
    "**NOTE:** We changed the values in the amount transacted column to our own values. \n",
    "\n",
    "We extracted 287 entries from the kaggle dataset. However we added our own features as mentioned above. The 287 entries include both fraudulent and legitimate transactions. To make the columns we added meaningful we used the following logic.\n",
    "1. We made it so that our dataset only contains 1 or 2 legitimate transactions every day in order to make the number of transactions column a useful predictor for fraud. The majority of the fraudulent transactions in our dataset had more than two transactions every day.\n",
    "2. Each person received a particular card type with a set credit limit, and in some fraud cases, we included situations where the limit is exceeded in order to make the credit limit and card type useful predictors for fraud. For a particular card type, there are different credit limits, for example the signature card has a credit limit of both 400,000 and 500,000, the gold card has a credit limit of 600,000, 700,000 and 750,000 and the platinum card has a credit limit of 900,000 and 1,000,000. \n",
    "3. We introduced an authentication field that returns success after a successful transaction, and fail whenever a transaction is unsuccessful. To make this column a useful predictor, we only created fail cases for the fraudulent transactions."
   ]
  },
  {
   "cell_type": "code",
   "execution_count": null,
   "metadata": {},
   "outputs": [],
   "source": [
    "#Libraries\n",
    "import pandas as pd\n",
    "import numpy as np\n",
    "import random\n",
    "import seaborn as sns\n",
    "import matplotlib.pyplot as plt\n",
    "from sklearn.model_selection import train_test_split\n",
    "from sklearn.linear_model import LogisticRegression\n",
    "from sklearn.metrics import accuracy_score"
   ]
  },
  {
   "cell_type": "code",
   "execution_count": null,
   "metadata": {},
   "outputs": [],
   "source": [
    "#Dataset\n",
    "df = pd.read_csv(\"Fraud Detection Credit Card Dataset.csv\")\n",
    "df"
   ]
  }
 ],
 "metadata": {
  "kernelspec": {
   "display_name": "Python 3.10.4 64-bit",
   "language": "python",
   "name": "python3"
  },
  "language_info": {
   "name": "python",
   "version": "3.10.4"
  },
  "orig_nbformat": 4,
  "vscode": {
   "interpreter": {
    "hash": "0ff010205904bfe3eee581ff58f8f0b99bd85f9d9a45393812156d4e4d4c6c03"
   }
  }
 },
 "nbformat": 4,
 "nbformat_minor": 2
}
