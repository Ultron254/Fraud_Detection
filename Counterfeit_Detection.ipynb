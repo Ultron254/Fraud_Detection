{
  "cells": [
    {
      "cell_type": "markdown",
      "metadata": {
        "id": "_6jON6HKYVG1"
      },
      "source": [
        "## Online Banking Fraud/Counterfeit Detection\n",
        "### Goal:\n",
        "- Predict fraudulent/counterfeit cases in credit card transactions.\n",
        "\n",
        "### Approach:\n",
        "- Search and retrieve relevant data from Kaggle.\n",
        "- Select relevant techniques to clean the data (missing values, outliers, wrong data types etc.)\n",
        "- Choose the correct feature selection technique for a classification problem.\n",
        "- Perform feature normalization on the data set.\n",
        "- Use credit card transactions and the information on its account-holder as attributes (i.e., When does a customer buy, what does he buy, how often he pays on time, etc.)\n",
        "- Label past transactions as fraud or fair transactions. This forms the class attribute.\n",
        "- Build a model for the class of the transactions.\n",
        "- Use this model to detect fraud by observing credit card transactions on an account."
      ]
    },
    {
      "cell_type": "markdown",
      "metadata": {
        "id": "lU0a9mZxYVG5"
      },
      "source": []
    },
    {
      "cell_type": "markdown",
      "metadata": {
        "id": "LTNN4quoYVG5"
      },
      "source": [
        "## Solution\n",
        "## Data Description\n",
        "The data used was adopted from [Credit Card Transactions Fraud Detection Dataset](https://www.kaggle.com/datasets/kartik2112/fraud-detection) in Kaggle. The data is a simulated credit card transaction dataset containing legitimate and fraud transactions from the duration 1st Jan 2019 - 31st Dec 2020. It covers credit cards of 1000 customers doing transactions with a pool of 800 merchants. This dataset was obtained from the United States.\n",
        "\n",
        "The dataset is split into a training data and test data in order to quantitfy the accuracy of the model.\n",
        "\n",
        "\n",
        ">NOTE:\n",
        ">In the approach given in the question it is indicated that we should label past transactions as fraud or fair transactions forming the target variable but we were able to get data with the fraud target variable. Therefore this is not a step that is addressed in this assignment. We used a supervised learning approach in this assignment\n",
        ">\n",
        ">\n",
        "\n",
        "Only certain columns and from the kaggle dataset were incorporated into the dataset that was used and they are:\n",
        "\n",
        "1. \"Transaction Number\" - Unique identifier for the Transactions\n",
        "2. \"Customer ID\" - Unique identifier for the customers\n",
        "3. \"Time stamp\" - Indicates time of the transaction\n",
        "4. \"Category\" - This is the category of what was purchased\n",
        "5. \"Amount Transacted\" - This is the amount of the transaction\n",
        "6. \"First Name\" - First name of the customer\n",
        "7. \"Last\" - Last name of the customer\n",
        "8. \"Gender\" - Gender of customer\n",
        "9. \"Street\" - Street name where the customer is registered\n",
        "10. \"City\" - City name where the customer is registered\n",
        "11. \"Is fraud\" - This is the target variable\n",
        "\n",
        "New custom columns which were added are:\n",
        "\n",
        "1. \"Credit Limit\" - Limit of credit that each customer is worth\n",
        "2. \"Number of Transactions\" - Number of attempted transactions\n",
        "3. \"Amounts received per day\" - Amounts received per day\n",
        "4. \"Card Type\" - The card level type\n",
        "5. \"Authentication\" - Whether the authenication passed or failed\n",
        "\n",
        "**NOTE:** The values in the amount transacted column to were changed in order to better train the model. This is explained below:\n",
        "\n",
        "287 entries were extracted from the kaggle dataset. However custom features were added as mentioned. The 287 entries include both fraudulent and legitimate transactions. To make the columns more meaningful the following logic was used:\n",
        "1. The dataset was adjusted to only contains 1 or 2 legitimate transactions every day in order to make the 'number of transactions' column a useful predictor for fraud. The majority of the fraudulent transactions in the dataset had more than two transactions every day.\n",
        "2. Each person received a particular card type with a set credit limit, and in some fraud cases, it was included situations where the limit is exceeded in order to make the credit limit and card type useful predictors for fraud. For a particular card type, there are different credit limits, for example the signature card has a credit limit of both 400,000 and 500,000, the gold card has a credit limit of 600,000, 700,000 and 750,000 and the platinum card has a credit limit of 900,000 and 1,000,000. \n",
        "3. An authentication field was included that returns success after a successful transaction, and fail whenever a transaction is unsuccessful. To make this column a useful predictor, fail cases were created for the fraudulent transactions."
      ]
    },
    {
      "cell_type": "markdown",
      "metadata": {
        "id": "bptu1vv5YVG7"
      },
      "source": [
        "# Python libraries "
      ]
    },
    {
      "cell_type": "code",
      "execution_count": 5,
      "metadata": {
        "colab": {
          "base_uri": "https://localhost:8080/"
        },
        "id": "YrQkIChKYVG7",
        "outputId": "9c6dac9c-a17f-4703-98ea-628c9ad3c5d5"
      },
      "outputs": [
        {
          "name": "stdout",
          "output_type": "stream",
          "text": [
            "Looking in indexes: https://pypi.org/simple, https://us-python.pkg.dev/colab-wheels/public/simple/\n",
            "Requirement already satisfied: pandas in /usr/local/lib/python3.8/dist-packages (1.3.5)\n",
            "Requirement already satisfied: python-dateutil>=2.7.3 in /usr/local/lib/python3.8/dist-packages (from pandas) (2.8.2)\n",
            "Requirement already satisfied: pytz>=2017.3 in /usr/local/lib/python3.8/dist-packages (from pandas) (2022.7)\n",
            "Requirement already satisfied: numpy>=1.17.3 in /usr/local/lib/python3.8/dist-packages (from pandas) (1.21.6)\n",
            "Requirement already satisfied: six>=1.5 in /usr/local/lib/python3.8/dist-packages (from python-dateutil>=2.7.3->pandas) (1.15.0)\n",
            "Looking in indexes: https://pypi.org/simple, https://us-python.pkg.dev/colab-wheels/public/simple/\n",
            "Requirement already satisfied: numpy in /usr/local/lib/python3.8/dist-packages (1.21.6)\n",
            "Looking in indexes: https://pypi.org/simple, https://us-python.pkg.dev/colab-wheels/public/simple/\n",
            "Requirement already satisfied: seaborn in /usr/local/lib/python3.8/dist-packages (0.11.2)\n",
            "Requirement already satisfied: pandas>=0.23 in /usr/local/lib/python3.8/dist-packages (from seaborn) (1.3.5)\n",
            "Requirement already satisfied: scipy>=1.0 in /usr/local/lib/python3.8/dist-packages (from seaborn) (1.7.3)\n",
            "Requirement already satisfied: numpy>=1.15 in /usr/local/lib/python3.8/dist-packages (from seaborn) (1.21.6)\n",
            "Requirement already satisfied: matplotlib>=2.2 in /usr/local/lib/python3.8/dist-packages (from seaborn) (3.2.2)\n",
            "Requirement already satisfied: kiwisolver>=1.0.1 in /usr/local/lib/python3.8/dist-packages (from matplotlib>=2.2->seaborn) (1.4.4)\n",
            "Requirement already satisfied: cycler>=0.10 in /usr/local/lib/python3.8/dist-packages (from matplotlib>=2.2->seaborn) (0.11.0)\n",
            "Requirement already satisfied: python-dateutil>=2.1 in /usr/local/lib/python3.8/dist-packages (from matplotlib>=2.2->seaborn) (2.8.2)\n",
            "Requirement already satisfied: pyparsing!=2.0.4,!=2.1.2,!=2.1.6,>=2.0.1 in /usr/local/lib/python3.8/dist-packages (from matplotlib>=2.2->seaborn) (3.0.9)\n",
            "Requirement already satisfied: pytz>=2017.3 in /usr/local/lib/python3.8/dist-packages (from pandas>=0.23->seaborn) (2022.7)\n",
            "Requirement already satisfied: six>=1.5 in /usr/local/lib/python3.8/dist-packages (from python-dateutil>=2.1->matplotlib>=2.2->seaborn) (1.15.0)\n",
            "Looking in indexes: https://pypi.org/simple, https://us-python.pkg.dev/colab-wheels/public/simple/\n",
            "Requirement already satisfied: matplotlib in /usr/local/lib/python3.8/dist-packages (3.2.2)\n",
            "Requirement already satisfied: pyparsing!=2.0.4,!=2.1.2,!=2.1.6,>=2.0.1 in /usr/local/lib/python3.8/dist-packages (from matplotlib) (3.0.9)\n",
            "Requirement already satisfied: python-dateutil>=2.1 in /usr/local/lib/python3.8/dist-packages (from matplotlib) (2.8.2)\n",
            "Requirement already satisfied: cycler>=0.10 in /usr/local/lib/python3.8/dist-packages (from matplotlib) (0.11.0)\n",
            "Requirement already satisfied: kiwisolver>=1.0.1 in /usr/local/lib/python3.8/dist-packages (from matplotlib) (1.4.4)\n",
            "Requirement already satisfied: numpy>=1.11 in /usr/local/lib/python3.8/dist-packages (from matplotlib) (1.21.6)\n",
            "Requirement already satisfied: six>=1.5 in /usr/local/lib/python3.8/dist-packages (from python-dateutil>=2.1->matplotlib) (1.15.0)\n",
            "Looking in indexes: https://pypi.org/simple, https://us-python.pkg.dev/colab-wheels/public/simple/\n",
            "Requirement already satisfied: scikit-learn in /usr/local/lib/python3.8/dist-packages (1.0.2)\n",
            "Requirement already satisfied: numpy>=1.14.6 in /usr/local/lib/python3.8/dist-packages (from scikit-learn) (1.21.6)\n",
            "Requirement already satisfied: joblib>=0.11 in /usr/local/lib/python3.8/dist-packages (from scikit-learn) (1.2.0)\n",
            "Requirement already satisfied: scipy>=1.1.0 in /usr/local/lib/python3.8/dist-packages (from scikit-learn) (1.7.3)\n",
            "Requirement already satisfied: threadpoolctl>=2.0.0 in /usr/local/lib/python3.8/dist-packages (from scikit-learn) (3.1.0)\n",
            "Looking in indexes: https://pypi.org/simple, https://us-python.pkg.dev/colab-wheels/public/simple/\n",
            "Requirement already satisfied: statsmodels in /usr/local/lib/python3.8/dist-packages (0.12.2)\n",
            "Requirement already satisfied: pandas>=0.21 in /usr/local/lib/python3.8/dist-packages (from statsmodels) (1.3.5)\n",
            "Requirement already satisfied: numpy>=1.15 in /usr/local/lib/python3.8/dist-packages (from statsmodels) (1.21.6)\n",
            "Requirement already satisfied: patsy>=0.5 in /usr/local/lib/python3.8/dist-packages (from statsmodels) (0.5.3)\n",
            "Requirement already satisfied: scipy>=1.1 in /usr/local/lib/python3.8/dist-packages (from statsmodels) (1.7.3)\n",
            "Requirement already satisfied: pytz>=2017.3 in /usr/local/lib/python3.8/dist-packages (from pandas>=0.21->statsmodels) (2022.7)\n",
            "Requirement already satisfied: python-dateutil>=2.7.3 in /usr/local/lib/python3.8/dist-packages (from pandas>=0.21->statsmodels) (2.8.2)\n",
            "Requirement already satisfied: six in /usr/local/lib/python3.8/dist-packages (from patsy>=0.5->statsmodels) (1.15.0)\n"
          ]
        }
      ],
      "source": [
        "#install package if not installed\n",
        "!pip3 install pandas\n",
        "!pip3 install numpy\n",
        "!pip3 install seaborn\n",
        "!pip3 install matplotlib\n",
        "!pip3 install scikit-learn\n",
        "!pip3 install statsmodels"
      ]
    },
    {
      "cell_type": "code",
      "execution_count": 6,
      "metadata": {
        "id": "DZ-VUXNMYVG8"
      },
      "outputs": [],
      "source": [
        "#Libraries\n",
        "import pandas as pd\n",
        "import numpy as np\n",
        "import seaborn as sns\n",
        "import matplotlib.pyplot as plt\n",
        "import statsmodels.api as sm\n",
        "from sklearn import preprocessing\n",
        "from sklearn.preprocessing import StandardScaler\n",
        "from sklearn.model_selection import train_test_split\n",
        "from sklearn.linear_model import LogisticRegression\n",
        "from sklearn.metrics import accuracy_score, classification_report, confusion_matrix\n",
        "import datetime as dt\n",
        "from sklearn.preprocessing import minmax_scale\n",
        "from pandas.api.types import CategoricalDtype\n",
        "from sklearn.feature_selection import SelectKBest\n",
        "from sklearn.feature_selection import mutual_info_classif\n",
        "from sklearn.linear_model import LassoCV\n"
      ]
    },
    {
      "cell_type": "markdown",
      "metadata": {
        "id": "_NAu7e99YVG8"
      },
      "source": [
        "# Loading file"
      ]
    },
    {
      "cell_type": "code",
      "execution_count": 11,
      "metadata": {
        "colab": {
          "base_uri": "https://localhost:8080/",
          "height": 444
        },
        "id": "OXBMlW3NYVG9",
        "outputId": "bb15bd67-a490-4f54-fccc-53cb06d85310"
      },
      "outputs": [
        {
          "data": {
            "text/html": [
              "\n",
              "  <div id=\"df-f8549438-bd6c-4efc-a2e4-81df2536270a\">\n",
              "    <div class=\"colab-df-container\">\n",
              "      <div>\n",
              "<style scoped>\n",
              "    .dataframe tbody tr th:only-of-type {\n",
              "        vertical-align: middle;\n",
              "    }\n",
              "\n",
              "    .dataframe tbody tr th {\n",
              "        vertical-align: top;\n",
              "    }\n",
              "\n",
              "    .dataframe thead th {\n",
              "        text-align: right;\n",
              "    }\n",
              "</style>\n",
              "<table border=\"1\" class=\"dataframe\">\n",
              "  <thead>\n",
              "    <tr style=\"text-align: right;\">\n",
              "      <th></th>\n",
              "      <th>Transaction_Number</th>\n",
              "      <th>Customer_ID</th>\n",
              "      <th>Time_stamp</th>\n",
              "      <th>Category</th>\n",
              "      <th>Amount_Transacted</th>\n",
              "      <th>First</th>\n",
              "      <th>Last</th>\n",
              "      <th>Gender</th>\n",
              "      <th>Street</th>\n",
              "      <th>City</th>\n",
              "      <th>Is_fraud</th>\n",
              "      <th>Credit_Limit</th>\n",
              "      <th>No_of_Transactions</th>\n",
              "      <th>Amounts_received</th>\n",
              "      <th>Card_Type</th>\n",
              "      <th>Authentication</th>\n",
              "    </tr>\n",
              "  </thead>\n",
              "  <tbody>\n",
              "    <tr>\n",
              "      <th>0</th>\n",
              "      <td>19</td>\n",
              "      <td>4.96</td>\n",
              "      <td>1/1/2019 0:12</td>\n",
              "      <td>grocery_pos</td>\n",
              "      <td>965721.0</td>\n",
              "      <td>Kenneth</td>\n",
              "      <td>Robinson</td>\n",
              "      <td>Male</td>\n",
              "      <td>269 Sanchez Rapids</td>\n",
              "      <td>Elizabeth</td>\n",
              "      <td>0</td>\n",
              "      <td>1000000.0</td>\n",
              "      <td>2</td>\n",
              "      <td>82475</td>\n",
              "      <td>Platinum</td>\n",
              "      <td>Success</td>\n",
              "    </tr>\n",
              "    <tr>\n",
              "      <th>1</th>\n",
              "      <td>1009</td>\n",
              "      <td>4.96</td>\n",
              "      <td>1/1/2019 12:44</td>\n",
              "      <td>food_dining</td>\n",
              "      <td>413052.0</td>\n",
              "      <td>Kenneth</td>\n",
              "      <td>Robinson</td>\n",
              "      <td>Male</td>\n",
              "      <td>269 Sanchez Rapids</td>\n",
              "      <td>Elizabeth</td>\n",
              "      <td>0</td>\n",
              "      <td>1000000.0</td>\n",
              "      <td>1</td>\n",
              "      <td>32555</td>\n",
              "      <td>Platinum</td>\n",
              "      <td>Success</td>\n",
              "    </tr>\n",
              "    <tr>\n",
              "      <th>2</th>\n",
              "      <td>2426</td>\n",
              "      <td>4.96</td>\n",
              "      <td>2/1/2019 0:25</td>\n",
              "      <td>gas_transport</td>\n",
              "      <td>584822.0</td>\n",
              "      <td>Kenneth</td>\n",
              "      <td>Robinson</td>\n",
              "      <td>Male</td>\n",
              "      <td>269 Sanchez Rapids</td>\n",
              "      <td>Elizabeth</td>\n",
              "      <td>0</td>\n",
              "      <td>1000000.0</td>\n",
              "      <td>1</td>\n",
              "      <td>10173</td>\n",
              "      <td>Platinum</td>\n",
              "      <td>Success</td>\n",
              "    </tr>\n",
              "    <tr>\n",
              "      <th>3</th>\n",
              "      <td>2851</td>\n",
              "      <td>4.96</td>\n",
              "      <td>2/1/2019 12:01</td>\n",
              "      <td>misc_pos</td>\n",
              "      <td>980146.0</td>\n",
              "      <td>Kenneth</td>\n",
              "      <td>Robinson</td>\n",
              "      <td>Male</td>\n",
              "      <td>269 Sanchez Rapids</td>\n",
              "      <td>Elizabeth</td>\n",
              "      <td>0</td>\n",
              "      <td>1000000.0</td>\n",
              "      <td>1</td>\n",
              "      <td>12342</td>\n",
              "      <td>Platinum</td>\n",
              "      <td>Success</td>\n",
              "    </tr>\n",
              "    <tr>\n",
              "      <th>4</th>\n",
              "      <td>3958</td>\n",
              "      <td>4.96</td>\n",
              "      <td>3/1/2019 10:54</td>\n",
              "      <td>misc_net</td>\n",
              "      <td>1926072.0</td>\n",
              "      <td>Kenneth</td>\n",
              "      <td>Robinson</td>\n",
              "      <td>Male</td>\n",
              "      <td>269 Sanchez Rapids</td>\n",
              "      <td>Elizabeth</td>\n",
              "      <td>1</td>\n",
              "      <td>1000000.0</td>\n",
              "      <td>3</td>\n",
              "      <td>17157</td>\n",
              "      <td>Platinum</td>\n",
              "      <td>Failed</td>\n",
              "    </tr>\n",
              "  </tbody>\n",
              "</table>\n",
              "</div>\n",
              "      <button class=\"colab-df-convert\" onclick=\"convertToInteractive('df-f8549438-bd6c-4efc-a2e4-81df2536270a')\"\n",
              "              title=\"Convert this dataframe to an interactive table.\"\n",
              "              style=\"display:none;\">\n",
              "        \n",
              "  <svg xmlns=\"http://www.w3.org/2000/svg\" height=\"24px\"viewBox=\"0 0 24 24\"\n",
              "       width=\"24px\">\n",
              "    <path d=\"M0 0h24v24H0V0z\" fill=\"none\"/>\n",
              "    <path d=\"M18.56 5.44l.94 2.06.94-2.06 2.06-.94-2.06-.94-.94-2.06-.94 2.06-2.06.94zm-11 1L8.5 8.5l.94-2.06 2.06-.94-2.06-.94L8.5 2.5l-.94 2.06-2.06.94zm10 10l.94 2.06.94-2.06 2.06-.94-2.06-.94-.94-2.06-.94 2.06-2.06.94z\"/><path d=\"M17.41 7.96l-1.37-1.37c-.4-.4-.92-.59-1.43-.59-.52 0-1.04.2-1.43.59L10.3 9.45l-7.72 7.72c-.78.78-.78 2.05 0 2.83L4 21.41c.39.39.9.59 1.41.59.51 0 1.02-.2 1.41-.59l7.78-7.78 2.81-2.81c.8-.78.8-2.07 0-2.86zM5.41 20L4 18.59l7.72-7.72 1.47 1.35L5.41 20z\"/>\n",
              "  </svg>\n",
              "      </button>\n",
              "      \n",
              "  <style>\n",
              "    .colab-df-container {\n",
              "      display:flex;\n",
              "      flex-wrap:wrap;\n",
              "      gap: 12px;\n",
              "    }\n",
              "\n",
              "    .colab-df-convert {\n",
              "      background-color: #E8F0FE;\n",
              "      border: none;\n",
              "      border-radius: 50%;\n",
              "      cursor: pointer;\n",
              "      display: none;\n",
              "      fill: #1967D2;\n",
              "      height: 32px;\n",
              "      padding: 0 0 0 0;\n",
              "      width: 32px;\n",
              "    }\n",
              "\n",
              "    .colab-df-convert:hover {\n",
              "      background-color: #E2EBFA;\n",
              "      box-shadow: 0px 1px 2px rgba(60, 64, 67, 0.3), 0px 1px 3px 1px rgba(60, 64, 67, 0.15);\n",
              "      fill: #174EA6;\n",
              "    }\n",
              "\n",
              "    [theme=dark] .colab-df-convert {\n",
              "      background-color: #3B4455;\n",
              "      fill: #D2E3FC;\n",
              "    }\n",
              "\n",
              "    [theme=dark] .colab-df-convert:hover {\n",
              "      background-color: #434B5C;\n",
              "      box-shadow: 0px 1px 3px 1px rgba(0, 0, 0, 0.15);\n",
              "      filter: drop-shadow(0px 1px 2px rgba(0, 0, 0, 0.3));\n",
              "      fill: #FFFFFF;\n",
              "    }\n",
              "  </style>\n",
              "\n",
              "      <script>\n",
              "        const buttonEl =\n",
              "          document.querySelector('#df-f8549438-bd6c-4efc-a2e4-81df2536270a button.colab-df-convert');\n",
              "        buttonEl.style.display =\n",
              "          google.colab.kernel.accessAllowed ? 'block' : 'none';\n",
              "\n",
              "        async function convertToInteractive(key) {\n",
              "          const element = document.querySelector('#df-f8549438-bd6c-4efc-a2e4-81df2536270a');\n",
              "          const dataTable =\n",
              "            await google.colab.kernel.invokeFunction('convertToInteractive',\n",
              "                                                     [key], {});\n",
              "          if (!dataTable) return;\n",
              "\n",
              "          const docLinkHtml = 'Like what you see? Visit the ' +\n",
              "            '<a target=\"_blank\" href=https://colab.research.google.com/notebooks/data_table.ipynb>data table notebook</a>'\n",
              "            + ' to learn more about interactive tables.';\n",
              "          element.innerHTML = '';\n",
              "          dataTable['output_type'] = 'display_data';\n",
              "          await google.colab.output.renderOutput(dataTable, element);\n",
              "          const docLink = document.createElement('div');\n",
              "          docLink.innerHTML = docLinkHtml;\n",
              "          element.appendChild(docLink);\n",
              "        }\n",
              "      </script>\n",
              "    </div>\n",
              "  </div>\n",
              "  "
            ],
            "text/plain": [
              "   Transaction_Number  Customer_ID      Time_stamp       Category  \\\n",
              "0                  19         4.96   1/1/2019 0:12    grocery_pos   \n",
              "1                1009         4.96  1/1/2019 12:44    food_dining   \n",
              "2                2426         4.96   2/1/2019 0:25  gas_transport   \n",
              "3                2851         4.96  2/1/2019 12:01       misc_pos   \n",
              "4                3958         4.96  3/1/2019 10:54       misc_net   \n",
              "\n",
              "   Amount_Transacted    First      Last Gender              Street       City  \\\n",
              "0           965721.0  Kenneth  Robinson   Male  269 Sanchez Rapids  Elizabeth   \n",
              "1           413052.0  Kenneth  Robinson   Male  269 Sanchez Rapids  Elizabeth   \n",
              "2           584822.0  Kenneth  Robinson   Male  269 Sanchez Rapids  Elizabeth   \n",
              "3           980146.0  Kenneth  Robinson   Male  269 Sanchez Rapids  Elizabeth   \n",
              "4          1926072.0  Kenneth  Robinson   Male  269 Sanchez Rapids  Elizabeth   \n",
              "\n",
              "   Is_fraud  Credit_Limit  No_of_Transactions  Amounts_received Card_Type  \\\n",
              "0         0     1000000.0                   2             82475  Platinum   \n",
              "1         0     1000000.0                   1             32555  Platinum   \n",
              "2         0     1000000.0                   1             10173  Platinum   \n",
              "3         0     1000000.0                   1             12342  Platinum   \n",
              "4         1     1000000.0                   3             17157  Platinum   \n",
              "\n",
              "  Authentication  \n",
              "0        Success  \n",
              "1        Success  \n",
              "2        Success  \n",
              "3        Success  \n",
              "4         Failed  "
            ]
          },
          "execution_count": 11,
          "metadata": {},
          "output_type": "execute_result"
        }
      ],
      "source": [
        "#Dataset\n",
        "df = pd.read_csv(\"https://bit.ly/3Xq1tRD\")\n",
        "df.head(5)"
      ]
    },
    {
      "cell_type": "code",
      "execution_count": null,
      "metadata": {
        "id": "eR4yhsMMYVG-",
        "outputId": "3c177d0e-bec4-41bd-a911-52de8eecabed"
      },
      "outputs": [
        {
          "data": {
            "text/plain": [
              "Index(['Transaction_Number', 'Customer_ID', 'Time_stamp', 'Category',\n",
              "       'Amount_Transacted', 'First', 'Last', 'Gender', 'Street', 'City',\n",
              "       'Is_fraud', 'Credit_Limit', 'No_of_Transactions', 'Amounts_received',\n",
              "       'Card_Type', 'Authentication'],\n",
              "      dtype='object')"
            ]
          },
          "execution_count": 136,
          "metadata": {},
          "output_type": "execute_result"
        }
      ],
      "source": [
        "#Checking the column names\n",
        "df.columns"
      ]
    },
    {
      "cell_type": "markdown",
      "metadata": {
        "id": "2DgqWBQsYVG-"
      },
      "source": [
        "# Exploratory Data Analysis"
      ]
    },
    {
      "cell_type": "code",
      "execution_count": null,
      "metadata": {
        "id": "roW6GR7VYVG_",
        "outputId": "7a65030f-b3b6-4f63-c032-f2fc6ec9beab"
      },
      "outputs": [
        {
          "data": {
            "text/html": [
              "<div>\n",
              "<style scoped>\n",
              "    .dataframe tbody tr th:only-of-type {\n",
              "        vertical-align: middle;\n",
              "    }\n",
              "\n",
              "    .dataframe tbody tr th {\n",
              "        vertical-align: top;\n",
              "    }\n",
              "\n",
              "    .dataframe thead th {\n",
              "        text-align: right;\n",
              "    }\n",
              "</style>\n",
              "<table border=\"1\" class=\"dataframe\">\n",
              "  <thead>\n",
              "    <tr style=\"text-align: right;\">\n",
              "      <th></th>\n",
              "      <th>Transaction_Number</th>\n",
              "      <th>Customer_ID</th>\n",
              "      <th>Amount_Transacted</th>\n",
              "      <th>Is_fraud</th>\n",
              "      <th>Credit_Limit</th>\n",
              "      <th>No_of_Transactions</th>\n",
              "      <th>Amounts_received</th>\n",
              "    </tr>\n",
              "  </thead>\n",
              "  <tbody>\n",
              "    <tr>\n",
              "      <th>count</th>\n",
              "      <td>287.000000</td>\n",
              "      <td>287.000000</td>\n",
              "      <td>2.840000e+02</td>\n",
              "      <td>287.000000</td>\n",
              "      <td>286.000000</td>\n",
              "      <td>287.000000</td>\n",
              "      <td>287.000000</td>\n",
              "    </tr>\n",
              "    <tr>\n",
              "      <th>mean</th>\n",
              "      <td>108665.017422</td>\n",
              "      <td>5.814007</td>\n",
              "      <td>4.495447e+05</td>\n",
              "      <td>0.491289</td>\n",
              "      <td>710839.160839</td>\n",
              "      <td>2.205575</td>\n",
              "      <td>42716.344948</td>\n",
              "    </tr>\n",
              "    <tr>\n",
              "      <th>std</th>\n",
              "      <td>120134.353167</td>\n",
              "      <td>1.743172</td>\n",
              "      <td>2.577299e+05</td>\n",
              "      <td>0.500797</td>\n",
              "      <td>222556.112391</td>\n",
              "      <td>1.471015</td>\n",
              "      <td>54007.544128</td>\n",
              "    </tr>\n",
              "    <tr>\n",
              "      <th>min</th>\n",
              "      <td>19.000000</td>\n",
              "      <td>1.800000</td>\n",
              "      <td>1.056900e+05</td>\n",
              "      <td>0.000000</td>\n",
              "      <td>400000.000000</td>\n",
              "      <td>1.000000</td>\n",
              "      <td>0.000000</td>\n",
              "    </tr>\n",
              "    <tr>\n",
              "      <th>25%</th>\n",
              "      <td>16581.000000</td>\n",
              "      <td>4.040000</td>\n",
              "      <td>2.011172e+05</td>\n",
              "      <td>0.000000</td>\n",
              "      <td>500000.000000</td>\n",
              "      <td>1.000000</td>\n",
              "      <td>11090.500000</td>\n",
              "    </tr>\n",
              "    <tr>\n",
              "      <th>50%</th>\n",
              "      <td>54117.000000</td>\n",
              "      <td>6.300000</td>\n",
              "      <td>4.155305e+05</td>\n",
              "      <td>0.000000</td>\n",
              "      <td>700000.000000</td>\n",
              "      <td>2.000000</td>\n",
              "      <td>31044.000000</td>\n",
              "    </tr>\n",
              "    <tr>\n",
              "      <th>75%</th>\n",
              "      <td>194905.000000</td>\n",
              "      <td>7.330000</td>\n",
              "      <td>6.000082e+05</td>\n",
              "      <td>1.000000</td>\n",
              "      <td>900000.000000</td>\n",
              "      <td>3.000000</td>\n",
              "      <td>55323.000000</td>\n",
              "    </tr>\n",
              "    <tr>\n",
              "      <th>max</th>\n",
              "      <td>455398.000000</td>\n",
              "      <td>7.540000</td>\n",
              "      <td>1.926072e+06</td>\n",
              "      <td>1.000000</td>\n",
              "      <td>1000000.000000</td>\n",
              "      <td>9.000000</td>\n",
              "      <td>832630.000000</td>\n",
              "    </tr>\n",
              "  </tbody>\n",
              "</table>\n",
              "</div>"
            ],
            "text/plain": [
              "       Transaction_Number  Customer_ID  Amount_Transacted    Is_fraud  \\\n",
              "count          287.000000   287.000000       2.840000e+02  287.000000   \n",
              "mean        108665.017422     5.814007       4.495447e+05    0.491289   \n",
              "std         120134.353167     1.743172       2.577299e+05    0.500797   \n",
              "min             19.000000     1.800000       1.056900e+05    0.000000   \n",
              "25%          16581.000000     4.040000       2.011172e+05    0.000000   \n",
              "50%          54117.000000     6.300000       4.155305e+05    0.000000   \n",
              "75%         194905.000000     7.330000       6.000082e+05    1.000000   \n",
              "max         455398.000000     7.540000       1.926072e+06    1.000000   \n",
              "\n",
              "         Credit_Limit  No_of_Transactions  Amounts_received  \n",
              "count      286.000000          287.000000        287.000000  \n",
              "mean    710839.160839            2.205575      42716.344948  \n",
              "std     222556.112391            1.471015      54007.544128  \n",
              "min     400000.000000            1.000000          0.000000  \n",
              "25%     500000.000000            1.000000      11090.500000  \n",
              "50%     700000.000000            2.000000      31044.000000  \n",
              "75%     900000.000000            3.000000      55323.000000  \n",
              "max    1000000.000000            9.000000     832630.000000  "
            ]
          },
          "execution_count": 137,
          "metadata": {},
          "output_type": "execute_result"
        }
      ],
      "source": [
        "#describing the dataset\n",
        "df.describe()"
      ]
    },
    {
      "cell_type": "markdown",
      "metadata": {
        "id": "KbUn5sCBYVG_"
      },
      "source": [
        "## Finding and Replacing Missing Values"
      ]
    },
    {
      "cell_type": "code",
      "execution_count": null,
      "metadata": {
        "id": "w5MjKU9oYVG_",
        "outputId": "7848fd5d-376c-427c-c81f-1829bcdc6326"
      },
      "outputs": [
        {
          "data": {
            "text/plain": [
              "Transaction_Number    False\n",
              "Customer_ID           False\n",
              "Time_stamp            False\n",
              "Category              False\n",
              "Amount_Transacted      True\n",
              "First                 False\n",
              "Last                  False\n",
              "Gender                False\n",
              "Street                 True\n",
              "City                  False\n",
              "Is_fraud              False\n",
              "Credit_Limit           True\n",
              "No_of_Transactions    False\n",
              "Amounts_received      False\n",
              "Card_Type             False\n",
              "Authentication        False\n",
              "dtype: bool"
            ]
          },
          "execution_count": 138,
          "metadata": {},
          "output_type": "execute_result"
        }
      ],
      "source": [
        "#checking for missing values\n",
        "df.isnull().any()"
      ]
    },
    {
      "cell_type": "code",
      "execution_count": null,
      "metadata": {
        "id": "2oNCFH1AYVG_",
        "outputId": "a6561e45-fb1e-46a2-807d-3fddc80c5065"
      },
      "outputs": [
        {
          "data": {
            "text/plain": [
              "Transaction_Number    0\n",
              "Customer_ID           0\n",
              "Time_stamp            0\n",
              "Category              0\n",
              "Amount_Transacted     3\n",
              "First                 0\n",
              "Last                  0\n",
              "Gender                0\n",
              "Street                7\n",
              "City                  0\n",
              "Is_fraud              0\n",
              "Credit_Limit          1\n",
              "No_of_Transactions    0\n",
              "Amounts_received      0\n",
              "Card_Type             0\n",
              "Authentication        0\n",
              "dtype: int64"
            ]
          },
          "execution_count": 139,
          "metadata": {},
          "output_type": "execute_result"
        }
      ],
      "source": [
        "#Checking the number of missing values in each column\n",
        "df.isnull().sum()"
      ]
    },
    {
      "cell_type": "code",
      "execution_count": null,
      "metadata": {
        "id": "LfyonPX_YVHA",
        "outputId": "6bd427fd-eea7-4759-e36a-8c2f0cfe8979"
      },
      "outputs": [
        {
          "data": {
            "text/plain": [
              "Index(['Amount_Transacted', 'Street', 'Credit_Limit'], dtype='object')"
            ]
          },
          "execution_count": 140,
          "metadata": {},
          "output_type": "execute_result"
        }
      ],
      "source": [
        "#checking specific columns with null values\n",
        "df.columns[df.isnull().any()] "
      ]
    },
    {
      "cell_type": "code",
      "execution_count": null,
      "metadata": {
        "id": "15QzN88fYVHA",
        "outputId": "5908c631-cfb7-45d4-f156-456473db1928"
      },
      "outputs": [
        {
          "data": {
            "text/html": [
              "<div>\n",
              "<style scoped>\n",
              "    .dataframe tbody tr th:only-of-type {\n",
              "        vertical-align: middle;\n",
              "    }\n",
              "\n",
              "    .dataframe tbody tr th {\n",
              "        vertical-align: top;\n",
              "    }\n",
              "\n",
              "    .dataframe thead th {\n",
              "        text-align: right;\n",
              "    }\n",
              "</style>\n",
              "<table border=\"1\" class=\"dataframe\">\n",
              "  <thead>\n",
              "    <tr style=\"text-align: right;\">\n",
              "      <th></th>\n",
              "      <th>Transaction_Number</th>\n",
              "      <th>Customer_ID</th>\n",
              "      <th>Time_stamp</th>\n",
              "      <th>Category</th>\n",
              "      <th>Amount_Transacted</th>\n",
              "      <th>First</th>\n",
              "      <th>Last</th>\n",
              "      <th>Gender</th>\n",
              "      <th>Street</th>\n",
              "      <th>City</th>\n",
              "      <th>Is_fraud</th>\n",
              "      <th>Credit_Limit</th>\n",
              "      <th>No_of_Transactions</th>\n",
              "      <th>Amounts_received</th>\n",
              "      <th>Card_Type</th>\n",
              "      <th>Authentication</th>\n",
              "    </tr>\n",
              "  </thead>\n",
              "  <tbody>\n",
              "    <tr>\n",
              "      <th>32</th>\n",
              "      <td>85218</td>\n",
              "      <td>6.59</td>\n",
              "      <td>20/02/2019 22:05</td>\n",
              "      <td>misc_net</td>\n",
              "      <td>326162.0</td>\n",
              "      <td>Amanda</td>\n",
              "      <td>Molina</td>\n",
              "      <td>Female</td>\n",
              "      <td>NaN</td>\n",
              "      <td>Philadelphia</td>\n",
              "      <td>1</td>\n",
              "      <td>1000000.0</td>\n",
              "      <td>1</td>\n",
              "      <td>0</td>\n",
              "      <td>Platinum</td>\n",
              "      <td>Success</td>\n",
              "    </tr>\n",
              "    <tr>\n",
              "      <th>33</th>\n",
              "      <td>90210</td>\n",
              "      <td>6.59</td>\n",
              "      <td>20/02/2019 22:10</td>\n",
              "      <td>misc_net</td>\n",
              "      <td>390534.0</td>\n",
              "      <td>Amanda</td>\n",
              "      <td>Molina</td>\n",
              "      <td>Female</td>\n",
              "      <td>NaN</td>\n",
              "      <td>Philadelphia</td>\n",
              "      <td>1</td>\n",
              "      <td>1000000.0</td>\n",
              "      <td>2</td>\n",
              "      <td>0</td>\n",
              "      <td>Platinum</td>\n",
              "      <td>Success</td>\n",
              "    </tr>\n",
              "    <tr>\n",
              "      <th>34</th>\n",
              "      <td>40230</td>\n",
              "      <td>6.59</td>\n",
              "      <td>20/02/2019 22:18</td>\n",
              "      <td>misc_net</td>\n",
              "      <td>204850.0</td>\n",
              "      <td>Amanda</td>\n",
              "      <td>Molina</td>\n",
              "      <td>Female</td>\n",
              "      <td>NaN</td>\n",
              "      <td>Philadelphia</td>\n",
              "      <td>1</td>\n",
              "      <td>1000000.0</td>\n",
              "      <td>3</td>\n",
              "      <td>0</td>\n",
              "      <td>Platinum</td>\n",
              "      <td>Success</td>\n",
              "    </tr>\n",
              "    <tr>\n",
              "      <th>35</th>\n",
              "      <td>77770</td>\n",
              "      <td>6.59</td>\n",
              "      <td>20/02/2019 22:31</td>\n",
              "      <td>misc_net</td>\n",
              "      <td>331349.0</td>\n",
              "      <td>Amanda</td>\n",
              "      <td>Molina</td>\n",
              "      <td>Female</td>\n",
              "      <td>NaN</td>\n",
              "      <td>Philadelphia</td>\n",
              "      <td>1</td>\n",
              "      <td>1000000.0</td>\n",
              "      <td>4</td>\n",
              "      <td>0</td>\n",
              "      <td>Platinum</td>\n",
              "      <td>Success</td>\n",
              "    </tr>\n",
              "    <tr>\n",
              "      <th>36</th>\n",
              "      <td>22045</td>\n",
              "      <td>6.59</td>\n",
              "      <td>20/02/2019 22:51</td>\n",
              "      <td>misc_net</td>\n",
              "      <td>515263.0</td>\n",
              "      <td>Amanda</td>\n",
              "      <td>Molina</td>\n",
              "      <td>Female</td>\n",
              "      <td>NaN</td>\n",
              "      <td>Philadelphia</td>\n",
              "      <td>1</td>\n",
              "      <td>NaN</td>\n",
              "      <td>5</td>\n",
              "      <td>0</td>\n",
              "      <td>Platinum</td>\n",
              "      <td>Success</td>\n",
              "    </tr>\n",
              "    <tr>\n",
              "      <th>43</th>\n",
              "      <td>23536</td>\n",
              "      <td>2.23</td>\n",
              "      <td>14/01/2019 19:17</td>\n",
              "      <td>entertainment</td>\n",
              "      <td>NaN</td>\n",
              "      <td>Thomas</td>\n",
              "      <td>Hale</td>\n",
              "      <td>Male</td>\n",
              "      <td>949 Smith Parkway</td>\n",
              "      <td>Cazenovia</td>\n",
              "      <td>0</td>\n",
              "      <td>700000.0</td>\n",
              "      <td>1</td>\n",
              "      <td>66024</td>\n",
              "      <td>Gold</td>\n",
              "      <td>Success</td>\n",
              "    </tr>\n",
              "    <tr>\n",
              "      <th>54</th>\n",
              "      <td>29421</td>\n",
              "      <td>6.04</td>\n",
              "      <td>5/2/2019 7:25</td>\n",
              "      <td>misc_pos</td>\n",
              "      <td>688577.0</td>\n",
              "      <td>Bradley</td>\n",
              "      <td>Martinez</td>\n",
              "      <td>Male</td>\n",
              "      <td>NaN</td>\n",
              "      <td>Cape Town</td>\n",
              "      <td>1</td>\n",
              "      <td>900000.0</td>\n",
              "      <td>1</td>\n",
              "      <td>83263</td>\n",
              "      <td>Platinum</td>\n",
              "      <td>Success</td>\n",
              "    </tr>\n",
              "    <tr>\n",
              "      <th>55</th>\n",
              "      <td>54021</td>\n",
              "      <td>6.04</td>\n",
              "      <td>5/2/2019 8:25</td>\n",
              "      <td>misc_pos</td>\n",
              "      <td>390534.0</td>\n",
              "      <td>Bradley</td>\n",
              "      <td>Martinez</td>\n",
              "      <td>Male</td>\n",
              "      <td>NaN</td>\n",
              "      <td>Cape Towm</td>\n",
              "      <td>1</td>\n",
              "      <td>900000.0</td>\n",
              "      <td>2</td>\n",
              "      <td>0</td>\n",
              "      <td>Platinum</td>\n",
              "      <td>Success</td>\n",
              "    </tr>\n",
              "    <tr>\n",
              "      <th>143</th>\n",
              "      <td>196817</td>\n",
              "      <td>3.86</td>\n",
              "      <td>11/4/2019 18:11</td>\n",
              "      <td>home</td>\n",
              "      <td>NaN</td>\n",
              "      <td>Jacqueline</td>\n",
              "      <td>Curry</td>\n",
              "      <td>Female</td>\n",
              "      <td>3047 Jeff Place</td>\n",
              "      <td>Marathon</td>\n",
              "      <td>0</td>\n",
              "      <td>900000.0</td>\n",
              "      <td>3</td>\n",
              "      <td>97438</td>\n",
              "      <td>Platinum</td>\n",
              "      <td>Success</td>\n",
              "    </tr>\n",
              "    <tr>\n",
              "      <th>148</th>\n",
              "      <td>203323</td>\n",
              "      <td>3.86</td>\n",
              "      <td>14/04/2019 13:19</td>\n",
              "      <td>food_dining</td>\n",
              "      <td>NaN</td>\n",
              "      <td>Jacqueline</td>\n",
              "      <td>Curry</td>\n",
              "      <td>Female</td>\n",
              "      <td>3047 Jeff Place</td>\n",
              "      <td>Marathon</td>\n",
              "      <td>0</td>\n",
              "      <td>900000.0</td>\n",
              "      <td>2</td>\n",
              "      <td>99070</td>\n",
              "      <td>Platinum</td>\n",
              "      <td>Success</td>\n",
              "    </tr>\n",
              "  </tbody>\n",
              "</table>\n",
              "</div>"
            ],
            "text/plain": [
              "     Transaction_Number  Customer_ID        Time_stamp       Category  \\\n",
              "32                85218         6.59  20/02/2019 22:05       misc_net   \n",
              "33                90210         6.59  20/02/2019 22:10       misc_net   \n",
              "34                40230         6.59  20/02/2019 22:18       misc_net   \n",
              "35                77770         6.59  20/02/2019 22:31       misc_net   \n",
              "36                22045         6.59  20/02/2019 22:51       misc_net   \n",
              "43                23536         2.23  14/01/2019 19:17  entertainment   \n",
              "54                29421         6.04     5/2/2019 7:25       misc_pos   \n",
              "55                54021         6.04     5/2/2019 8:25       misc_pos   \n",
              "143              196817         3.86   11/4/2019 18:11           home   \n",
              "148              203323         3.86  14/04/2019 13:19    food_dining   \n",
              "\n",
              "     Amount_Transacted       First      Last  Gender             Street  \\\n",
              "32            326162.0      Amanda    Molina  Female                NaN   \n",
              "33            390534.0      Amanda    Molina  Female                NaN   \n",
              "34            204850.0      Amanda    Molina  Female                NaN   \n",
              "35            331349.0      Amanda    Molina  Female                NaN   \n",
              "36            515263.0      Amanda    Molina  Female                NaN   \n",
              "43                 NaN      Thomas      Hale    Male  949 Smith Parkway   \n",
              "54            688577.0     Bradley  Martinez    Male                NaN   \n",
              "55            390534.0     Bradley  Martinez    Male                NaN   \n",
              "143                NaN  Jacqueline     Curry  Female    3047 Jeff Place   \n",
              "148                NaN  Jacqueline     Curry  Female    3047 Jeff Place   \n",
              "\n",
              "             City  Is_fraud  Credit_Limit  No_of_Transactions  \\\n",
              "32   Philadelphia         1     1000000.0                   1   \n",
              "33   Philadelphia         1     1000000.0                   2   \n",
              "34   Philadelphia         1     1000000.0                   3   \n",
              "35   Philadelphia         1     1000000.0                   4   \n",
              "36   Philadelphia         1           NaN                   5   \n",
              "43      Cazenovia         0      700000.0                   1   \n",
              "54      Cape Town         1      900000.0                   1   \n",
              "55     Cape Towm          1      900000.0                   2   \n",
              "143      Marathon         0      900000.0                   3   \n",
              "148      Marathon         0      900000.0                   2   \n",
              "\n",
              "     Amounts_received Card_Type Authentication  \n",
              "32                  0  Platinum        Success  \n",
              "33                  0  Platinum        Success  \n",
              "34                  0  Platinum        Success  \n",
              "35                  0  Platinum        Success  \n",
              "36                  0  Platinum        Success  \n",
              "43              66024      Gold        Success  \n",
              "54              83263  Platinum        Success  \n",
              "55                  0  Platinum        Success  \n",
              "143             97438  Platinum        Success  \n",
              "148             99070  Platinum        Success  "
            ]
          },
          "execution_count": 141,
          "metadata": {},
          "output_type": "execute_result"
        }
      ],
      "source": [
        "#locating all rows of data with null values\n",
        "nan_rows  = df.loc[df.isna().any(axis=1)] \n",
        "nan_rows"
      ]
    },
    {
      "cell_type": "code",
      "execution_count": null,
      "metadata": {
        "id": "ixD8qWn8YVHA",
        "outputId": "4a758dda-fe92-480b-f405-9c24e2230ff5"
      },
      "outputs": [
        {
          "name": "stdout",
          "output_type": "stream",
          "text": [
            "[6.59 2.23 6.04 3.86]\n"
          ]
        }
      ],
      "source": [
        "#locating customer ID's with null values\n",
        "customer_ID_nan = nan_rows['Customer_ID'].unique() \n",
        "print(customer_ID_nan)"
      ]
    },
    {
      "cell_type": "code",
      "execution_count": null,
      "metadata": {
        "id": "JW9ucNbCYVHB",
        "outputId": "2dfe83bf-f08a-4886-cd4b-041dc30f6009"
      },
      "outputs": [
        {
          "name": "stdout",
          "output_type": "stream",
          "text": [
            "['Amanda' 'Thomas' 'Bradley' 'Jacqueline']\n",
            "[6.59 2.23 6.04 3.86]\n",
            "Amanda\n",
            "[0, 1, 2, 3]\n"
          ]
        },
        {
          "data": {
            "text/html": [
              "<div>\n",
              "<style scoped>\n",
              "    .dataframe tbody tr th:only-of-type {\n",
              "        vertical-align: middle;\n",
              "    }\n",
              "\n",
              "    .dataframe tbody tr th {\n",
              "        vertical-align: top;\n",
              "    }\n",
              "\n",
              "    .dataframe thead th {\n",
              "        text-align: right;\n",
              "    }\n",
              "</style>\n",
              "<table border=\"1\" class=\"dataframe\">\n",
              "  <thead>\n",
              "    <tr style=\"text-align: right;\">\n",
              "      <th></th>\n",
              "      <th>0</th>\n",
              "      <th>1</th>\n",
              "      <th>2</th>\n",
              "      <th>3</th>\n",
              "    </tr>\n",
              "  </thead>\n",
              "  <tbody>\n",
              "    <tr>\n",
              "      <th>0</th>\n",
              "      <td>0</td>\n",
              "      <td>1</td>\n",
              "      <td>2</td>\n",
              "      <td>3</td>\n",
              "    </tr>\n",
              "    <tr>\n",
              "      <th>1</th>\n",
              "      <td>6.59</td>\n",
              "      <td>2.23</td>\n",
              "      <td>6.04</td>\n",
              "      <td>3.86</td>\n",
              "    </tr>\n",
              "    <tr>\n",
              "      <th>2</th>\n",
              "      <td>Amanda</td>\n",
              "      <td>Thomas</td>\n",
              "      <td>Bradley</td>\n",
              "      <td>Jacqueline</td>\n",
              "    </tr>\n",
              "  </tbody>\n",
              "</table>\n",
              "</div>"
            ],
            "text/plain": [
              "        0       1        2           3\n",
              "0       0       1        2           3\n",
              "1    6.59    2.23     6.04        3.86\n",
              "2  Amanda  Thomas  Bradley  Jacqueline"
            ]
          },
          "execution_count": 143,
          "metadata": {},
          "output_type": "execute_result"
        }
      ],
      "source": [
        "#updating missing values\n",
        "#calling first names\n",
        "First = nan_rows['First'].unique()\n",
        "print(First)\n",
        "print (customer_ID_nan)\n",
        "print (First[0])\n",
        "\n",
        "#Generating indexes\n",
        "id = [i for i in range (len(customer_ID_nan))] \n",
        "print (id)\n",
        "id_values = [  id, customer_ID_nan, First] \n",
        "id_tables = pd.DataFrame(id_values) \n",
        "id_tables"
      ]
    },
    {
      "cell_type": "markdown",
      "metadata": {
        "id": "9hRVldo1YVHB"
      },
      "source": [
        "### Replacing Missing Values for Amanda ID 6.59"
      ]
    },
    {
      "cell_type": "markdown",
      "metadata": {
        "id": "KDMnTbanr6ZC"
      },
      "source": [
        "Because there are few missing entries they were handled invidually per CustomerID and Name"
      ]
    },
    {
      "cell_type": "code",
      "execution_count": null,
      "metadata": {
        "id": "vZFbSmpPYVHB",
        "outputId": "fd5914ba-b6ae-477c-d4b9-bab7c9a19256"
      },
      "outputs": [
        {
          "data": {
            "text/html": [
              "<div>\n",
              "<style scoped>\n",
              "    .dataframe tbody tr th:only-of-type {\n",
              "        vertical-align: middle;\n",
              "    }\n",
              "\n",
              "    .dataframe tbody tr th {\n",
              "        vertical-align: top;\n",
              "    }\n",
              "\n",
              "    .dataframe thead th {\n",
              "        text-align: right;\n",
              "    }\n",
              "</style>\n",
              "<table border=\"1\" class=\"dataframe\">\n",
              "  <thead>\n",
              "    <tr style=\"text-align: right;\">\n",
              "      <th></th>\n",
              "      <th>Transaction_Number</th>\n",
              "      <th>Customer_ID</th>\n",
              "      <th>Time_stamp</th>\n",
              "      <th>Category</th>\n",
              "      <th>Amount_Transacted</th>\n",
              "      <th>First</th>\n",
              "      <th>Last</th>\n",
              "      <th>Gender</th>\n",
              "      <th>Street</th>\n",
              "      <th>City</th>\n",
              "      <th>Is_fraud</th>\n",
              "      <th>Credit_Limit</th>\n",
              "      <th>No_of_Transactions</th>\n",
              "      <th>Amounts_received</th>\n",
              "      <th>Card_Type</th>\n",
              "      <th>Authentication</th>\n",
              "    </tr>\n",
              "  </thead>\n",
              "  <tbody>\n",
              "    <tr>\n",
              "      <th>16</th>\n",
              "      <td>51250</td>\n",
              "      <td>6.59</td>\n",
              "      <td>30/01/2019 23:16</td>\n",
              "      <td>kids_pets</td>\n",
              "      <td>297820.0</td>\n",
              "      <td>Amanda</td>\n",
              "      <td>Molina</td>\n",
              "      <td>Female</td>\n",
              "      <td>8425 Daniel Knolls Suite 288</td>\n",
              "      <td>Philadelphia</td>\n",
              "      <td>0</td>\n",
              "      <td>1000000.0</td>\n",
              "      <td>2</td>\n",
              "      <td>42187</td>\n",
              "      <td>Platinum</td>\n",
              "      <td>Success</td>\n",
              "    </tr>\n",
              "    <tr>\n",
              "      <th>17</th>\n",
              "      <td>51528</td>\n",
              "      <td>6.59</td>\n",
              "      <td>31/01/2019 05:41</td>\n",
              "      <td>grocery_net</td>\n",
              "      <td>687879.0</td>\n",
              "      <td>Amanda</td>\n",
              "      <td>Molina</td>\n",
              "      <td>Female</td>\n",
              "      <td>8425 Daniel Knolls Suite 288</td>\n",
              "      <td>Philadelphia</td>\n",
              "      <td>0</td>\n",
              "      <td>1000000.0</td>\n",
              "      <td>3</td>\n",
              "      <td>98637</td>\n",
              "      <td>Platinum</td>\n",
              "      <td>Success</td>\n",
              "    </tr>\n",
              "    <tr>\n",
              "      <th>18</th>\n",
              "      <td>53779</td>\n",
              "      <td>6.59</td>\n",
              "      <td>1/2/2019 20:58</td>\n",
              "      <td>personal_care</td>\n",
              "      <td>738456.0</td>\n",
              "      <td>Amanda</td>\n",
              "      <td>Molina</td>\n",
              "      <td>Female</td>\n",
              "      <td>8425 Daniel Knolls Suite 288</td>\n",
              "      <td>Philadelphia</td>\n",
              "      <td>0</td>\n",
              "      <td>1000000.0</td>\n",
              "      <td>1</td>\n",
              "      <td>21304</td>\n",
              "      <td>Platinum</td>\n",
              "      <td>Success</td>\n",
              "    </tr>\n",
              "  </tbody>\n",
              "</table>\n",
              "</div>"
            ],
            "text/plain": [
              "    Transaction_Number  Customer_ID        Time_stamp       Category  \\\n",
              "16               51250         6.59  30/01/2019 23:16      kids_pets   \n",
              "17               51528         6.59  31/01/2019 05:41    grocery_net   \n",
              "18               53779         6.59    1/2/2019 20:58  personal_care   \n",
              "\n",
              "    Amount_Transacted   First    Last  Gender                        Street  \\\n",
              "16           297820.0  Amanda  Molina  Female  8425 Daniel Knolls Suite 288   \n",
              "17           687879.0  Amanda  Molina  Female  8425 Daniel Knolls Suite 288   \n",
              "18           738456.0  Amanda  Molina  Female  8425 Daniel Knolls Suite 288   \n",
              "\n",
              "            City  Is_fraud  Credit_Limit  No_of_Transactions  \\\n",
              "16  Philadelphia         0     1000000.0                   2   \n",
              "17  Philadelphia         0     1000000.0                   3   \n",
              "18  Philadelphia         0     1000000.0                   1   \n",
              "\n",
              "    Amounts_received Card_Type Authentication  \n",
              "16             42187  Platinum        Success  \n",
              "17             98637  Platinum        Success  \n",
              "18             21304  Platinum        Success  "
            ]
          },
          "execution_count": 144,
          "metadata": {},
          "output_type": "execute_result"
        }
      ],
      "source": [
        "#insert cutomer ID 4.96 in a data frame\n",
        "Amanda = df.loc[(customer_ID_nan[0]) == df ['Customer_ID']]\n",
        "Amanda.head(3)"
      ]
    },
    {
      "cell_type": "code",
      "execution_count": null,
      "metadata": {
        "id": "4QECMrSZYVHB",
        "outputId": "9878aa89-4684-4ed3-b951-1a4a68411d20"
      },
      "outputs": [
        {
          "data": {
            "text/plain": [
              "Transaction_Number    False\n",
              "Customer_ID           False\n",
              "Time_stamp            False\n",
              "Category              False\n",
              "Amount_Transacted     False\n",
              "First                 False\n",
              "Last                  False\n",
              "Gender                False\n",
              "Street                 True\n",
              "City                  False\n",
              "Is_fraud              False\n",
              "Credit_Limit           True\n",
              "No_of_Transactions    False\n",
              "Amounts_received      False\n",
              "Card_Type             False\n",
              "Authentication        False\n",
              "dtype: bool"
            ]
          },
          "execution_count": 145,
          "metadata": {},
          "output_type": "execute_result"
        }
      ],
      "source": [
        "#Finding Missing Values for Amanda\n",
        "Amanda.isnull().any() "
      ]
    },
    {
      "cell_type": "code",
      "execution_count": null,
      "metadata": {
        "id": "2wFx8iq-YVHB",
        "outputId": "5c415d07-c0b1-413c-c545-5219575fbe6e"
      },
      "outputs": [
        {
          "name": "stderr",
          "output_type": "stream",
          "text": [
            "C:\\Users\\Julie\\AppData\\Local\\Temp\\ipykernel_4948\\3038690587.py:2: SettingWithCopyWarning: \n",
            "A value is trying to be set on a copy of a slice from a DataFrame.\n",
            "Try using .loc[row_indexer,col_indexer] = value instead\n",
            "\n",
            "See the caveats in the documentation: https://pandas.pydata.org/pandas-docs/stable/user_guide/indexing.html#returning-a-view-versus-a-copy\n",
            "  Amanda['Street'] = Amanda['Street'].replace({np.nan: '8425 Daniel Knolls Suite 288'}) ;\n"
          ]
        },
        {
          "data": {
            "text/plain": [
              "16    8425 Daniel Knolls Suite 288\n",
              "17    8425 Daniel Knolls Suite 288\n",
              "18    8425 Daniel Knolls Suite 288\n",
              "19    8425 Daniel Knolls Suite 288\n",
              "20    8425 Daniel Knolls Suite 288\n",
              "21    8425 Daniel Knolls Suite 288\n",
              "22    8425 Daniel Knolls Suite 288\n",
              "23    8425 Daniel Knolls Suite 288\n",
              "24    8425 Daniel Knolls Suite 288\n",
              "25    8425 Daniel Knolls Suite 288\n",
              "26    8425 Daniel Knolls Suite 288\n",
              "27    8425 Daniel Knolls Suite 288\n",
              "28    8425 Daniel Knolls Suite 288\n",
              "29    8425 Daniel Knolls Suite 288\n",
              "30    8425 Daniel Knolls Suite 288\n",
              "31    8425 Daniel Knolls Suite 288\n",
              "32    8425 Daniel Knolls Suite 288\n",
              "33    8425 Daniel Knolls Suite 288\n",
              "34    8425 Daniel Knolls Suite 288\n",
              "35    8425 Daniel Knolls Suite 288\n",
              "36    8425 Daniel Knolls Suite 288\n",
              "Name: Street, dtype: object"
            ]
          },
          "execution_count": 146,
          "metadata": {},
          "output_type": "execute_result"
        }
      ],
      "source": [
        "#Filling in missing values for street\n",
        "Amanda['Street'] = Amanda['Street'].replace({np.nan: '8425 Daniel Knolls Suite 288'}) ;\n",
        "Amanda['Street']"
      ]
    },
    {
      "cell_type": "code",
      "execution_count": null,
      "metadata": {
        "id": "d60xoXLxYVHC",
        "outputId": "19627192-0668-498c-c6bf-36c8db3023e4"
      },
      "outputs": [
        {
          "data": {
            "text/plain": [
              "16    1000000.0\n",
              "17    1000000.0\n",
              "18    1000000.0\n",
              "19    1000000.0\n",
              "20    1000000.0\n",
              "21    1000000.0\n",
              "22    1000000.0\n",
              "23    1000000.0\n",
              "24    1000000.0\n",
              "25    1000000.0\n",
              "26    1000000.0\n",
              "27    1000000.0\n",
              "28    1000000.0\n",
              "29    1000000.0\n",
              "30    1000000.0\n",
              "31    1000000.0\n",
              "32    1000000.0\n",
              "33    1000000.0\n",
              "34    1000000.0\n",
              "35    1000000.0\n",
              "36          NaN\n",
              "Name: Credit_Limit, dtype: float64"
            ]
          },
          "execution_count": 147,
          "metadata": {},
          "output_type": "execute_result"
        }
      ],
      "source": [
        "#Checking missing values for credit limit\n",
        "Amanda['Credit_Limit']"
      ]
    },
    {
      "cell_type": "code",
      "execution_count": null,
      "metadata": {
        "id": "Z4rLCS6oYVHC",
        "outputId": "5f6989dc-11c5-45d7-905c-f868f0922b0e"
      },
      "outputs": [
        {
          "name": "stderr",
          "output_type": "stream",
          "text": [
            "C:\\Users\\Julie\\AppData\\Local\\Temp\\ipykernel_4948\\911720258.py:2: SettingWithCopyWarning: \n",
            "A value is trying to be set on a copy of a slice from a DataFrame.\n",
            "Try using .loc[row_indexer,col_indexer] = value instead\n",
            "\n",
            "See the caveats in the documentation: https://pandas.pydata.org/pandas-docs/stable/user_guide/indexing.html#returning-a-view-versus-a-copy\n",
            "  Amanda['Credit_Limit'] = Amanda['Credit_Limit'].replace({np.nan:1000000.0})\n"
          ]
        },
        {
          "data": {
            "text/plain": [
              "16    1000000.0\n",
              "17    1000000.0\n",
              "18    1000000.0\n",
              "19    1000000.0\n",
              "20    1000000.0\n",
              "21    1000000.0\n",
              "22    1000000.0\n",
              "23    1000000.0\n",
              "24    1000000.0\n",
              "25    1000000.0\n",
              "26    1000000.0\n",
              "27    1000000.0\n",
              "28    1000000.0\n",
              "29    1000000.0\n",
              "30    1000000.0\n",
              "31    1000000.0\n",
              "32    1000000.0\n",
              "33    1000000.0\n",
              "34    1000000.0\n",
              "35    1000000.0\n",
              "36    1000000.0\n",
              "Name: Credit_Limit, dtype: float64"
            ]
          },
          "execution_count": 148,
          "metadata": {},
          "output_type": "execute_result"
        }
      ],
      "source": [
        "#Filling in missing values for Credit limit\n",
        "Amanda['Credit_Limit'] = Amanda['Credit_Limit'].replace({np.nan:1000000.0})\n",
        "Amanda['Credit_Limit']"
      ]
    },
    {
      "cell_type": "code",
      "execution_count": null,
      "metadata": {
        "id": "hKfQmTvaYVHC",
        "outputId": "63ffc553-99c5-4395-8299-29e0e04a2b57"
      },
      "outputs": [
        {
          "data": {
            "text/plain": [
              "Transaction_Number    False\n",
              "Customer_ID           False\n",
              "Time_stamp            False\n",
              "Category              False\n",
              "Amount_Transacted     False\n",
              "First                 False\n",
              "Last                  False\n",
              "Gender                False\n",
              "Street                False\n",
              "City                  False\n",
              "Is_fraud              False\n",
              "Credit_Limit          False\n",
              "No_of_Transactions    False\n",
              "Amounts_received      False\n",
              "Card_Type             False\n",
              "Authentication        False\n",
              "dtype: bool"
            ]
          },
          "execution_count": 149,
          "metadata": {},
          "output_type": "execute_result"
        }
      ],
      "source": [
        "#confirming no missing values left in Data Frame Amanda\n",
        "Amanda.isnull().any() \n"
      ]
    },
    {
      "cell_type": "markdown",
      "metadata": {
        "id": "JvROcGX7YVHC"
      },
      "source": [
        "### Replacing Missing Values for Thomas ID 2.23\n"
      ]
    },
    {
      "cell_type": "code",
      "execution_count": null,
      "metadata": {
        "id": "v2FAs348YVHD",
        "outputId": "ef36c5ae-5c35-4abb-ea6b-c2d932b2fa35"
      },
      "outputs": [
        {
          "data": {
            "text/html": [
              "<div>\n",
              "<style scoped>\n",
              "    .dataframe tbody tr th:only-of-type {\n",
              "        vertical-align: middle;\n",
              "    }\n",
              "\n",
              "    .dataframe tbody tr th {\n",
              "        vertical-align: top;\n",
              "    }\n",
              "\n",
              "    .dataframe thead th {\n",
              "        text-align: right;\n",
              "    }\n",
              "</style>\n",
              "<table border=\"1\" class=\"dataframe\">\n",
              "  <thead>\n",
              "    <tr style=\"text-align: right;\">\n",
              "      <th></th>\n",
              "      <th>Transaction_Number</th>\n",
              "      <th>Customer_ID</th>\n",
              "      <th>Time_stamp</th>\n",
              "      <th>Category</th>\n",
              "      <th>Amount_Transacted</th>\n",
              "      <th>First</th>\n",
              "      <th>Last</th>\n",
              "      <th>Gender</th>\n",
              "      <th>Street</th>\n",
              "      <th>City</th>\n",
              "      <th>Is_fraud</th>\n",
              "      <th>Credit_Limit</th>\n",
              "      <th>No_of_Transactions</th>\n",
              "      <th>Amounts_received</th>\n",
              "      <th>Card_Type</th>\n",
              "      <th>Authentication</th>\n",
              "    </tr>\n",
              "  </thead>\n",
              "  <tbody>\n",
              "    <tr>\n",
              "      <th>37</th>\n",
              "      <td>19277</td>\n",
              "      <td>2.23</td>\n",
              "      <td>12/1/2019 18:03</td>\n",
              "      <td>home</td>\n",
              "      <td>563751.0</td>\n",
              "      <td>Thomas</td>\n",
              "      <td>Hale</td>\n",
              "      <td>Male</td>\n",
              "      <td>949 Smith Parkway</td>\n",
              "      <td>Cazenovia</td>\n",
              "      <td>0</td>\n",
              "      <td>700000.0</td>\n",
              "      <td>1</td>\n",
              "      <td>22770</td>\n",
              "      <td>Gold</td>\n",
              "      <td>Success</td>\n",
              "    </tr>\n",
              "    <tr>\n",
              "      <th>38</th>\n",
              "      <td>20013</td>\n",
              "      <td>2.23</td>\n",
              "      <td>13/01/2019 04:41</td>\n",
              "      <td>gas_transport</td>\n",
              "      <td>161930.0</td>\n",
              "      <td>Thomas</td>\n",
              "      <td>Hale</td>\n",
              "      <td>Male</td>\n",
              "      <td>949 Smith Parkway</td>\n",
              "      <td>Cazenovia</td>\n",
              "      <td>0</td>\n",
              "      <td>700000.0</td>\n",
              "      <td>2</td>\n",
              "      <td>86409</td>\n",
              "      <td>Gold</td>\n",
              "      <td>Success</td>\n",
              "    </tr>\n",
              "    <tr>\n",
              "      <th>39</th>\n",
              "      <td>21708</td>\n",
              "      <td>2.23</td>\n",
              "      <td>14/01/2019 00:05</td>\n",
              "      <td>grocery_net</td>\n",
              "      <td>352806.0</td>\n",
              "      <td>Thomas</td>\n",
              "      <td>Hale</td>\n",
              "      <td>Male</td>\n",
              "      <td>949 Smith Parkway</td>\n",
              "      <td>Cazenovia</td>\n",
              "      <td>0</td>\n",
              "      <td>700000.0</td>\n",
              "      <td>3</td>\n",
              "      <td>44060</td>\n",
              "      <td>Gold</td>\n",
              "      <td>Success</td>\n",
              "    </tr>\n",
              "    <tr>\n",
              "      <th>40</th>\n",
              "      <td>22174</td>\n",
              "      <td>2.23</td>\n",
              "      <td>14/01/2019 05:50</td>\n",
              "      <td>grocery_net</td>\n",
              "      <td>207755.0</td>\n",
              "      <td>Thomas</td>\n",
              "      <td>Hale</td>\n",
              "      <td>Male</td>\n",
              "      <td>949 Smith Parkway</td>\n",
              "      <td>Cazenovia</td>\n",
              "      <td>0</td>\n",
              "      <td>700000.0</td>\n",
              "      <td>1</td>\n",
              "      <td>95466</td>\n",
              "      <td>Gold</td>\n",
              "      <td>Success</td>\n",
              "    </tr>\n",
              "    <tr>\n",
              "      <th>41</th>\n",
              "      <td>22386</td>\n",
              "      <td>2.23</td>\n",
              "      <td>14/01/2019 08:35</td>\n",
              "      <td>misc_pos</td>\n",
              "      <td>489540.0</td>\n",
              "      <td>Thomas</td>\n",
              "      <td>Hale</td>\n",
              "      <td>Male</td>\n",
              "      <td>949 Smith Parkway</td>\n",
              "      <td>Cazenovia</td>\n",
              "      <td>0</td>\n",
              "      <td>700000.0</td>\n",
              "      <td>1</td>\n",
              "      <td>25557</td>\n",
              "      <td>Gold</td>\n",
              "      <td>Success</td>\n",
              "    </tr>\n",
              "  </tbody>\n",
              "</table>\n",
              "</div>"
            ],
            "text/plain": [
              "    Transaction_Number  Customer_ID        Time_stamp       Category  \\\n",
              "37               19277         2.23   12/1/2019 18:03           home   \n",
              "38               20013         2.23  13/01/2019 04:41  gas_transport   \n",
              "39               21708         2.23  14/01/2019 00:05    grocery_net   \n",
              "40               22174         2.23  14/01/2019 05:50    grocery_net   \n",
              "41               22386         2.23  14/01/2019 08:35       misc_pos   \n",
              "\n",
              "    Amount_Transacted   First  Last Gender             Street       City  \\\n",
              "37           563751.0  Thomas  Hale   Male  949 Smith Parkway  Cazenovia   \n",
              "38           161930.0  Thomas  Hale   Male  949 Smith Parkway  Cazenovia   \n",
              "39           352806.0  Thomas  Hale   Male  949 Smith Parkway  Cazenovia   \n",
              "40           207755.0  Thomas  Hale   Male  949 Smith Parkway  Cazenovia   \n",
              "41           489540.0  Thomas  Hale   Male  949 Smith Parkway  Cazenovia   \n",
              "\n",
              "    Is_fraud  Credit_Limit  No_of_Transactions  Amounts_received Card_Type  \\\n",
              "37         0      700000.0                   1             22770      Gold   \n",
              "38         0      700000.0                   2             86409      Gold   \n",
              "39         0      700000.0                   3             44060      Gold   \n",
              "40         0      700000.0                   1             95466      Gold   \n",
              "41         0      700000.0                   1             25557      Gold   \n",
              "\n",
              "   Authentication  \n",
              "37        Success  \n",
              "38        Success  \n",
              "39        Success  \n",
              "40        Success  \n",
              "41        Success  "
            ]
          },
          "execution_count": 150,
          "metadata": {},
          "output_type": "execute_result"
        }
      ],
      "source": [
        "#loading data for customer ID\n",
        "Thomas = df.loc[(customer_ID_nan[1])== df['Customer_ID']]\n",
        "Thomas.head()"
      ]
    },
    {
      "cell_type": "code",
      "execution_count": null,
      "metadata": {
        "id": "1PDQMBC2YVHD",
        "outputId": "eac0ac6f-5fd9-43c4-f896-44ceaff8a5da"
      },
      "outputs": [
        {
          "data": {
            "text/plain": [
              "Transaction_Number    False\n",
              "Customer_ID           False\n",
              "Time_stamp            False\n",
              "Category              False\n",
              "Amount_Transacted      True\n",
              "First                 False\n",
              "Last                  False\n",
              "Gender                False\n",
              "Street                False\n",
              "City                  False\n",
              "Is_fraud              False\n",
              "Credit_Limit          False\n",
              "No_of_Transactions    False\n",
              "Amounts_received      False\n",
              "Card_Type             False\n",
              "Authentication        False\n",
              "dtype: bool"
            ]
          },
          "execution_count": 151,
          "metadata": {},
          "output_type": "execute_result"
        }
      ],
      "source": [
        "#Amount transacted has null values in dataset Thomas\n",
        "Thomas.isnull().any()"
      ]
    },
    {
      "cell_type": "code",
      "execution_count": null,
      "metadata": {
        "id": "qSaN4bY_YVHD",
        "outputId": "4045855e-17ca-4f61-9b96-17150b78ac42"
      },
      "outputs": [
        {
          "data": {
            "text/plain": [
              "37    563751.0\n",
              "38    161930.0\n",
              "39    352806.0\n",
              "40    207755.0\n",
              "41    489540.0\n",
              "42    274395.0\n",
              "43         NaN\n",
              "44    105690.0\n",
              "45    694888.0\n",
              "Name: Amount_Transacted, dtype: float64"
            ]
          },
          "execution_count": 152,
          "metadata": {},
          "output_type": "execute_result"
        }
      ],
      "source": [
        "#finding the missing value\n",
        "Thomas ['Amount_Transacted']"
      ]
    },
    {
      "cell_type": "code",
      "execution_count": null,
      "metadata": {
        "id": "jHfj1XW8YVHD",
        "outputId": "fdd7d039-6dba-48fc-923c-8335f7afe7d1"
      },
      "outputs": [
        {
          "name": "stderr",
          "output_type": "stream",
          "text": [
            "C:\\Users\\Julie\\AppData\\Local\\Temp\\ipykernel_4948\\3659599552.py:2: SettingWithCopyWarning: \n",
            "A value is trying to be set on a copy of a slice from a DataFrame.\n",
            "Try using .loc[row_indexer,col_indexer] = value instead\n",
            "\n",
            "See the caveats in the documentation: https://pandas.pydata.org/pandas-docs/stable/user_guide/indexing.html#returning-a-view-versus-a-copy\n",
            "  Thomas ['Amount_Transacted'] = Thomas ['Amount_Transacted'].fillna(Thomas ['Amount_Transacted'].mean())\n"
          ]
        },
        {
          "data": {
            "text/plain": [
              "37    563751.000\n",
              "38    161930.000\n",
              "39    352806.000\n",
              "40    207755.000\n",
              "41    489540.000\n",
              "42    274395.000\n",
              "43    356344.375\n",
              "44    105690.000\n",
              "45    694888.000\n",
              "Name: Amount_Transacted, dtype: float64"
            ]
          },
          "execution_count": 153,
          "metadata": {},
          "output_type": "execute_result"
        }
      ],
      "source": [
        "#Replacing the missing values\n",
        "Thomas ['Amount_Transacted'] = Thomas ['Amount_Transacted'].fillna(Thomas ['Amount_Transacted'].mean())\n",
        "Thomas ['Amount_Transacted'] "
      ]
    },
    {
      "cell_type": "code",
      "execution_count": null,
      "metadata": {
        "id": "UBX0y2yeYVHD",
        "outputId": "8822b154-db85-45c2-95f7-1e9b27d0c5ac"
      },
      "outputs": [
        {
          "data": {
            "text/plain": [
              "Transaction_Number    False\n",
              "Customer_ID           False\n",
              "Time_stamp            False\n",
              "Category              False\n",
              "Amount_Transacted     False\n",
              "First                 False\n",
              "Last                  False\n",
              "Gender                False\n",
              "Street                False\n",
              "City                  False\n",
              "Is_fraud              False\n",
              "Credit_Limit          False\n",
              "No_of_Transactions    False\n",
              "Amounts_received      False\n",
              "Card_Type             False\n",
              "Authentication        False\n",
              "dtype: bool"
            ]
          },
          "execution_count": 154,
          "metadata": {},
          "output_type": "execute_result"
        }
      ],
      "source": [
        "#Verifying missing values have been removed\n",
        "Thomas.isnull().any()"
      ]
    },
    {
      "cell_type": "markdown",
      "metadata": {
        "id": "qFs0c0rHYVHE"
      },
      "source": [
        "### Replacing Missing Values for Bradley 6.04"
      ]
    },
    {
      "cell_type": "code",
      "execution_count": null,
      "metadata": {
        "id": "rkg-iiMLYVHE",
        "outputId": "744ce7a3-e115-488c-bc0e-cc9249ca30d9"
      },
      "outputs": [
        {
          "data": {
            "text/html": [
              "<div>\n",
              "<style scoped>\n",
              "    .dataframe tbody tr th:only-of-type {\n",
              "        vertical-align: middle;\n",
              "    }\n",
              "\n",
              "    .dataframe tbody tr th {\n",
              "        vertical-align: top;\n",
              "    }\n",
              "\n",
              "    .dataframe thead th {\n",
              "        text-align: right;\n",
              "    }\n",
              "</style>\n",
              "<table border=\"1\" class=\"dataframe\">\n",
              "  <thead>\n",
              "    <tr style=\"text-align: right;\">\n",
              "      <th></th>\n",
              "      <th>Transaction_Number</th>\n",
              "      <th>Customer_ID</th>\n",
              "      <th>Time_stamp</th>\n",
              "      <th>Category</th>\n",
              "      <th>Amount_Transacted</th>\n",
              "      <th>First</th>\n",
              "      <th>Last</th>\n",
              "      <th>Gender</th>\n",
              "      <th>Street</th>\n",
              "      <th>City</th>\n",
              "      <th>Is_fraud</th>\n",
              "      <th>Credit_Limit</th>\n",
              "      <th>No_of_Transactions</th>\n",
              "      <th>Amounts_received</th>\n",
              "      <th>Card_Type</th>\n",
              "      <th>Authentication</th>\n",
              "    </tr>\n",
              "  </thead>\n",
              "  <tbody>\n",
              "    <tr>\n",
              "      <th>51</th>\n",
              "      <td>586</td>\n",
              "      <td>6.04</td>\n",
              "      <td>1/1/2019 7:36</td>\n",
              "      <td>grocery_pos</td>\n",
              "      <td>640653.0</td>\n",
              "      <td>Bradley</td>\n",
              "      <td>Martinez</td>\n",
              "      <td>Male</td>\n",
              "      <td>3426 David Divide Suite 717</td>\n",
              "      <td>Burns Flat</td>\n",
              "      <td>0</td>\n",
              "      <td>900000.0</td>\n",
              "      <td>3</td>\n",
              "      <td>89201</td>\n",
              "      <td>Platinum</td>\n",
              "      <td>Success</td>\n",
              "    </tr>\n",
              "    <tr>\n",
              "      <th>52</th>\n",
              "      <td>5240</td>\n",
              "      <td>6.04</td>\n",
              "      <td>4/1/2019 10:07</td>\n",
              "      <td>grocery_pos</td>\n",
              "      <td>745493.0</td>\n",
              "      <td>Bradley</td>\n",
              "      <td>Martinez</td>\n",
              "      <td>Male</td>\n",
              "      <td>3426 David Divide Suite 717</td>\n",
              "      <td>Burns Flat</td>\n",
              "      <td>0</td>\n",
              "      <td>900000.0</td>\n",
              "      <td>2</td>\n",
              "      <td>31362</td>\n",
              "      <td>Platinum</td>\n",
              "      <td>Success</td>\n",
              "    </tr>\n",
              "    <tr>\n",
              "      <th>53</th>\n",
              "      <td>5886</td>\n",
              "      <td>6.04</td>\n",
              "      <td>4/1/2019 19:25</td>\n",
              "      <td>home</td>\n",
              "      <td>868021.0</td>\n",
              "      <td>Bradley</td>\n",
              "      <td>Martinez</td>\n",
              "      <td>Male</td>\n",
              "      <td>3426 David Divide Suite 717</td>\n",
              "      <td>Burns Flat</td>\n",
              "      <td>0</td>\n",
              "      <td>900000.0</td>\n",
              "      <td>3</td>\n",
              "      <td>31436</td>\n",
              "      <td>Platinum</td>\n",
              "      <td>Success</td>\n",
              "    </tr>\n",
              "  </tbody>\n",
              "</table>\n",
              "</div>"
            ],
            "text/plain": [
              "    Transaction_Number  Customer_ID      Time_stamp     Category  \\\n",
              "51                 586         6.04   1/1/2019 7:36  grocery_pos   \n",
              "52                5240         6.04  4/1/2019 10:07  grocery_pos   \n",
              "53                5886         6.04  4/1/2019 19:25         home   \n",
              "\n",
              "    Amount_Transacted    First      Last Gender                       Street  \\\n",
              "51           640653.0  Bradley  Martinez   Male  3426 David Divide Suite 717   \n",
              "52           745493.0  Bradley  Martinez   Male  3426 David Divide Suite 717   \n",
              "53           868021.0  Bradley  Martinez   Male  3426 David Divide Suite 717   \n",
              "\n",
              "          City  Is_fraud  Credit_Limit  No_of_Transactions  Amounts_received  \\\n",
              "51  Burns Flat         0      900000.0                   3             89201   \n",
              "52  Burns Flat         0      900000.0                   2             31362   \n",
              "53  Burns Flat         0      900000.0                   3             31436   \n",
              "\n",
              "   Card_Type Authentication  \n",
              "51  Platinum        Success  \n",
              "52  Platinum        Success  \n",
              "53  Platinum        Success  "
            ]
          },
          "execution_count": 155,
          "metadata": {},
          "output_type": "execute_result"
        }
      ],
      "source": [
        "#loading data for customer ID\n",
        "Bradley = df.loc[(customer_ID_nan[2])== df['Customer_ID']]\n",
        "Bradley.head(3)"
      ]
    },
    {
      "cell_type": "code",
      "execution_count": null,
      "metadata": {
        "id": "hRdCB-1CYVHE",
        "outputId": "28292180-9603-42ea-9a80-3f25a37e0ba3"
      },
      "outputs": [
        {
          "data": {
            "text/plain": [
              "Transaction_Number    False\n",
              "Customer_ID           False\n",
              "Time_stamp            False\n",
              "Category              False\n",
              "Amount_Transacted     False\n",
              "First                 False\n",
              "Last                  False\n",
              "Gender                False\n",
              "Street                 True\n",
              "City                  False\n",
              "Is_fraud              False\n",
              "Credit_Limit          False\n",
              "No_of_Transactions    False\n",
              "Amounts_received      False\n",
              "Card_Type             False\n",
              "Authentication        False\n",
              "dtype: bool"
            ]
          },
          "execution_count": 156,
          "metadata": {},
          "output_type": "execute_result"
        }
      ],
      "source": [
        "#Checking for missing values\n",
        "Bradley.isnull().any()"
      ]
    },
    {
      "cell_type": "code",
      "execution_count": null,
      "metadata": {
        "id": "GRsUzsjNYVHE",
        "outputId": "c9bb13bb-e5c3-4909-c1ee-4078c5d4b067"
      },
      "outputs": [
        {
          "name": "stderr",
          "output_type": "stream",
          "text": [
            "C:\\Users\\Julie\\AppData\\Local\\Temp\\ipykernel_4948\\2448734297.py:2: SettingWithCopyWarning: \n",
            "A value is trying to be set on a copy of a slice from a DataFrame.\n",
            "Try using .loc[row_indexer,col_indexer] = value instead\n",
            "\n",
            "See the caveats in the documentation: https://pandas.pydata.org/pandas-docs/stable/user_guide/indexing.html#returning-a-view-versus-a-copy\n",
            "  Bradley['Street'] = Bradley['Street'].replace({np.nan: '3426 David Divide Suite 717'})\n"
          ]
        },
        {
          "data": {
            "text/plain": [
              "51    3426 David Divide Suite 717\n",
              "52    3426 David Divide Suite 717\n",
              "53    3426 David Divide Suite 717\n",
              "54    3426 David Divide Suite 717\n",
              "55    3426 David Divide Suite 717\n",
              "56    3426 David Divide Suite 717\n",
              "57    3426 David Divide Suite 717\n",
              "58    3426 David Divide Suite 717\n",
              "59    3426 David Divide Suite 717\n",
              "Name: Street, dtype: object"
            ]
          },
          "execution_count": 158,
          "metadata": {},
          "output_type": "execute_result"
        }
      ],
      "source": [
        "#Replacing Missing values\n",
        "Bradley['Street'] = Bradley['Street'].replace({np.nan: '3426 David Divide Suite 717'})\n",
        "Bradley['Street']"
      ]
    },
    {
      "cell_type": "code",
      "execution_count": null,
      "metadata": {
        "id": "PLR3dWckYVHE",
        "outputId": "19e539d6-a635-4025-d248-d4b650fe8298"
      },
      "outputs": [
        {
          "data": {
            "text/plain": [
              "Transaction_Number    False\n",
              "Customer_ID           False\n",
              "Time_stamp            False\n",
              "Category              False\n",
              "Amount_Transacted     False\n",
              "First                 False\n",
              "Last                  False\n",
              "Gender                False\n",
              "Street                False\n",
              "City                  False\n",
              "Is_fraud              False\n",
              "Credit_Limit          False\n",
              "No_of_Transactions    False\n",
              "Amounts_received      False\n",
              "Card_Type             False\n",
              "Authentication        False\n",
              "dtype: bool"
            ]
          },
          "execution_count": 159,
          "metadata": {},
          "output_type": "execute_result"
        }
      ],
      "source": [
        "#Verifying missing values have been removed\n",
        "Bradley.isnull().any()"
      ]
    },
    {
      "cell_type": "markdown",
      "metadata": {
        "id": "9U9hxTfBYVHF"
      },
      "source": [
        "### Replacing Missing Values for Jacqueline ID 3.86"
      ]
    },
    {
      "cell_type": "code",
      "execution_count": null,
      "metadata": {
        "id": "qp0JVQz7YVHF",
        "outputId": "5592b840-9702-4c71-8010-334eda9772bf"
      },
      "outputs": [
        {
          "data": {
            "text/html": [
              "<div>\n",
              "<style scoped>\n",
              "    .dataframe tbody tr th:only-of-type {\n",
              "        vertical-align: middle;\n",
              "    }\n",
              "\n",
              "    .dataframe tbody tr th {\n",
              "        vertical-align: top;\n",
              "    }\n",
              "\n",
              "    .dataframe thead th {\n",
              "        text-align: right;\n",
              "    }\n",
              "</style>\n",
              "<table border=\"1\" class=\"dataframe\">\n",
              "  <thead>\n",
              "    <tr style=\"text-align: right;\">\n",
              "      <th></th>\n",
              "      <th>Transaction_Number</th>\n",
              "      <th>Customer_ID</th>\n",
              "      <th>Time_stamp</th>\n",
              "      <th>Category</th>\n",
              "      <th>Amount_Transacted</th>\n",
              "      <th>First</th>\n",
              "      <th>Last</th>\n",
              "      <th>Gender</th>\n",
              "      <th>Street</th>\n",
              "      <th>City</th>\n",
              "      <th>Is_fraud</th>\n",
              "      <th>Credit_Limit</th>\n",
              "      <th>No_of_Transactions</th>\n",
              "      <th>Amounts_received</th>\n",
              "      <th>Card_Type</th>\n",
              "      <th>Authentication</th>\n",
              "    </tr>\n",
              "  </thead>\n",
              "  <tbody>\n",
              "    <tr>\n",
              "      <th>138</th>\n",
              "      <td>191696</td>\n",
              "      <td>3.86</td>\n",
              "      <td>8/4/2019 19:54</td>\n",
              "      <td>misc_pos</td>\n",
              "      <td>389097.0</td>\n",
              "      <td>Jacqueline</td>\n",
              "      <td>Curry</td>\n",
              "      <td>Female</td>\n",
              "      <td>3047 Jeff Place</td>\n",
              "      <td>Marathon</td>\n",
              "      <td>0</td>\n",
              "      <td>900000.0</td>\n",
              "      <td>1</td>\n",
              "      <td>49884</td>\n",
              "      <td>Platinum</td>\n",
              "      <td>Success</td>\n",
              "    </tr>\n",
              "    <tr>\n",
              "      <th>139</th>\n",
              "      <td>192429</td>\n",
              "      <td>3.86</td>\n",
              "      <td>9/4/2019 1:15</td>\n",
              "      <td>gas_transport</td>\n",
              "      <td>880778.0</td>\n",
              "      <td>Jacqueline</td>\n",
              "      <td>Curry</td>\n",
              "      <td>Female</td>\n",
              "      <td>3047 Jeff Place</td>\n",
              "      <td>Marathon</td>\n",
              "      <td>0</td>\n",
              "      <td>900000.0</td>\n",
              "      <td>2</td>\n",
              "      <td>75261</td>\n",
              "      <td>Platinum</td>\n",
              "      <td>Success</td>\n",
              "    </tr>\n",
              "    <tr>\n",
              "      <th>140</th>\n",
              "      <td>193412</td>\n",
              "      <td>3.86</td>\n",
              "      <td>9/4/2019 18:31</td>\n",
              "      <td>personal_care</td>\n",
              "      <td>327971.0</td>\n",
              "      <td>Jacqueline</td>\n",
              "      <td>Curry</td>\n",
              "      <td>Female</td>\n",
              "      <td>3047 Jeff Place</td>\n",
              "      <td>Marathon</td>\n",
              "      <td>0</td>\n",
              "      <td>900000.0</td>\n",
              "      <td>2</td>\n",
              "      <td>49454</td>\n",
              "      <td>Platinum</td>\n",
              "      <td>Success</td>\n",
              "    </tr>\n",
              "  </tbody>\n",
              "</table>\n",
              "</div>"
            ],
            "text/plain": [
              "     Transaction_Number  Customer_ID      Time_stamp       Category  \\\n",
              "138              191696         3.86  8/4/2019 19:54       misc_pos   \n",
              "139              192429         3.86   9/4/2019 1:15  gas_transport   \n",
              "140              193412         3.86  9/4/2019 18:31  personal_care   \n",
              "\n",
              "     Amount_Transacted       First   Last  Gender           Street      City  \\\n",
              "138           389097.0  Jacqueline  Curry  Female  3047 Jeff Place  Marathon   \n",
              "139           880778.0  Jacqueline  Curry  Female  3047 Jeff Place  Marathon   \n",
              "140           327971.0  Jacqueline  Curry  Female  3047 Jeff Place  Marathon   \n",
              "\n",
              "     Is_fraud  Credit_Limit  No_of_Transactions  Amounts_received Card_Type  \\\n",
              "138         0      900000.0                   1             49884  Platinum   \n",
              "139         0      900000.0                   2             75261  Platinum   \n",
              "140         0      900000.0                   2             49454  Platinum   \n",
              "\n",
              "    Authentication  \n",
              "138        Success  \n",
              "139        Success  \n",
              "140        Success  "
            ]
          },
          "execution_count": 160,
          "metadata": {},
          "output_type": "execute_result"
        }
      ],
      "source": [
        "#loading data for customer ID\n",
        "Jacqueline = df.loc[(customer_ID_nan[3])== df['Customer_ID']]\n",
        "Jacqueline.head(3)"
      ]
    },
    {
      "cell_type": "code",
      "execution_count": null,
      "metadata": {
        "id": "FM7MCSSsYVHF",
        "outputId": "bfa66038-d050-42d1-92a8-7178a82952ce"
      },
      "outputs": [
        {
          "data": {
            "text/plain": [
              "Transaction_Number    False\n",
              "Customer_ID           False\n",
              "Time_stamp            False\n",
              "Category              False\n",
              "Amount_Transacted      True\n",
              "First                 False\n",
              "Last                  False\n",
              "Gender                False\n",
              "Street                False\n",
              "City                  False\n",
              "Is_fraud              False\n",
              "Credit_Limit          False\n",
              "No_of_Transactions    False\n",
              "Amounts_received      False\n",
              "Card_Type             False\n",
              "Authentication        False\n",
              "dtype: bool"
            ]
          },
          "execution_count": 161,
          "metadata": {},
          "output_type": "execute_result"
        }
      ],
      "source": [
        "#Jacqueline has missing value(s) Amount Transacted\n",
        "Jacqueline.isnull().any()"
      ]
    },
    {
      "cell_type": "code",
      "execution_count": null,
      "metadata": {
        "id": "wrJNbTRDYVHF",
        "outputId": "8c7d7466-9b13-49f6-cef6-b850071a17a5"
      },
      "outputs": [
        {
          "name": "stderr",
          "output_type": "stream",
          "text": [
            "C:\\Users\\Julie\\AppData\\Local\\Temp\\ipykernel_4948\\340347097.py:2: SettingWithCopyWarning: \n",
            "A value is trying to be set on a copy of a slice from a DataFrame.\n",
            "Try using .loc[row_indexer,col_indexer] = value instead\n",
            "\n",
            "See the caveats in the documentation: https://pandas.pydata.org/pandas-docs/stable/user_guide/indexing.html#returning-a-view-versus-a-copy\n",
            "  Jacqueline['Amount_Transacted'] = Jacqueline['Amount_Transacted'].fillna(Jacqueline['Amount_Transacted'].mean())\n"
          ]
        },
        {
          "data": {
            "text/plain": [
              "138    389097.000000\n",
              "139    880778.000000\n",
              "140    327971.000000\n",
              "141    689201.000000\n",
              "142    792440.000000\n",
              "143    559446.181818\n",
              "144    502399.000000\n",
              "145    272804.000000\n",
              "146    613280.000000\n",
              "147    876491.000000\n",
              "148    559446.181818\n",
              "149    294184.000000\n",
              "150    515263.000000\n",
              "Name: Amount_Transacted, dtype: float64"
            ]
          },
          "execution_count": 163,
          "metadata": {},
          "output_type": "execute_result"
        }
      ],
      "source": [
        "#Replacing Missing values\n",
        "Jacqueline['Amount_Transacted'] = Jacqueline['Amount_Transacted'].fillna(Jacqueline['Amount_Transacted'].mean())\n",
        "Jacqueline['Amount_Transacted'] "
      ]
    },
    {
      "cell_type": "code",
      "execution_count": null,
      "metadata": {
        "id": "nw10wuWsYVHF",
        "outputId": "011ef3cd-1a0b-4c07-92cd-e92bde77a611"
      },
      "outputs": [
        {
          "data": {
            "text/plain": [
              "Transaction_Number    False\n",
              "Customer_ID           False\n",
              "Time_stamp            False\n",
              "Category              False\n",
              "Amount_Transacted     False\n",
              "First                 False\n",
              "Last                  False\n",
              "Gender                False\n",
              "Street                False\n",
              "City                  False\n",
              "Is_fraud              False\n",
              "Credit_Limit          False\n",
              "No_of_Transactions    False\n",
              "Amounts_received      False\n",
              "Card_Type             False\n",
              "Authentication        False\n",
              "dtype: bool"
            ]
          },
          "execution_count": 164,
          "metadata": {},
          "output_type": "execute_result"
        }
      ],
      "source": [
        "#confirming all the missing values are treated\n",
        "Jacqueline.isnull().any()"
      ]
    },
    {
      "cell_type": "code",
      "execution_count": null,
      "metadata": {
        "id": "ZyE2SgSKYVHF",
        "outputId": "41b6ecae-09d2-4c09-d7aa-609a19bb8b2f"
      },
      "outputs": [
        {
          "data": {
            "text/html": [
              "<div>\n",
              "<style scoped>\n",
              "    .dataframe tbody tr th:only-of-type {\n",
              "        vertical-align: middle;\n",
              "    }\n",
              "\n",
              "    .dataframe tbody tr th {\n",
              "        vertical-align: top;\n",
              "    }\n",
              "\n",
              "    .dataframe thead th {\n",
              "        text-align: right;\n",
              "    }\n",
              "</style>\n",
              "<table border=\"1\" class=\"dataframe\">\n",
              "  <thead>\n",
              "    <tr style=\"text-align: right;\">\n",
              "      <th></th>\n",
              "      <th>Transaction_Number</th>\n",
              "      <th>Customer_ID</th>\n",
              "      <th>Time_stamp</th>\n",
              "      <th>Category</th>\n",
              "      <th>Amount_Transacted</th>\n",
              "      <th>First</th>\n",
              "      <th>Last</th>\n",
              "      <th>Gender</th>\n",
              "      <th>Street</th>\n",
              "      <th>City</th>\n",
              "      <th>Is_fraud</th>\n",
              "      <th>Credit_Limit</th>\n",
              "      <th>No_of_Transactions</th>\n",
              "      <th>Amounts_received</th>\n",
              "      <th>Card_Type</th>\n",
              "      <th>Authentication</th>\n",
              "    </tr>\n",
              "  </thead>\n",
              "  <tbody>\n",
              "    <tr>\n",
              "      <th>16</th>\n",
              "      <td>51250</td>\n",
              "      <td>6.59</td>\n",
              "      <td>30/01/2019 23:16</td>\n",
              "      <td>kids_pets</td>\n",
              "      <td>297820.0</td>\n",
              "      <td>Amanda</td>\n",
              "      <td>Molina</td>\n",
              "      <td>Female</td>\n",
              "      <td>8425 Daniel Knolls Suite 288</td>\n",
              "      <td>Philadelphia</td>\n",
              "      <td>0</td>\n",
              "      <td>1000000.0</td>\n",
              "      <td>2</td>\n",
              "      <td>42187</td>\n",
              "      <td>Platinum</td>\n",
              "      <td>Success</td>\n",
              "    </tr>\n",
              "    <tr>\n",
              "      <th>17</th>\n",
              "      <td>51528</td>\n",
              "      <td>6.59</td>\n",
              "      <td>31/01/2019 05:41</td>\n",
              "      <td>grocery_net</td>\n",
              "      <td>687879.0</td>\n",
              "      <td>Amanda</td>\n",
              "      <td>Molina</td>\n",
              "      <td>Female</td>\n",
              "      <td>8425 Daniel Knolls Suite 288</td>\n",
              "      <td>Philadelphia</td>\n",
              "      <td>0</td>\n",
              "      <td>1000000.0</td>\n",
              "      <td>3</td>\n",
              "      <td>98637</td>\n",
              "      <td>Platinum</td>\n",
              "      <td>Success</td>\n",
              "    </tr>\n",
              "    <tr>\n",
              "      <th>18</th>\n",
              "      <td>53779</td>\n",
              "      <td>6.59</td>\n",
              "      <td>1/2/2019 20:58</td>\n",
              "      <td>personal_care</td>\n",
              "      <td>738456.0</td>\n",
              "      <td>Amanda</td>\n",
              "      <td>Molina</td>\n",
              "      <td>Female</td>\n",
              "      <td>8425 Daniel Knolls Suite 288</td>\n",
              "      <td>Philadelphia</td>\n",
              "      <td>0</td>\n",
              "      <td>1000000.0</td>\n",
              "      <td>1</td>\n",
              "      <td>21304</td>\n",
              "      <td>Platinum</td>\n",
              "      <td>Success</td>\n",
              "    </tr>\n",
              "  </tbody>\n",
              "</table>\n",
              "</div>"
            ],
            "text/plain": [
              "    Transaction_Number  Customer_ID        Time_stamp       Category  \\\n",
              "16               51250         6.59  30/01/2019 23:16      kids_pets   \n",
              "17               51528         6.59  31/01/2019 05:41    grocery_net   \n",
              "18               53779         6.59    1/2/2019 20:58  personal_care   \n",
              "\n",
              "    Amount_Transacted   First    Last  Gender                        Street  \\\n",
              "16           297820.0  Amanda  Molina  Female  8425 Daniel Knolls Suite 288   \n",
              "17           687879.0  Amanda  Molina  Female  8425 Daniel Knolls Suite 288   \n",
              "18           738456.0  Amanda  Molina  Female  8425 Daniel Knolls Suite 288   \n",
              "\n",
              "            City  Is_fraud  Credit_Limit  No_of_Transactions  \\\n",
              "16  Philadelphia         0     1000000.0                   2   \n",
              "17  Philadelphia         0     1000000.0                   3   \n",
              "18  Philadelphia         0     1000000.0                   1   \n",
              "\n",
              "    Amounts_received Card_Type Authentication  \n",
              "16             42187  Platinum        Success  \n",
              "17             98637  Platinum        Success  \n",
              "18             21304  Platinum        Success  "
            ]
          },
          "execution_count": 165,
          "metadata": {},
          "output_type": "execute_result"
        }
      ],
      "source": [
        "#concatenating all cleaned Customer ID's into a new data frame\n",
        "frames = [Amanda, Thomas, Bradley, Jacqueline] \n",
        "df_frames = pd.concat(frames)\n",
        "df_frames.head(3)"
      ]
    },
    {
      "cell_type": "code",
      "execution_count": null,
      "metadata": {
        "id": "LF7TpT_FYVHG",
        "outputId": "3374eed7-34d2-4b51-c18f-28e5f754c02e"
      },
      "outputs": [
        {
          "data": {
            "text/html": [
              "<div>\n",
              "<style scoped>\n",
              "    .dataframe tbody tr th:only-of-type {\n",
              "        vertical-align: middle;\n",
              "    }\n",
              "\n",
              "    .dataframe tbody tr th {\n",
              "        vertical-align: top;\n",
              "    }\n",
              "\n",
              "    .dataframe thead th {\n",
              "        text-align: right;\n",
              "    }\n",
              "</style>\n",
              "<table border=\"1\" class=\"dataframe\">\n",
              "  <thead>\n",
              "    <tr style=\"text-align: right;\">\n",
              "      <th></th>\n",
              "      <th>Transaction_Number</th>\n",
              "      <th>Customer_ID</th>\n",
              "      <th>Time_stamp</th>\n",
              "      <th>Category</th>\n",
              "      <th>Amount_Transacted</th>\n",
              "      <th>First</th>\n",
              "      <th>Last</th>\n",
              "      <th>Gender</th>\n",
              "      <th>Street</th>\n",
              "      <th>City</th>\n",
              "      <th>Is_fraud</th>\n",
              "      <th>Credit_Limit</th>\n",
              "      <th>No_of_Transactions</th>\n",
              "      <th>Amounts_received</th>\n",
              "      <th>Card_Type</th>\n",
              "      <th>Authentication</th>\n",
              "    </tr>\n",
              "  </thead>\n",
              "  <tbody>\n",
              "    <tr>\n",
              "      <th>0</th>\n",
              "      <td>NaN</td>\n",
              "      <td>NaN</td>\n",
              "      <td>NaN</td>\n",
              "      <td>NaN</td>\n",
              "      <td>NaN</td>\n",
              "      <td>NaN</td>\n",
              "      <td>NaN</td>\n",
              "      <td>NaN</td>\n",
              "      <td>NaN</td>\n",
              "      <td>NaN</td>\n",
              "      <td>NaN</td>\n",
              "      <td>NaN</td>\n",
              "      <td>NaN</td>\n",
              "      <td>NaN</td>\n",
              "      <td>NaN</td>\n",
              "      <td>NaN</td>\n",
              "    </tr>\n",
              "    <tr>\n",
              "      <th>1</th>\n",
              "      <td>NaN</td>\n",
              "      <td>NaN</td>\n",
              "      <td>NaN</td>\n",
              "      <td>NaN</td>\n",
              "      <td>NaN</td>\n",
              "      <td>NaN</td>\n",
              "      <td>NaN</td>\n",
              "      <td>NaN</td>\n",
              "      <td>NaN</td>\n",
              "      <td>NaN</td>\n",
              "      <td>NaN</td>\n",
              "      <td>NaN</td>\n",
              "      <td>NaN</td>\n",
              "      <td>NaN</td>\n",
              "      <td>NaN</td>\n",
              "      <td>NaN</td>\n",
              "    </tr>\n",
              "    <tr>\n",
              "      <th>2</th>\n",
              "      <td>NaN</td>\n",
              "      <td>NaN</td>\n",
              "      <td>NaN</td>\n",
              "      <td>NaN</td>\n",
              "      <td>NaN</td>\n",
              "      <td>NaN</td>\n",
              "      <td>NaN</td>\n",
              "      <td>NaN</td>\n",
              "      <td>NaN</td>\n",
              "      <td>NaN</td>\n",
              "      <td>NaN</td>\n",
              "      <td>NaN</td>\n",
              "      <td>NaN</td>\n",
              "      <td>NaN</td>\n",
              "      <td>NaN</td>\n",
              "      <td>NaN</td>\n",
              "    </tr>\n",
              "    <tr>\n",
              "      <th>3</th>\n",
              "      <td>NaN</td>\n",
              "      <td>NaN</td>\n",
              "      <td>NaN</td>\n",
              "      <td>NaN</td>\n",
              "      <td>NaN</td>\n",
              "      <td>NaN</td>\n",
              "      <td>NaN</td>\n",
              "      <td>NaN</td>\n",
              "      <td>NaN</td>\n",
              "      <td>NaN</td>\n",
              "      <td>NaN</td>\n",
              "      <td>NaN</td>\n",
              "      <td>NaN</td>\n",
              "      <td>NaN</td>\n",
              "      <td>NaN</td>\n",
              "      <td>NaN</td>\n",
              "    </tr>\n",
              "    <tr>\n",
              "      <th>4</th>\n",
              "      <td>NaN</td>\n",
              "      <td>NaN</td>\n",
              "      <td>NaN</td>\n",
              "      <td>NaN</td>\n",
              "      <td>NaN</td>\n",
              "      <td>NaN</td>\n",
              "      <td>NaN</td>\n",
              "      <td>NaN</td>\n",
              "      <td>NaN</td>\n",
              "      <td>NaN</td>\n",
              "      <td>NaN</td>\n",
              "      <td>NaN</td>\n",
              "      <td>NaN</td>\n",
              "      <td>NaN</td>\n",
              "      <td>NaN</td>\n",
              "      <td>NaN</td>\n",
              "    </tr>\n",
              "    <tr>\n",
              "      <th>...</th>\n",
              "      <td>...</td>\n",
              "      <td>...</td>\n",
              "      <td>...</td>\n",
              "      <td>...</td>\n",
              "      <td>...</td>\n",
              "      <td>...</td>\n",
              "      <td>...</td>\n",
              "      <td>...</td>\n",
              "      <td>...</td>\n",
              "      <td>...</td>\n",
              "      <td>...</td>\n",
              "      <td>...</td>\n",
              "      <td>...</td>\n",
              "      <td>...</td>\n",
              "      <td>...</td>\n",
              "      <td>...</td>\n",
              "    </tr>\n",
              "    <tr>\n",
              "      <th>282</th>\n",
              "      <td>NaN</td>\n",
              "      <td>NaN</td>\n",
              "      <td>NaN</td>\n",
              "      <td>NaN</td>\n",
              "      <td>NaN</td>\n",
              "      <td>NaN</td>\n",
              "      <td>NaN</td>\n",
              "      <td>NaN</td>\n",
              "      <td>NaN</td>\n",
              "      <td>NaN</td>\n",
              "      <td>NaN</td>\n",
              "      <td>NaN</td>\n",
              "      <td>NaN</td>\n",
              "      <td>NaN</td>\n",
              "      <td>NaN</td>\n",
              "      <td>NaN</td>\n",
              "    </tr>\n",
              "    <tr>\n",
              "      <th>283</th>\n",
              "      <td>NaN</td>\n",
              "      <td>NaN</td>\n",
              "      <td>NaN</td>\n",
              "      <td>NaN</td>\n",
              "      <td>NaN</td>\n",
              "      <td>NaN</td>\n",
              "      <td>NaN</td>\n",
              "      <td>NaN</td>\n",
              "      <td>NaN</td>\n",
              "      <td>NaN</td>\n",
              "      <td>NaN</td>\n",
              "      <td>NaN</td>\n",
              "      <td>NaN</td>\n",
              "      <td>NaN</td>\n",
              "      <td>NaN</td>\n",
              "      <td>NaN</td>\n",
              "    </tr>\n",
              "    <tr>\n",
              "      <th>284</th>\n",
              "      <td>NaN</td>\n",
              "      <td>NaN</td>\n",
              "      <td>NaN</td>\n",
              "      <td>NaN</td>\n",
              "      <td>NaN</td>\n",
              "      <td>NaN</td>\n",
              "      <td>NaN</td>\n",
              "      <td>NaN</td>\n",
              "      <td>NaN</td>\n",
              "      <td>NaN</td>\n",
              "      <td>NaN</td>\n",
              "      <td>NaN</td>\n",
              "      <td>NaN</td>\n",
              "      <td>NaN</td>\n",
              "      <td>NaN</td>\n",
              "      <td>NaN</td>\n",
              "    </tr>\n",
              "    <tr>\n",
              "      <th>285</th>\n",
              "      <td>NaN</td>\n",
              "      <td>NaN</td>\n",
              "      <td>NaN</td>\n",
              "      <td>NaN</td>\n",
              "      <td>NaN</td>\n",
              "      <td>NaN</td>\n",
              "      <td>NaN</td>\n",
              "      <td>NaN</td>\n",
              "      <td>NaN</td>\n",
              "      <td>NaN</td>\n",
              "      <td>NaN</td>\n",
              "      <td>NaN</td>\n",
              "      <td>NaN</td>\n",
              "      <td>NaN</td>\n",
              "      <td>NaN</td>\n",
              "      <td>NaN</td>\n",
              "    </tr>\n",
              "    <tr>\n",
              "      <th>286</th>\n",
              "      <td>NaN</td>\n",
              "      <td>NaN</td>\n",
              "      <td>NaN</td>\n",
              "      <td>NaN</td>\n",
              "      <td>NaN</td>\n",
              "      <td>NaN</td>\n",
              "      <td>NaN</td>\n",
              "      <td>NaN</td>\n",
              "      <td>NaN</td>\n",
              "      <td>NaN</td>\n",
              "      <td>NaN</td>\n",
              "      <td>NaN</td>\n",
              "      <td>NaN</td>\n",
              "      <td>NaN</td>\n",
              "      <td>NaN</td>\n",
              "      <td>NaN</td>\n",
              "    </tr>\n",
              "  </tbody>\n",
              "</table>\n",
              "<p>287 rows × 16 columns</p>\n",
              "</div>"
            ],
            "text/plain": [
              "     Transaction_Number  Customer_ID Time_stamp Category  Amount_Transacted  \\\n",
              "0                   NaN          NaN        NaN      NaN                NaN   \n",
              "1                   NaN          NaN        NaN      NaN                NaN   \n",
              "2                   NaN          NaN        NaN      NaN                NaN   \n",
              "3                   NaN          NaN        NaN      NaN                NaN   \n",
              "4                   NaN          NaN        NaN      NaN                NaN   \n",
              "..                  ...          ...        ...      ...                ...   \n",
              "282                 NaN          NaN        NaN      NaN                NaN   \n",
              "283                 NaN          NaN        NaN      NaN                NaN   \n",
              "284                 NaN          NaN        NaN      NaN                NaN   \n",
              "285                 NaN          NaN        NaN      NaN                NaN   \n",
              "286                 NaN          NaN        NaN      NaN                NaN   \n",
              "\n",
              "    First Last Gender Street City  Is_fraud  Credit_Limit  No_of_Transactions  \\\n",
              "0     NaN  NaN    NaN    NaN  NaN       NaN           NaN                 NaN   \n",
              "1     NaN  NaN    NaN    NaN  NaN       NaN           NaN                 NaN   \n",
              "2     NaN  NaN    NaN    NaN  NaN       NaN           NaN                 NaN   \n",
              "3     NaN  NaN    NaN    NaN  NaN       NaN           NaN                 NaN   \n",
              "4     NaN  NaN    NaN    NaN  NaN       NaN           NaN                 NaN   \n",
              "..    ...  ...    ...    ...  ...       ...           ...                 ...   \n",
              "282   NaN  NaN    NaN    NaN  NaN       NaN           NaN                 NaN   \n",
              "283   NaN  NaN    NaN    NaN  NaN       NaN           NaN                 NaN   \n",
              "284   NaN  NaN    NaN    NaN  NaN       NaN           NaN                 NaN   \n",
              "285   NaN  NaN    NaN    NaN  NaN       NaN           NaN                 NaN   \n",
              "286   NaN  NaN    NaN    NaN  NaN       NaN           NaN                 NaN   \n",
              "\n",
              "     Amounts_received Card_Type Authentication  \n",
              "0                 NaN       NaN            NaN  \n",
              "1                 NaN       NaN            NaN  \n",
              "2                 NaN       NaN            NaN  \n",
              "3                 NaN       NaN            NaN  \n",
              "4                 NaN       NaN            NaN  \n",
              "..                ...       ...            ...  \n",
              "282               NaN       NaN            NaN  \n",
              "283               NaN       NaN            NaN  \n",
              "284               NaN       NaN            NaN  \n",
              "285               NaN       NaN            NaN  \n",
              "286               NaN       NaN            NaN  \n",
              "\n",
              "[287 rows x 16 columns]"
            ]
          },
          "execution_count": 166,
          "metadata": {},
          "output_type": "execute_result"
        }
      ],
      "source": [
        "#align cleaned dataframe to initial dataframe\n",
        "d_frame = df_frames.reindex(df.index) #align df_frames to df\n",
        "d_frame"
      ]
    },
    {
      "cell_type": "code",
      "execution_count": null,
      "metadata": {
        "id": "0ZIPCMapYVHG",
        "outputId": "e5a2fe1c-1240-4979-ea46-f969de173b52"
      },
      "outputs": [
        {
          "data": {
            "text/html": [
              "<div>\n",
              "<style scoped>\n",
              "    .dataframe tbody tr th:only-of-type {\n",
              "        vertical-align: middle;\n",
              "    }\n",
              "\n",
              "    .dataframe tbody tr th {\n",
              "        vertical-align: top;\n",
              "    }\n",
              "\n",
              "    .dataframe thead th {\n",
              "        text-align: right;\n",
              "    }\n",
              "</style>\n",
              "<table border=\"1\" class=\"dataframe\">\n",
              "  <thead>\n",
              "    <tr style=\"text-align: right;\">\n",
              "      <th></th>\n",
              "      <th>Transaction_Number</th>\n",
              "      <th>Customer_ID</th>\n",
              "      <th>Time_stamp</th>\n",
              "      <th>Category</th>\n",
              "      <th>Amount_Transacted</th>\n",
              "      <th>First</th>\n",
              "      <th>Last</th>\n",
              "      <th>Gender</th>\n",
              "      <th>Street</th>\n",
              "      <th>City</th>\n",
              "      <th>Is_fraud</th>\n",
              "      <th>Credit_Limit</th>\n",
              "      <th>No_of_Transactions</th>\n",
              "      <th>Amounts_received</th>\n",
              "      <th>Card_Type</th>\n",
              "      <th>Authentication</th>\n",
              "    </tr>\n",
              "  </thead>\n",
              "  <tbody>\n",
              "    <tr>\n",
              "      <th>0</th>\n",
              "      <td>19</td>\n",
              "      <td>4.96</td>\n",
              "      <td>1/1/2019 0:12</td>\n",
              "      <td>grocery_pos</td>\n",
              "      <td>965721.0</td>\n",
              "      <td>Kenneth</td>\n",
              "      <td>Robinson</td>\n",
              "      <td>Male</td>\n",
              "      <td>269 Sanchez Rapids</td>\n",
              "      <td>Elizabeth</td>\n",
              "      <td>0</td>\n",
              "      <td>1000000.0</td>\n",
              "      <td>2</td>\n",
              "      <td>82475</td>\n",
              "      <td>Platinum</td>\n",
              "      <td>Success</td>\n",
              "    </tr>\n",
              "    <tr>\n",
              "      <th>1</th>\n",
              "      <td>1009</td>\n",
              "      <td>4.96</td>\n",
              "      <td>1/1/2019 12:44</td>\n",
              "      <td>food_dining</td>\n",
              "      <td>413052.0</td>\n",
              "      <td>Kenneth</td>\n",
              "      <td>Robinson</td>\n",
              "      <td>Male</td>\n",
              "      <td>269 Sanchez Rapids</td>\n",
              "      <td>Elizabeth</td>\n",
              "      <td>0</td>\n",
              "      <td>1000000.0</td>\n",
              "      <td>1</td>\n",
              "      <td>32555</td>\n",
              "      <td>Platinum</td>\n",
              "      <td>Success</td>\n",
              "    </tr>\n",
              "    <tr>\n",
              "      <th>2</th>\n",
              "      <td>2426</td>\n",
              "      <td>4.96</td>\n",
              "      <td>2/1/2019 0:25</td>\n",
              "      <td>gas_transport</td>\n",
              "      <td>584822.0</td>\n",
              "      <td>Kenneth</td>\n",
              "      <td>Robinson</td>\n",
              "      <td>Male</td>\n",
              "      <td>269 Sanchez Rapids</td>\n",
              "      <td>Elizabeth</td>\n",
              "      <td>0</td>\n",
              "      <td>1000000.0</td>\n",
              "      <td>1</td>\n",
              "      <td>10173</td>\n",
              "      <td>Platinum</td>\n",
              "      <td>Success</td>\n",
              "    </tr>\n",
              "  </tbody>\n",
              "</table>\n",
              "</div>"
            ],
            "text/plain": [
              "   Transaction_Number  Customer_ID      Time_stamp       Category  \\\n",
              "0                  19         4.96   1/1/2019 0:12    grocery_pos   \n",
              "1                1009         4.96  1/1/2019 12:44    food_dining   \n",
              "2                2426         4.96   2/1/2019 0:25  gas_transport   \n",
              "\n",
              "   Amount_Transacted    First      Last Gender              Street       City  \\\n",
              "0           965721.0  Kenneth  Robinson   Male  269 Sanchez Rapids  Elizabeth   \n",
              "1           413052.0  Kenneth  Robinson   Male  269 Sanchez Rapids  Elizabeth   \n",
              "2           584822.0  Kenneth  Robinson   Male  269 Sanchez Rapids  Elizabeth   \n",
              "\n",
              "   Is_fraud  Credit_Limit  No_of_Transactions  Amounts_received Card_Type  \\\n",
              "0         0     1000000.0                   2             82475  Platinum   \n",
              "1         0     1000000.0                   1             32555  Platinum   \n",
              "2         0     1000000.0                   1             10173  Platinum   \n",
              "\n",
              "  Authentication  \n",
              "0        Success  \n",
              "1        Success  \n",
              "2        Success  "
            ]
          },
          "execution_count": 167,
          "metadata": {},
          "output_type": "execute_result"
        }
      ],
      "source": [
        "#replace df's null values with df_frame\n",
        "df2 = df.fillna(df_frames) #replace df's null values with df_frame\n",
        "df2.head(3)"
      ]
    },
    {
      "cell_type": "code",
      "execution_count": null,
      "metadata": {
        "id": "H1Hb5vIWYVHG",
        "outputId": "f6153ffd-b128-492c-f269-75471651047d"
      },
      "outputs": [
        {
          "data": {
            "text/html": [
              "<div>\n",
              "<style scoped>\n",
              "    .dataframe tbody tr th:only-of-type {\n",
              "        vertical-align: middle;\n",
              "    }\n",
              "\n",
              "    .dataframe tbody tr th {\n",
              "        vertical-align: top;\n",
              "    }\n",
              "\n",
              "    .dataframe thead th {\n",
              "        text-align: right;\n",
              "    }\n",
              "</style>\n",
              "<table border=\"1\" class=\"dataframe\">\n",
              "  <thead>\n",
              "    <tr style=\"text-align: right;\">\n",
              "      <th></th>\n",
              "      <th>Transaction_Number</th>\n",
              "      <th>Customer_ID</th>\n",
              "      <th>Time_stamp</th>\n",
              "      <th>Category</th>\n",
              "      <th>Amount_Transacted</th>\n",
              "      <th>First</th>\n",
              "      <th>Last</th>\n",
              "      <th>Gender</th>\n",
              "      <th>Street</th>\n",
              "      <th>City</th>\n",
              "      <th>Is_fraud</th>\n",
              "      <th>Credit_Limit</th>\n",
              "      <th>No_of_Transactions</th>\n",
              "      <th>Amounts_received</th>\n",
              "      <th>Card_Type</th>\n",
              "      <th>Authentication</th>\n",
              "    </tr>\n",
              "  </thead>\n",
              "  <tbody>\n",
              "    <tr>\n",
              "      <th>0</th>\n",
              "      <td>19</td>\n",
              "      <td>4.96</td>\n",
              "      <td>1/1/2019 0:12</td>\n",
              "      <td>grocery_pos</td>\n",
              "      <td>965721.0</td>\n",
              "      <td>Kenneth</td>\n",
              "      <td>Robinson</td>\n",
              "      <td>Male</td>\n",
              "      <td>269 Sanchez Rapids</td>\n",
              "      <td>Elizabeth</td>\n",
              "      <td>0</td>\n",
              "      <td>1000000.0</td>\n",
              "      <td>2</td>\n",
              "      <td>82475</td>\n",
              "      <td>Platinum</td>\n",
              "      <td>Success</td>\n",
              "    </tr>\n",
              "    <tr>\n",
              "      <th>1</th>\n",
              "      <td>1009</td>\n",
              "      <td>4.96</td>\n",
              "      <td>1/1/2019 12:44</td>\n",
              "      <td>food_dining</td>\n",
              "      <td>413052.0</td>\n",
              "      <td>Kenneth</td>\n",
              "      <td>Robinson</td>\n",
              "      <td>Male</td>\n",
              "      <td>269 Sanchez Rapids</td>\n",
              "      <td>Elizabeth</td>\n",
              "      <td>0</td>\n",
              "      <td>1000000.0</td>\n",
              "      <td>1</td>\n",
              "      <td>32555</td>\n",
              "      <td>Platinum</td>\n",
              "      <td>Success</td>\n",
              "    </tr>\n",
              "    <tr>\n",
              "      <th>2</th>\n",
              "      <td>2426</td>\n",
              "      <td>4.96</td>\n",
              "      <td>2/1/2019 0:25</td>\n",
              "      <td>gas_transport</td>\n",
              "      <td>584822.0</td>\n",
              "      <td>Kenneth</td>\n",
              "      <td>Robinson</td>\n",
              "      <td>Male</td>\n",
              "      <td>269 Sanchez Rapids</td>\n",
              "      <td>Elizabeth</td>\n",
              "      <td>0</td>\n",
              "      <td>1000000.0</td>\n",
              "      <td>1</td>\n",
              "      <td>10173</td>\n",
              "      <td>Platinum</td>\n",
              "      <td>Success</td>\n",
              "    </tr>\n",
              "  </tbody>\n",
              "</table>\n",
              "</div>"
            ],
            "text/plain": [
              "   Transaction_Number  Customer_ID      Time_stamp       Category  \\\n",
              "0                  19         4.96   1/1/2019 0:12    grocery_pos   \n",
              "1                1009         4.96  1/1/2019 12:44    food_dining   \n",
              "2                2426         4.96   2/1/2019 0:25  gas_transport   \n",
              "\n",
              "   Amount_Transacted    First      Last Gender              Street       City  \\\n",
              "0           965721.0  Kenneth  Robinson   Male  269 Sanchez Rapids  Elizabeth   \n",
              "1           413052.0  Kenneth  Robinson   Male  269 Sanchez Rapids  Elizabeth   \n",
              "2           584822.0  Kenneth  Robinson   Male  269 Sanchez Rapids  Elizabeth   \n",
              "\n",
              "   Is_fraud  Credit_Limit  No_of_Transactions  Amounts_received Card_Type  \\\n",
              "0         0     1000000.0                   2             82475  Platinum   \n",
              "1         0     1000000.0                   1             32555  Platinum   \n",
              "2         0     1000000.0                   1             10173  Platinum   \n",
              "\n",
              "  Authentication  \n",
              "0        Success  \n",
              "1        Success  \n",
              "2        Success  "
            ]
          },
          "execution_count": 168,
          "metadata": {},
          "output_type": "execute_result"
        }
      ],
      "source": [
        "df = df2.copy()\n",
        "df.head(3)"
      ]
    },
    {
      "cell_type": "code",
      "execution_count": null,
      "metadata": {
        "id": "GY50GwRlYVHG",
        "outputId": "e426db69-9e4f-4168-e32b-dc8755c936d3"
      },
      "outputs": [
        {
          "data": {
            "text/plain": [
              "Transaction_Number    False\n",
              "Customer_ID           False\n",
              "Time_stamp            False\n",
              "Category              False\n",
              "Amount_Transacted     False\n",
              "First                 False\n",
              "Last                  False\n",
              "Gender                False\n",
              "Street                False\n",
              "City                  False\n",
              "Is_fraud              False\n",
              "Credit_Limit          False\n",
              "No_of_Transactions    False\n",
              "Amounts_received      False\n",
              "Card_Type             False\n",
              "Authentication        False\n",
              "dtype: bool"
            ]
          },
          "execution_count": 169,
          "metadata": {},
          "output_type": "execute_result"
        }
      ],
      "source": [
        "#Confirming Missing values have been removed\n",
        "df.isnull().any()"
      ]
    },
    {
      "cell_type": "markdown",
      "metadata": {
        "id": "4uZQQ_8NYVHG"
      },
      "source": [
        "## Formating Dataset Columns"
      ]
    },
    {
      "cell_type": "code",
      "execution_count": null,
      "metadata": {
        "id": "Zdx1Z0q0YVHG",
        "outputId": "3396728e-fb03-494b-c402-0612dfa30767"
      },
      "outputs": [
        {
          "data": {
            "text/html": [
              "<div>\n",
              "<style scoped>\n",
              "    .dataframe tbody tr th:only-of-type {\n",
              "        vertical-align: middle;\n",
              "    }\n",
              "\n",
              "    .dataframe tbody tr th {\n",
              "        vertical-align: top;\n",
              "    }\n",
              "\n",
              "    .dataframe thead th {\n",
              "        text-align: right;\n",
              "    }\n",
              "</style>\n",
              "<table border=\"1\" class=\"dataframe\">\n",
              "  <thead>\n",
              "    <tr style=\"text-align: right;\">\n",
              "      <th></th>\n",
              "      <th>Transaction_Number</th>\n",
              "      <th>Customer_ID</th>\n",
              "      <th>Amount_Transacted</th>\n",
              "      <th>Is_fraud</th>\n",
              "      <th>Credit_Limit</th>\n",
              "      <th>No_of_Transactions</th>\n",
              "      <th>Amounts_received</th>\n",
              "    </tr>\n",
              "  </thead>\n",
              "  <tbody>\n",
              "    <tr>\n",
              "      <th>count</th>\n",
              "      <td>287.000000</td>\n",
              "      <td>287.000000</td>\n",
              "      <td>2.870000e+02</td>\n",
              "      <td>287.000000</td>\n",
              "      <td>287.000000</td>\n",
              "      <td>287.000000</td>\n",
              "      <td>287.000000</td>\n",
              "    </tr>\n",
              "    <tr>\n",
              "      <th>mean</th>\n",
              "      <td>108665.017422</td>\n",
              "      <td>5.814007</td>\n",
              "      <td>4.499858e+05</td>\n",
              "      <td>0.491289</td>\n",
              "      <td>711846.689895</td>\n",
              "      <td>2.205575</td>\n",
              "      <td>42716.344948</td>\n",
              "    </tr>\n",
              "    <tr>\n",
              "      <th>std</th>\n",
              "      <td>120134.353167</td>\n",
              "      <td>1.743172</td>\n",
              "      <td>2.565981e+05</td>\n",
              "      <td>0.500797</td>\n",
              "      <td>222821.397122</td>\n",
              "      <td>1.471015</td>\n",
              "      <td>54007.544128</td>\n",
              "    </tr>\n",
              "    <tr>\n",
              "      <th>min</th>\n",
              "      <td>19.000000</td>\n",
              "      <td>1.800000</td>\n",
              "      <td>1.056900e+05</td>\n",
              "      <td>0.000000</td>\n",
              "      <td>400000.000000</td>\n",
              "      <td>1.000000</td>\n",
              "      <td>0.000000</td>\n",
              "    </tr>\n",
              "    <tr>\n",
              "      <th>25%</th>\n",
              "      <td>16581.000000</td>\n",
              "      <td>4.040000</td>\n",
              "      <td>2.021625e+05</td>\n",
              "      <td>0.000000</td>\n",
              "      <td>500000.000000</td>\n",
              "      <td>1.000000</td>\n",
              "      <td>11090.500000</td>\n",
              "    </tr>\n",
              "    <tr>\n",
              "      <th>50%</th>\n",
              "      <td>54117.000000</td>\n",
              "      <td>6.300000</td>\n",
              "      <td>4.180090e+05</td>\n",
              "      <td>0.000000</td>\n",
              "      <td>700000.000000</td>\n",
              "      <td>2.000000</td>\n",
              "      <td>31044.000000</td>\n",
              "    </tr>\n",
              "    <tr>\n",
              "      <th>75%</th>\n",
              "      <td>194905.000000</td>\n",
              "      <td>7.330000</td>\n",
              "      <td>5.998745e+05</td>\n",
              "      <td>1.000000</td>\n",
              "      <td>900000.000000</td>\n",
              "      <td>3.000000</td>\n",
              "      <td>55323.000000</td>\n",
              "    </tr>\n",
              "    <tr>\n",
              "      <th>max</th>\n",
              "      <td>455398.000000</td>\n",
              "      <td>7.540000</td>\n",
              "      <td>1.926072e+06</td>\n",
              "      <td>1.000000</td>\n",
              "      <td>1000000.000000</td>\n",
              "      <td>9.000000</td>\n",
              "      <td>832630.000000</td>\n",
              "    </tr>\n",
              "  </tbody>\n",
              "</table>\n",
              "</div>"
            ],
            "text/plain": [
              "       Transaction_Number  Customer_ID  Amount_Transacted    Is_fraud  \\\n",
              "count          287.000000   287.000000       2.870000e+02  287.000000   \n",
              "mean        108665.017422     5.814007       4.499858e+05    0.491289   \n",
              "std         120134.353167     1.743172       2.565981e+05    0.500797   \n",
              "min             19.000000     1.800000       1.056900e+05    0.000000   \n",
              "25%          16581.000000     4.040000       2.021625e+05    0.000000   \n",
              "50%          54117.000000     6.300000       4.180090e+05    0.000000   \n",
              "75%         194905.000000     7.330000       5.998745e+05    1.000000   \n",
              "max         455398.000000     7.540000       1.926072e+06    1.000000   \n",
              "\n",
              "         Credit_Limit  No_of_Transactions  Amounts_received  \n",
              "count      287.000000          287.000000        287.000000  \n",
              "mean    711846.689895            2.205575      42716.344948  \n",
              "std     222821.397122            1.471015      54007.544128  \n",
              "min     400000.000000            1.000000          0.000000  \n",
              "25%     500000.000000            1.000000      11090.500000  \n",
              "50%     700000.000000            2.000000      31044.000000  \n",
              "75%     900000.000000            3.000000      55323.000000  \n",
              "max    1000000.000000            9.000000     832630.000000  "
            ]
          },
          "execution_count": 170,
          "metadata": {},
          "output_type": "execute_result"
        }
      ],
      "source": [
        "#Summary of the data without missing values\n",
        "df.describe(datetime_is_numeric=True)"
      ]
    },
    {
      "cell_type": "code",
      "execution_count": null,
      "metadata": {
        "id": "cZGCyN84YVHG"
      },
      "outputs": [],
      "source": [
        "#Converting Datetime column to date time\n",
        "df['Time_stamp'] = pd.to_datetime(df['Time_stamp'])"
      ]
    },
    {
      "cell_type": "code",
      "execution_count": null,
      "metadata": {
        "id": "lEhFKa6GYVHH",
        "outputId": "d37aeb20-d4a0-404a-b316-8f41d2840fc7"
      },
      "outputs": [
        {
          "name": "stdout",
          "output_type": "stream",
          "text": [
            "<class 'pandas.core.frame.DataFrame'>\n",
            "RangeIndex: 287 entries, 0 to 286\n",
            "Data columns (total 16 columns):\n",
            " #   Column              Non-Null Count  Dtype         \n",
            "---  ------              --------------  -----         \n",
            " 0   Transaction_Number  287 non-null    int64         \n",
            " 1   Customer_ID         287 non-null    float64       \n",
            " 2   Time_stamp          287 non-null    datetime64[ns]\n",
            " 3   Category            287 non-null    object        \n",
            " 4   Amount_Transacted   287 non-null    float64       \n",
            " 5   First               287 non-null    object        \n",
            " 6   Last                287 non-null    object        \n",
            " 7   Gender              287 non-null    object        \n",
            " 8   Street              287 non-null    object        \n",
            " 9   City                287 non-null    object        \n",
            " 10  Is_fraud            287 non-null    int64         \n",
            " 11  Credit_Limit        287 non-null    float64       \n",
            " 12  No_of_Transactions  287 non-null    int64         \n",
            " 13  Amounts_received    287 non-null    int64         \n",
            " 14  Card_Type           287 non-null    object        \n",
            " 15  Authentication      287 non-null    object        \n",
            "dtypes: datetime64[ns](1), float64(3), int64(4), object(8)\n",
            "memory usage: 36.0+ KB\n"
          ]
        }
      ],
      "source": [
        "#Checking  the data types\n",
        "df.info()"
      ]
    },
    {
      "cell_type": "code",
      "execution_count": null,
      "metadata": {
        "id": "kH5MEx-MYVHH",
        "outputId": "4bd75c22-9a18-4e92-890c-4c0cb8c0a0a7"
      },
      "outputs": [
        {
          "name": "stdout",
          "output_type": "stream",
          "text": [
            "<class 'pandas.core.frame.DataFrame'>\n",
            "RangeIndex: 287 entries, 0 to 286\n",
            "Data columns (total 16 columns):\n",
            " #   Column              Non-Null Count  Dtype         \n",
            "---  ------              --------------  -----         \n",
            " 0   Transaction_Number  287 non-null    int64         \n",
            " 1   Customer_ID         287 non-null    float64       \n",
            " 2   Time_stamp          287 non-null    datetime64[ns]\n",
            " 3   Category            287 non-null    category      \n",
            " 4   Amount_Transacted   287 non-null    float64       \n",
            " 5   First               287 non-null    object        \n",
            " 6   Last                287 non-null    object        \n",
            " 7   Gender              287 non-null    category      \n",
            " 8   Street              287 non-null    object        \n",
            " 9   City                287 non-null    category      \n",
            " 10  Is_fraud            287 non-null    category      \n",
            " 11  Credit_Limit        287 non-null    category      \n",
            " 12  No_of_Transactions  287 non-null    category      \n",
            " 13  Amounts_received    287 non-null    int64         \n",
            " 14  Card_Type           287 non-null    category      \n",
            " 15  Authentication      287 non-null    category      \n",
            "dtypes: category(8), datetime64[ns](1), float64(2), int64(2), object(3)\n",
            "memory usage: 23.6+ KB\n"
          ]
        }
      ],
      "source": [
        "#Recognising categorical variables as categorical.\n",
        "#Converting categorical columns to categorical \n",
        "df['Category'] = pd.Categorical(df['Category'])\n",
        "df['Gender'] = pd.Categorical(df['Gender'])\n",
        "df['City'] = pd.Categorical(df['City'])\n",
        "df['Credit_Limit'] = pd.Categorical(df['Credit_Limit'])\n",
        "df['No_of_Transactions'] = pd.Categorical(df['No_of_Transactions'])\n",
        "df['Card_Type'] = pd.Categorical(df['Card_Type'])\n",
        "df['Is_fraud']= pd.Categorical(df['Is_fraud'])\n",
        "df['Authentication'] = pd.Categorical(df['Authentication'])\n",
        "df.info()"
      ]
    },
    {
      "cell_type": "code",
      "execution_count": null,
      "metadata": {
        "id": "fIy__BcUYVHH",
        "outputId": "e5fb69be-6650-4113-f413-f74d1e0762f5"
      },
      "outputs": [
        {
          "name": "stdout",
          "output_type": "stream",
          "text": [
            "<class 'pandas.core.frame.DataFrame'>\n",
            "RangeIndex: 287 entries, 0 to 286\n",
            "Data columns (total 24 columns):\n",
            " #   Column                   Non-Null Count  Dtype         \n",
            "---  ------                   --------------  -----         \n",
            " 0   Transaction_Number       287 non-null    int64         \n",
            " 1   Customer_ID              287 non-null    float64       \n",
            " 2   Time_stamp               287 non-null    datetime64[ns]\n",
            " 3   Category                 287 non-null    category      \n",
            " 4   Amount_Transacted        287 non-null    float64       \n",
            " 5   First                    287 non-null    object        \n",
            " 6   Last                     287 non-null    object        \n",
            " 7   Gender                   287 non-null    category      \n",
            " 8   Street                   287 non-null    object        \n",
            " 9   City                     287 non-null    category      \n",
            " 10  Is_fraud                 287 non-null    category      \n",
            " 11  Credit_Limit             287 non-null    category      \n",
            " 12  No_of_Transactions       287 non-null    category      \n",
            " 13  Amounts_received         287 non-null    int64         \n",
            " 14  Card_Type                287 non-null    category      \n",
            " 15  Authentication           287 non-null    category      \n",
            " 16  Category_code            287 non-null    int8          \n",
            " 17  Gender_code              287 non-null    int8          \n",
            " 18  City_code                287 non-null    int8          \n",
            " 19  Credit_Limit_code        287 non-null    int8          \n",
            " 20  No_of_Transactions_code  287 non-null    int8          \n",
            " 21  Card_Type_code           287 non-null    int8          \n",
            " 22  Is_fraud_code            287 non-null    int8          \n",
            " 23  Authentication_code      287 non-null    int8          \n",
            "dtypes: category(8), datetime64[ns](1), float64(2), int64(2), int8(8), object(3)\n",
            "memory usage: 25.8+ KB\n"
          ]
        }
      ],
      "source": [
        "#Making new colums with codes instead of string\n",
        "df['Category_code'] = df['Category'].cat.codes\n",
        "df['Gender_code'] = df['Gender'].cat.codes\n",
        "df['City_code'] = df['City'].cat.codes\n",
        "df['Credit_Limit_code'] = df['Credit_Limit'].cat.codes\n",
        "df['No_of_Transactions_code'] = df['No_of_Transactions'].cat.codes\n",
        "df['Card_Type_code'] = df['Card_Type'].cat.codes\n",
        "df['Is_fraud_code']= df['Is_fraud'].cat.codes\n",
        "df['Authentication_code']= df['Authentication'].cat.codes\n",
        "df.info()"
      ]
    },
    {
      "cell_type": "code",
      "execution_count": null,
      "metadata": {
        "id": "FaobKaQtYVHH",
        "outputId": "97599636-b489-42a4-cec5-001e20f4fe80"
      },
      "outputs": [
        {
          "name": "stdout",
          "output_type": "stream",
          "text": [
            "                 0\n",
            "Category          \n",
            "entertainment    0\n",
            "food_dining      1\n",
            "gas_transport    2\n",
            "grocery_net      3\n",
            "grocery_pos      4\n",
            "health_fitness   5\n",
            "home             6\n",
            "kids_pets        7\n",
            "misc_net         8\n",
            "misc_pos         9\n",
            "personal_care   10\n",
            "shopping_net    11\n",
            "shopping_pos    12\n",
            "travel          13\n",
            "        0\n",
            "Gender   \n",
            "Female  0\n",
            "Male    1\n",
            "                         0\n",
            "City                      \n",
            "Alpharetta               0\n",
            "Aurora                   1\n",
            "Bigelow                  2\n",
            "Browning                 3\n",
            "Burns Flat               4\n",
            "Campbell                 5\n",
            "Cape Towm                6\n",
            "Cape Town                7\n",
            "Cazenovia                8\n",
            "Collettsville            9\n",
            "Coulee Dam              10\n",
            "De Lancey               11\n",
            "De Queen                12\n",
            "Deadwood                13\n",
            "Easton                  14\n",
            "Elizabeth               15\n",
            "Fields Landing          16\n",
            "Gibsonville             17\n",
            "Ironton                 18\n",
            "Iselin                  19\n",
            "Kirtland Afb            20\n",
            "Laredo                  21\n",
            "Louisville              22\n",
            "Madisonville            23\n",
            "Manquin                 24\n",
            "Marathon                25\n",
            "Matawan                 26\n",
            "Montrose                27\n",
            "Nazareth                28\n",
            "New York City           29\n",
            "Nobleboro               30\n",
            "Palermo                 31\n",
            "Paris                   32\n",
            "Parker Dam              33\n",
            "Phil Campbell           34\n",
            "Philadelphia            35\n",
            "Ravenna                 36\n",
            "Republic                37\n",
            "San Antonio             38\n",
            "San Diego               39\n",
            "San Jose                40\n",
            "Scotts Mills            41\n",
            "Shields                 42\n",
            "Smock                   43\n",
            "Tomahawk                44\n",
            "University              45\n",
            "Utica                   46\n",
            "Washington Court House  47\n",
            "              0\n",
            "Credit_Limit   \n",
            "400000.0      0\n",
            "500000.0      1\n",
            "600000.0      2\n",
            "700000.0      3\n",
            "750000.0      4\n",
            "900000.0      5\n",
            "1000000.0     6\n",
            "                    0\n",
            "No_of_Transactions   \n",
            "1                   0\n",
            "2                   1\n",
            "3                   2\n",
            "4                   3\n",
            "5                   4\n",
            "6                   5\n",
            "7                   6\n",
            "8                   7\n",
            "9                   8\n",
            "           0\n",
            "Card_Type   \n",
            "Gold       0\n",
            "Platinum   1\n",
            "Signature  2\n",
            "          0\n",
            "Is_fraud   \n",
            "0         0\n",
            "1         1\n",
            "                0\n",
            "Authentication   \n",
            "Failed          0\n",
            "Success         1\n"
          ]
        }
      ],
      "source": [
        "#Checking which categories belong to which code\n",
        "categories = df['Category_code'].groupby(df['Category']).unique().apply(pd.Series)\n",
        "gender = df['Gender_code'].groupby(df['Gender']).unique().apply(pd.Series)\n",
        "cities =df['City_code'].groupby(df['City']).unique().apply(pd.Series)\n",
        "credit_limit = df['Credit_Limit_code'].groupby(df['Credit_Limit']).unique().apply(pd.Series)\n",
        "transactions =df['No_of_Transactions_code'].groupby(df['No_of_Transactions']).unique().apply(pd.Series)\n",
        "cards =df['Card_Type_code'].groupby(df['Card_Type']).unique().apply(pd.Series)\n",
        "fraud=df['Is_fraud_code'].groupby(df['Is_fraud']).unique().apply(pd.Series)\n",
        "auth = df['Authentication_code'].groupby(df['Authentication']).unique().apply(pd.Series)\n",
        "print(categories)\n",
        "print(gender)\n",
        "print(cities) \n",
        "print(credit_limit)\n",
        "print(transactions)\n",
        "print(cards)\n",
        "print(fraud)\n",
        "print(auth)"
      ]
    },
    {
      "cell_type": "code",
      "execution_count": null,
      "metadata": {
        "id": "YHaOAlA4YVHH",
        "outputId": "2263cbaf-f075-4e5a-b09a-0c9192c8e240"
      },
      "outputs": [
        {
          "name": "stdout",
          "output_type": "stream",
          "text": [
            "<class 'pandas.core.frame.DataFrame'>\n",
            "RangeIndex: 287 entries, 0 to 286\n",
            "Data columns (total 12 columns):\n",
            " #   Column                   Non-Null Count  Dtype         \n",
            "---  ------                   --------------  -----         \n",
            " 0   Customer_ID              287 non-null    float64       \n",
            " 1   Time_stamp               287 non-null    datetime64[ns]\n",
            " 2   Amount_Transacted        287 non-null    float64       \n",
            " 3   Amounts_received         287 non-null    int64         \n",
            " 4   Category_code            287 non-null    int8          \n",
            " 5   Gender_code              287 non-null    int8          \n",
            " 6   City_code                287 non-null    int8          \n",
            " 7   Credit_Limit_code        287 non-null    int8          \n",
            " 8   No_of_Transactions_code  287 non-null    int8          \n",
            " 9   Card_Type_code           287 non-null    int8          \n",
            " 10  Is_fraud_code            287 non-null    int8          \n",
            " 11  Authentication_code      287 non-null    int8          \n",
            "dtypes: datetime64[ns](1), float64(2), int64(1), int8(8)\n",
            "memory usage: 11.3 KB\n"
          ]
        }
      ],
      "source": [
        "#Make new dataframe without string variables that have been converted to code and transaction Number column which is not being used in this analysis.\n",
        "df2 = df.drop(['Transaction_Number','First','Last','Street','Category', 'Gender', 'City','Credit_Limit', 'Card_Type', 'No_of_Transactions', 'Card_Type', 'Is_fraud', 'Authentication'],axis=1)\n",
        "df2.info()"
      ]
    },
    {
      "cell_type": "markdown",
      "metadata": {
        "id": "P98zvrYnYVHH"
      },
      "source": [
        "## Detecting Outliers"
      ]
    },
    {
      "cell_type": "code",
      "execution_count": null,
      "metadata": {
        "id": "KZe5VHGxYVHI",
        "outputId": "81bf6506-7c9c-48d1-a464-e1120ea052fd"
      },
      "outputs": [
        {
          "data": {
            "image/png": "[encoded data removed]",
            "text/plain": [
              "<Figure size 432x288 with 1 Axes>"
            ]
          },
          "metadata": {
            "needs_background": "light"
          },
          "output_type": "display_data"
        }
      ],
      "source": [
        "#Detecting using a box plot\n",
        "sns.boxplot(data = df2)#outliers in the whole dataset\n",
        "plt.xticks(rotation = 90);"
      ]
    },
    {
      "cell_type": "markdown",
      "metadata": {
        "id": "y-4SEnDvYVHI"
      },
      "source": [
        "From the box plot we can see that amount transacted, amount recieved No of transaction and authentication have outliers. We are going to verify this using the functions below."
      ]
    },
    {
      "cell_type": "code",
      "execution_count": null,
      "metadata": {
        "id": "o1ehMq54YVHI"
      },
      "outputs": [],
      "source": [
        "#function to detect outliers in numerical variables\n",
        "def find_outliers_IQR(df):\n",
        "   q1=df.quantile(0.25)\n",
        "   q3=df.quantile(0.75)\n",
        "   IQR=q3-q1\n",
        "   outliers = df[((df<(q1-1.5*IQR)) | (df>(q3+1.5*IQR)))]\n",
        "   return outliers"
      ]
    },
    {
      "cell_type": "code",
      "execution_count": null,
      "metadata": {
        "id": "23NpRgpwYVHI",
        "outputId": "2a84d842-2597-4593-a1d8-bfc143e91e83"
      },
      "outputs": [
        {
          "name": "stdout",
          "output_type": "stream",
          "text": [
            "number of outliers in Customer_ID is: 0\n",
            "number of outliers in Time_stamp is: 2\n",
            "number of outliers in Amount_Transacted is: 2\n",
            "number of outliers in Amounts_received is: 1\n",
            "number of outliers in Category_code is: 0\n",
            "number of outliers in Gender_code is: 0\n",
            "number of outliers in City_code is: 0\n",
            "number of outliers in Credit_Limit_code is: 0\n",
            "number of outliers in No_of_Transactions_code is: 6\n",
            "number of outliers in Card_Type_code is: 0\n",
            "number of outliers in Is_fraud_code is: 0\n",
            "number of outliers in Authentication_code is: 4\n"
          ]
        }
      ],
      "source": [
        "#using the function to detect outliers in numerical variables\n",
        "for column in df2:\n",
        "    mycolumn= df2[column]\n",
        "    outliers = find_outliers_IQR(mycolumn)\n",
        "    print(f\"number of outliers in {column} is: {str(len(outliers))}\")"
      ]
    },
    {
      "cell_type": "markdown",
      "metadata": {
        "id": "Y9ChepWTYVHI"
      },
      "source": [
        "Because No of transactions and authenitication are categorical we wuill not remove the outliers in this columns because they are meaningful. Time stamp is also meaningful and so outliers will not be removed."
      ]
    },
    {
      "cell_type": "markdown",
      "metadata": {
        "id": "9LJvyqVAYVHI"
      },
      "source": [
        "### Dropping the outliers in amount transacted"
      ]
    },
    {
      "cell_type": "code",
      "execution_count": null,
      "metadata": {
        "id": "PDfybfFIYVHI",
        "outputId": "5477031c-4872-4577-f931-20ba9e496c3f"
      },
      "outputs": [
        {
          "data": {
            "image/png": "[encoded data removed]",
            "text/plain": [
              "<Figure size 432x288 with 1 Axes>"
            ]
          },
          "metadata": {
            "needs_background": "light"
          },
          "output_type": "display_data"
        }
      ],
      "source": [
        "#Checking outliers under Amount_Transacted\n",
        "sns.boxplot(data = df2, x = \"Amount_Transacted\")\n",
        "plt.show()"
      ]
    },
    {
      "cell_type": "code",
      "execution_count": null,
      "metadata": {
        "id": "C85QxY2sYVHI",
        "outputId": "a87a9ec2-a30a-4abf-ee27-6bfa827a8a9e"
      },
      "outputs": [
        {
          "data": {
            "text/plain": [
              "4     1926072.0\n",
              "97    1553907.0\n",
              "Name: Amount_Transacted, dtype: float64"
            ]
          },
          "execution_count": 181,
          "metadata": {},
          "output_type": "execute_result"
        }
      ],
      "source": [
        "#Identifying the outliers\n",
        "outliers = find_outliers_IQR(df2['Amount_Transacted'])\n",
        "outliers"
      ]
    },
    {
      "cell_type": "code",
      "execution_count": null,
      "metadata": {
        "id": "L20i1FI9YVHJ",
        "outputId": "b23d5cd0-2ff5-476c-e415-8d2b28de0b95"
      },
      "outputs": [
        {
          "data": {
            "text/plain": [
              "count    2.870000e+02\n",
              "mean     4.499858e+05\n",
              "std      2.565981e+05\n",
              "min      1.056900e+05\n",
              "25%      2.021625e+05\n",
              "50%      4.180090e+05\n",
              "75%      5.998745e+05\n",
              "max      1.926072e+06\n",
              "Name: Amount_Transacted, dtype: float64"
            ]
          },
          "execution_count": 182,
          "metadata": {},
          "output_type": "execute_result"
        }
      ],
      "source": [
        "#Summary for amount transacted\n",
        "df2['Amount_Transacted'].describe()"
      ]
    },
    {
      "cell_type": "code",
      "execution_count": null,
      "metadata": {
        "id": "86LUR5cwYVHJ",
        "outputId": "d2679272-a08a-4454-c8df-928b217e7753"
      },
      "outputs": [
        {
          "data": {
            "text/plain": [
              "202162.5"
            ]
          },
          "execution_count": 183,
          "metadata": {},
          "output_type": "execute_result"
        }
      ],
      "source": [
        "#Lower boundary\n",
        "Q1_1 = df2['Amount_Transacted'].quantile(0.25) #\n",
        "Q1_1"
      ]
    },
    {
      "cell_type": "code",
      "execution_count": null,
      "metadata": {
        "id": "TjgwL284YVHJ",
        "outputId": "ff30b8cb-f4ff-49ab-b31e-347af954783c"
      },
      "outputs": [
        {
          "data": {
            "text/plain": [
              "599874.5"
            ]
          },
          "execution_count": 184,
          "metadata": {},
          "output_type": "execute_result"
        }
      ],
      "source": [
        "#Upper boundary\n",
        "Q3_1 = df2['Amount_Transacted'].quantile(0.75)\n",
        "Q3_1"
      ]
    },
    {
      "cell_type": "code",
      "execution_count": null,
      "metadata": {
        "id": "jWN730qcYVHJ",
        "outputId": "9f5d7303-8bdf-4564-9035-c2aebb2fa3fb"
      },
      "outputs": [
        {
          "data": {
            "text/plain": [
              "397712.0"
            ]
          },
          "execution_count": 185,
          "metadata": {},
          "output_type": "execute_result"
        }
      ],
      "source": [
        "#Calculating the interquartile range\n",
        "IQR_1 = Q3_1 - Q1_1\n",
        "IQR_1"
      ]
    },
    {
      "cell_type": "code",
      "execution_count": null,
      "metadata": {
        "id": "ixD8IGqtYVHJ",
        "outputId": "b9462094-3690-4748-ddca-a950395c43b8"
      },
      "outputs": [
        {
          "data": {
            "text/plain": [
              "-394405.5"
            ]
          },
          "execution_count": 186,
          "metadata": {},
          "output_type": "execute_result"
        }
      ],
      "source": [
        "#Calculating the outlier cut-off\n",
        "Lower_lim_1 = Q1_1 - 1.5 * IQR_1\n",
        "Lower_lim_1"
      ]
    },
    {
      "cell_type": "code",
      "execution_count": null,
      "metadata": {
        "id": "sgzo7nJaYVHJ",
        "outputId": "f83932db-c7f5-45b5-dbfe-f8f45a9c623d"
      },
      "outputs": [
        {
          "data": {
            "text/plain": [
              "1196442.5"
            ]
          },
          "execution_count": 187,
          "metadata": {},
          "output_type": "execute_result"
        }
      ],
      "source": [
        "# Identifying the outliers after the upper limit in amount transacted\n",
        "Upper_lim_1 = Q3_1 + 1.5 *IQR_1\n",
        "Upper_lim_1"
      ]
    },
    {
      "cell_type": "code",
      "execution_count": null,
      "metadata": {
        "id": "QQsBFwdiYVHK",
        "outputId": "b9770958-2ce9-47b9-9c4f-f4921227a1aa"
      },
      "outputs": [
        {
          "data": {
            "text/plain": [
              "0      False\n",
              "1      False\n",
              "2      False\n",
              "3      False\n",
              "4      False\n",
              "       ...  \n",
              "282    False\n",
              "283    False\n",
              "284    False\n",
              "285    False\n",
              "286    False\n",
              "Name: Amount_Transacted, Length: 287, dtype: bool"
            ]
          },
          "execution_count": 188,
          "metadata": {},
          "output_type": "execute_result"
        }
      ],
      "source": [
        "# Identifying the outliers after the lower limit in amount transacted\n",
        "outliers_15_low_1 = df2['Amount_Transacted'] < Lower_lim_1\n",
        "outliers_15_low_1"
      ]
    },
    {
      "cell_type": "code",
      "execution_count": null,
      "metadata": {
        "id": "zEtEsaBSYVHK",
        "outputId": "ec9d65fe-b3ca-4308-a6db-fcf48991b89d"
      },
      "outputs": [
        {
          "data": {
            "text/plain": [
              "0      False\n",
              "1      False\n",
              "2      False\n",
              "3      False\n",
              "4       True\n",
              "       ...  \n",
              "282    False\n",
              "283    False\n",
              "284    False\n",
              "285    False\n",
              "286    False\n",
              "Name: Amount_Transacted, Length: 287, dtype: bool"
            ]
          },
          "execution_count": 189,
          "metadata": {},
          "output_type": "execute_result"
        }
      ],
      "source": [
        "#Identifying the outliers after the upper limit in amount transacted\n",
        "outliers_15_up_1 = df2['Amount_Transacted'] > Upper_lim_1\n",
        "outliers_15_up_1"
      ]
    },
    {
      "cell_type": "code",
      "execution_count": null,
      "metadata": {
        "id": "v3oyOYXTYVHK",
        "outputId": "b3b2f409-12d8-4d34-c2b1-172131f08024"
      },
      "outputs": [
        {
          "data": {
            "text/plain": [
              "285"
            ]
          },
          "execution_count": 190,
          "metadata": {},
          "output_type": "execute_result"
        }
      ],
      "source": [
        "#Checking the length of the dataset with outliers in amount transacted\n",
        "len(df2['Amount_Transacted']) - (len(df2['Amount_Transacted'][outliers_15_low_1]) + len(df2['Amount_Transacted'][outliers_15_up_1]))"
      ]
    },
    {
      "cell_type": "code",
      "execution_count": null,
      "metadata": {
        "id": "Yc96DFT4YVHK",
        "outputId": "59ef069f-891c-477a-839a-3e23667216b7"
      },
      "outputs": [
        {
          "data": {
            "text/plain": [
              "0      965721.0\n",
              "1      413052.0\n",
              "2      584822.0\n",
              "3      980146.0\n",
              "5      482394.0\n",
              "         ...   \n",
              "282    400006.0\n",
              "283    200301.0\n",
              "284    200282.0\n",
              "285    200007.0\n",
              "286    600368.0\n",
              "Name: Amount_Transacted, Length: 285, dtype: float64"
            ]
          },
          "execution_count": 191,
          "metadata": {},
          "output_type": "execute_result"
        }
      ],
      "source": [
        "#Removing the outliers in the lower and upper boundary\n",
        "df2['Amount_Transacted'][~(outliers_15_low_1 | outliers_15_up_1)]"
      ]
    },
    {
      "cell_type": "code",
      "execution_count": null,
      "metadata": {
        "id": "MyBQq6EeYVHK",
        "outputId": "8a723350-bd31-4784-a8db-4c446f6ca3c6"
      },
      "outputs": [
        {
          "data": {
            "text/html": [
              "<div>\n",
              "<style scoped>\n",
              "    .dataframe tbody tr th:only-of-type {\n",
              "        vertical-align: middle;\n",
              "    }\n",
              "\n",
              "    .dataframe tbody tr th {\n",
              "        vertical-align: top;\n",
              "    }\n",
              "\n",
              "    .dataframe thead th {\n",
              "        text-align: right;\n",
              "    }\n",
              "</style>\n",
              "<table border=\"1\" class=\"dataframe\">\n",
              "  <thead>\n",
              "    <tr style=\"text-align: right;\">\n",
              "      <th></th>\n",
              "      <th>Customer_ID</th>\n",
              "      <th>Time_stamp</th>\n",
              "      <th>Amount_Transacted</th>\n",
              "      <th>Amounts_received</th>\n",
              "      <th>Category_code</th>\n",
              "      <th>Gender_code</th>\n",
              "      <th>City_code</th>\n",
              "      <th>Credit_Limit_code</th>\n",
              "      <th>No_of_Transactions_code</th>\n",
              "      <th>Card_Type_code</th>\n",
              "      <th>Is_fraud_code</th>\n",
              "      <th>Authentication_code</th>\n",
              "    </tr>\n",
              "  </thead>\n",
              "  <tbody>\n",
              "    <tr>\n",
              "      <th>0</th>\n",
              "      <td>4.96</td>\n",
              "      <td>2019-01-01 00:12:00</td>\n",
              "      <td>965721.0</td>\n",
              "      <td>82475</td>\n",
              "      <td>4</td>\n",
              "      <td>1</td>\n",
              "      <td>15</td>\n",
              "      <td>6</td>\n",
              "      <td>1</td>\n",
              "      <td>1</td>\n",
              "      <td>0</td>\n",
              "      <td>1</td>\n",
              "    </tr>\n",
              "    <tr>\n",
              "      <th>1</th>\n",
              "      <td>4.96</td>\n",
              "      <td>2019-01-01 12:44:00</td>\n",
              "      <td>413052.0</td>\n",
              "      <td>32555</td>\n",
              "      <td>1</td>\n",
              "      <td>1</td>\n",
              "      <td>15</td>\n",
              "      <td>6</td>\n",
              "      <td>0</td>\n",
              "      <td>1</td>\n",
              "      <td>0</td>\n",
              "      <td>1</td>\n",
              "    </tr>\n",
              "    <tr>\n",
              "      <th>2</th>\n",
              "      <td>4.96</td>\n",
              "      <td>2019-02-01 00:25:00</td>\n",
              "      <td>584822.0</td>\n",
              "      <td>10173</td>\n",
              "      <td>2</td>\n",
              "      <td>1</td>\n",
              "      <td>15</td>\n",
              "      <td>6</td>\n",
              "      <td>0</td>\n",
              "      <td>1</td>\n",
              "      <td>0</td>\n",
              "      <td>1</td>\n",
              "    </tr>\n",
              "    <tr>\n",
              "      <th>3</th>\n",
              "      <td>4.96</td>\n",
              "      <td>2019-02-01 12:01:00</td>\n",
              "      <td>980146.0</td>\n",
              "      <td>12342</td>\n",
              "      <td>9</td>\n",
              "      <td>1</td>\n",
              "      <td>15</td>\n",
              "      <td>6</td>\n",
              "      <td>0</td>\n",
              "      <td>1</td>\n",
              "      <td>0</td>\n",
              "      <td>1</td>\n",
              "    </tr>\n",
              "    <tr>\n",
              "      <th>5</th>\n",
              "      <td>4.96</td>\n",
              "      <td>2019-03-01 15:19:00</td>\n",
              "      <td>482394.0</td>\n",
              "      <td>10003</td>\n",
              "      <td>11</td>\n",
              "      <td>1</td>\n",
              "      <td>15</td>\n",
              "      <td>6</td>\n",
              "      <td>0</td>\n",
              "      <td>1</td>\n",
              "      <td>0</td>\n",
              "      <td>1</td>\n",
              "    </tr>\n",
              "    <tr>\n",
              "      <th>...</th>\n",
              "      <td>...</td>\n",
              "      <td>...</td>\n",
              "      <td>...</td>\n",
              "      <td>...</td>\n",
              "      <td>...</td>\n",
              "      <td>...</td>\n",
              "      <td>...</td>\n",
              "      <td>...</td>\n",
              "      <td>...</td>\n",
              "      <td>...</td>\n",
              "      <td>...</td>\n",
              "      <td>...</td>\n",
              "    </tr>\n",
              "    <tr>\n",
              "      <th>282</th>\n",
              "      <td>7.52</td>\n",
              "      <td>2019-02-02 03:19:00</td>\n",
              "      <td>400006.0</td>\n",
              "      <td>30325</td>\n",
              "      <td>2</td>\n",
              "      <td>1</td>\n",
              "      <td>43</td>\n",
              "      <td>2</td>\n",
              "      <td>0</td>\n",
              "      <td>0</td>\n",
              "      <td>1</td>\n",
              "      <td>1</td>\n",
              "    </tr>\n",
              "    <tr>\n",
              "      <th>283</th>\n",
              "      <td>7.54</td>\n",
              "      <td>2019-03-25 01:44:00</td>\n",
              "      <td>200301.0</td>\n",
              "      <td>10008</td>\n",
              "      <td>4</td>\n",
              "      <td>0</td>\n",
              "      <td>10</td>\n",
              "      <td>1</td>\n",
              "      <td>0</td>\n",
              "      <td>2</td>\n",
              "      <td>1</td>\n",
              "      <td>1</td>\n",
              "    </tr>\n",
              "    <tr>\n",
              "      <th>284</th>\n",
              "      <td>7.54</td>\n",
              "      <td>2019-03-25 01:48:00</td>\n",
              "      <td>200282.0</td>\n",
              "      <td>10328</td>\n",
              "      <td>4</td>\n",
              "      <td>0</td>\n",
              "      <td>10</td>\n",
              "      <td>1</td>\n",
              "      <td>1</td>\n",
              "      <td>2</td>\n",
              "      <td>1</td>\n",
              "      <td>1</td>\n",
              "    </tr>\n",
              "    <tr>\n",
              "      <th>285</th>\n",
              "      <td>7.54</td>\n",
              "      <td>2019-03-25 03:58:00</td>\n",
              "      <td>200007.0</td>\n",
              "      <td>10013</td>\n",
              "      <td>2</td>\n",
              "      <td>0</td>\n",
              "      <td>10</td>\n",
              "      <td>1</td>\n",
              "      <td>2</td>\n",
              "      <td>2</td>\n",
              "      <td>1</td>\n",
              "      <td>1</td>\n",
              "    </tr>\n",
              "    <tr>\n",
              "      <th>286</th>\n",
              "      <td>7.48</td>\n",
              "      <td>2019-01-12 03:24:00</td>\n",
              "      <td>600368.0</td>\n",
              "      <td>50916</td>\n",
              "      <td>4</td>\n",
              "      <td>0</td>\n",
              "      <td>30</td>\n",
              "      <td>5</td>\n",
              "      <td>0</td>\n",
              "      <td>1</td>\n",
              "      <td>1</td>\n",
              "      <td>1</td>\n",
              "    </tr>\n",
              "  </tbody>\n",
              "</table>\n",
              "<p>285 rows × 12 columns</p>\n",
              "</div>"
            ],
            "text/plain": [
              "     Customer_ID          Time_stamp  Amount_Transacted  Amounts_received  \\\n",
              "0           4.96 2019-01-01 00:12:00           965721.0             82475   \n",
              "1           4.96 2019-01-01 12:44:00           413052.0             32555   \n",
              "2           4.96 2019-02-01 00:25:00           584822.0             10173   \n",
              "3           4.96 2019-02-01 12:01:00           980146.0             12342   \n",
              "5           4.96 2019-03-01 15:19:00           482394.0             10003   \n",
              "..           ...                 ...                ...               ...   \n",
              "282         7.52 2019-02-02 03:19:00           400006.0             30325   \n",
              "283         7.54 2019-03-25 01:44:00           200301.0             10008   \n",
              "284         7.54 2019-03-25 01:48:00           200282.0             10328   \n",
              "285         7.54 2019-03-25 03:58:00           200007.0             10013   \n",
              "286         7.48 2019-01-12 03:24:00           600368.0             50916   \n",
              "\n",
              "     Category_code  Gender_code  City_code  Credit_Limit_code  \\\n",
              "0                4            1         15                  6   \n",
              "1                1            1         15                  6   \n",
              "2                2            1         15                  6   \n",
              "3                9            1         15                  6   \n",
              "5               11            1         15                  6   \n",
              "..             ...          ...        ...                ...   \n",
              "282              2            1         43                  2   \n",
              "283              4            0         10                  1   \n",
              "284              4            0         10                  1   \n",
              "285              2            0         10                  1   \n",
              "286              4            0         30                  5   \n",
              "\n",
              "     No_of_Transactions_code  Card_Type_code  Is_fraud_code  \\\n",
              "0                          1               1              0   \n",
              "1                          0               1              0   \n",
              "2                          0               1              0   \n",
              "3                          0               1              0   \n",
              "5                          0               1              0   \n",
              "..                       ...             ...            ...   \n",
              "282                        0               0              1   \n",
              "283                        0               2              1   \n",
              "284                        1               2              1   \n",
              "285                        2               2              1   \n",
              "286                        0               1              1   \n",
              "\n",
              "     Authentication_code  \n",
              "0                      1  \n",
              "1                      1  \n",
              "2                      1  \n",
              "3                      1  \n",
              "5                      1  \n",
              "..                   ...  \n",
              "282                    1  \n",
              "283                    1  \n",
              "284                    1  \n",
              "285                    1  \n",
              "286                    1  \n",
              "\n",
              "[285 rows x 12 columns]"
            ]
          },
          "execution_count": 192,
          "metadata": {},
          "output_type": "execute_result"
        }
      ],
      "source": [
        "#Making new dataframe with outliers in amount transacted removed\n",
        "df_1 = df2[~(outliers_15_low_1 | outliers_15_up_1)]#new dataframe\n",
        "df_1"
      ]
    },
    {
      "cell_type": "code",
      "execution_count": null,
      "metadata": {
        "id": "ufw0KcK_YVHK",
        "outputId": "5f178152-057a-4c93-9258-a7708945104c"
      },
      "outputs": [
        {
          "data": {
            "image/png": "[encoded data removed]",
            "text/plain": [
              "<Figure size 432x288 with 1 Axes>"
            ]
          },
          "metadata": {
            "needs_background": "light"
          },
          "output_type": "display_data"
        }
      ],
      "source": [
        "#box plot to check if the outliers are treated\n",
        "sns.boxplot( x = df_1['Amount_Transacted'])\n",
        "plt.show()"
      ]
    },
    {
      "cell_type": "markdown",
      "metadata": {
        "id": "Vyx1EXJJYVHK"
      },
      "source": [
        "### Dropping the outliers in amount recieved"
      ]
    },
    {
      "cell_type": "code",
      "execution_count": null,
      "metadata": {
        "id": "YLVb2qyaYVHK",
        "outputId": "383611f7-2418-4735-cae3-a9d4ff335923"
      },
      "outputs": [
        {
          "data": {
            "image/png": "[encoded data removed]",
            "text/plain": [
              "<Figure size 432x288 with 1 Axes>"
            ]
          },
          "metadata": {
            "needs_background": "light"
          },
          "output_type": "display_data"
        }
      ],
      "source": [
        "#checking column Amounts_received for outliers\n",
        "sns.boxplot(data = df2, x = \"Amounts_received\")\n",
        "plt.show()"
      ]
    },
    {
      "cell_type": "code",
      "execution_count": null,
      "metadata": {
        "id": "D9syAECnYVHL",
        "outputId": "0ac8f46e-3daf-46d8-e3eb-0fc88c95d445"
      },
      "outputs": [
        {
          "data": {
            "text/plain": [
              "122    832630\n",
              "Name: Amounts_received, dtype: int64"
            ]
          },
          "execution_count": 195,
          "metadata": {},
          "output_type": "execute_result"
        }
      ],
      "source": [
        "#Identifying the outliers using the function\n",
        "outliers = find_outliers_IQR(df_1['Amounts_received'])\n",
        "outliers"
      ]
    },
    {
      "cell_type": "code",
      "execution_count": null,
      "metadata": {
        "id": "P79hWS-VYVHL",
        "outputId": "994128db-cdfa-45a3-bf94-b36861f71333"
      },
      "outputs": [
        {
          "data": {
            "text/plain": [
              "count       285.000000\n",
              "mean      42782.933333\n",
              "std       54174.703614\n",
              "min           0.000000\n",
              "25%       11050.000000\n",
              "50%       31044.000000\n",
              "75%       55512.000000\n",
              "max      832630.000000\n",
              "Name: Amounts_received, dtype: float64"
            ]
          },
          "execution_count": 196,
          "metadata": {},
          "output_type": "execute_result"
        }
      ],
      "source": [
        "#Summary for amount recieved column\n",
        "df_1['Amounts_received'].describe()"
      ]
    },
    {
      "cell_type": "code",
      "execution_count": null,
      "metadata": {
        "id": "5ODIHcJ-YVHL",
        "outputId": "5e71fe37-d8d8-4dcc-fde3-2a8e2fd7cf04"
      },
      "outputs": [
        {
          "data": {
            "text/plain": [
              "11050.0"
            ]
          },
          "execution_count": 197,
          "metadata": {},
          "output_type": "execute_result"
        }
      ],
      "source": [
        "#lower limits\n",
        "Q1_2 = df_1['Amounts_received'].quantile(0.25)\n",
        "Q1_2"
      ]
    },
    {
      "cell_type": "code",
      "execution_count": null,
      "metadata": {
        "id": "G-5d4gWIYVHL",
        "outputId": "5e99ac21-9cd9-43c5-e795-885ef6fd0586"
      },
      "outputs": [
        {
          "data": {
            "text/plain": [
              "55512.0"
            ]
          },
          "execution_count": 198,
          "metadata": {},
          "output_type": "execute_result"
        }
      ],
      "source": [
        "#upper limits\n",
        "Q3_2 = df_1['Amounts_received'].quantile(0.75)\n",
        "Q3_2"
      ]
    },
    {
      "cell_type": "code",
      "execution_count": null,
      "metadata": {
        "id": "jdeQYmciYVHL",
        "outputId": "f40b38a3-1899-4b7b-f4cb-170f81a80933"
      },
      "outputs": [
        {
          "data": {
            "text/plain": [
              "44462.0"
            ]
          },
          "execution_count": 199,
          "metadata": {},
          "output_type": "execute_result"
        }
      ],
      "source": [
        "#calculating interquartile range\n",
        "IQR_2 = Q3_2 - Q1_2\n",
        "IQR_2"
      ]
    },
    {
      "cell_type": "code",
      "execution_count": null,
      "metadata": {
        "id": "Sx11bu_WYVHL",
        "outputId": "6302201f-0131-4e67-dd49-716e7099b922"
      },
      "outputs": [
        {
          "data": {
            "text/plain": [
              "-55643.0"
            ]
          },
          "execution_count": 200,
          "metadata": {},
          "output_type": "execute_result"
        }
      ],
      "source": [
        "#Calculating the outlier cut-off for the lower limit\n",
        "Lower_lim_2 = Q1_2 - 1.5 * IQR_2\n",
        "Lower_lim_2"
      ]
    },
    {
      "cell_type": "code",
      "execution_count": null,
      "metadata": {
        "id": "kTQbTgssYVHM",
        "outputId": "9cf27379-71dc-49fa-94b9-e17b81fd5161"
      },
      "outputs": [
        {
          "data": {
            "text/plain": [
              "122205.0"
            ]
          },
          "execution_count": 201,
          "metadata": {},
          "output_type": "execute_result"
        }
      ],
      "source": [
        "#Calculating the outlier cut-off for the upper limit\n",
        "Upper_lim_2 = Q3_2 + 1.5 *IQR_2\n",
        "Upper_lim_2"
      ]
    },
    {
      "cell_type": "code",
      "execution_count": null,
      "metadata": {
        "id": "tdNwr3GeYVHM",
        "outputId": "756afdfd-10ec-4fcb-ba86-1f80ee2b81b5"
      },
      "outputs": [
        {
          "data": {
            "text/plain": [
              "0      False\n",
              "1      False\n",
              "2      False\n",
              "3      False\n",
              "5      False\n",
              "       ...  \n",
              "282    False\n",
              "283    False\n",
              "284    False\n",
              "285    False\n",
              "286    False\n",
              "Name: Amounts_received, Length: 285, dtype: bool"
            ]
          },
          "execution_count": 202,
          "metadata": {},
          "output_type": "execute_result"
        }
      ],
      "source": [
        "#Identifying the outliers after the lower limit in amount recieved\n",
        "outliers_15_low_2 = df_1['Amounts_received'] < Lower_lim_2\n",
        "outliers_15_low_2"
      ]
    },
    {
      "cell_type": "code",
      "execution_count": null,
      "metadata": {
        "id": "K_pf44tPYVHM",
        "outputId": "3af0ae34-e09d-4b5a-a8a9-50464ee52d61"
      },
      "outputs": [
        {
          "data": {
            "text/plain": [
              "0      False\n",
              "1      False\n",
              "2      False\n",
              "3      False\n",
              "5      False\n",
              "       ...  \n",
              "282    False\n",
              "283    False\n",
              "284    False\n",
              "285    False\n",
              "286    False\n",
              "Name: Amounts_received, Length: 285, dtype: bool"
            ]
          },
          "execution_count": 203,
          "metadata": {},
          "output_type": "execute_result"
        }
      ],
      "source": [
        "#Identifying the outliers after the upper limit in amount recieved\n",
        "outliers_15_up_2 = df_1['Amounts_received'] > Upper_lim_2\n",
        "outliers_15_up_2"
      ]
    },
    {
      "cell_type": "code",
      "execution_count": null,
      "metadata": {
        "id": "yrjHYJESYVHM",
        "outputId": "ec209020-099c-481b-cfa5-e492838cf95e"
      },
      "outputs": [
        {
          "data": {
            "text/plain": [
              "284"
            ]
          },
          "execution_count": 204,
          "metadata": {},
          "output_type": "execute_result"
        }
      ],
      "source": [
        "#Checking the length of the column with outliers\n",
        "len(df_1['Amounts_received']) - (len(df_1['Amounts_received'][outliers_15_low_2]) + len(df_1['Amounts_received'][outliers_15_up_2]))"
      ]
    },
    {
      "cell_type": "code",
      "execution_count": null,
      "metadata": {
        "id": "kL2ZOoIFYVHM",
        "outputId": "9fe02215-bf82-4c13-c64a-3705191900de"
      },
      "outputs": [
        {
          "data": {
            "text/plain": [
              "0      82475\n",
              "1      32555\n",
              "2      10173\n",
              "3      12342\n",
              "5      10003\n",
              "       ...  \n",
              "282    30325\n",
              "283    10008\n",
              "284    10328\n",
              "285    10013\n",
              "286    50916\n",
              "Name: Amounts_received, Length: 284, dtype: int64"
            ]
          },
          "execution_count": 205,
          "metadata": {},
          "output_type": "execute_result"
        }
      ],
      "source": [
        "#Removing outliers in the lower bound of the amount recieved column\n",
        "df_1['Amounts_received'][~(outliers_15_low_2 | outliers_15_up_2)]"
      ]
    },
    {
      "cell_type": "code",
      "execution_count": null,
      "metadata": {
        "id": "_AlBi7B6YVHM",
        "outputId": "15dfa703-dda3-4a33-e1e2-d8b50feed9a8"
      },
      "outputs": [
        {
          "data": {
            "text/html": [
              "<div>\n",
              "<style scoped>\n",
              "    .dataframe tbody tr th:only-of-type {\n",
              "        vertical-align: middle;\n",
              "    }\n",
              "\n",
              "    .dataframe tbody tr th {\n",
              "        vertical-align: top;\n",
              "    }\n",
              "\n",
              "    .dataframe thead th {\n",
              "        text-align: right;\n",
              "    }\n",
              "</style>\n",
              "<table border=\"1\" class=\"dataframe\">\n",
              "  <thead>\n",
              "    <tr style=\"text-align: right;\">\n",
              "      <th></th>\n",
              "      <th>Customer_ID</th>\n",
              "      <th>Time_stamp</th>\n",
              "      <th>Amount_Transacted</th>\n",
              "      <th>Amounts_received</th>\n",
              "      <th>Category_code</th>\n",
              "      <th>Gender_code</th>\n",
              "      <th>City_code</th>\n",
              "      <th>Credit_Limit_code</th>\n",
              "      <th>No_of_Transactions_code</th>\n",
              "      <th>Card_Type_code</th>\n",
              "      <th>Is_fraud_code</th>\n",
              "      <th>Authentication_code</th>\n",
              "    </tr>\n",
              "  </thead>\n",
              "  <tbody>\n",
              "    <tr>\n",
              "      <th>0</th>\n",
              "      <td>4.96</td>\n",
              "      <td>2019-01-01 00:12:00</td>\n",
              "      <td>965721.0</td>\n",
              "      <td>82475</td>\n",
              "      <td>4</td>\n",
              "      <td>1</td>\n",
              "      <td>15</td>\n",
              "      <td>6</td>\n",
              "      <td>1</td>\n",
              "      <td>1</td>\n",
              "      <td>0</td>\n",
              "      <td>1</td>\n",
              "    </tr>\n",
              "    <tr>\n",
              "      <th>1</th>\n",
              "      <td>4.96</td>\n",
              "      <td>2019-01-01 12:44:00</td>\n",
              "      <td>413052.0</td>\n",
              "      <td>32555</td>\n",
              "      <td>1</td>\n",
              "      <td>1</td>\n",
              "      <td>15</td>\n",
              "      <td>6</td>\n",
              "      <td>0</td>\n",
              "      <td>1</td>\n",
              "      <td>0</td>\n",
              "      <td>1</td>\n",
              "    </tr>\n",
              "    <tr>\n",
              "      <th>2</th>\n",
              "      <td>4.96</td>\n",
              "      <td>2019-02-01 00:25:00</td>\n",
              "      <td>584822.0</td>\n",
              "      <td>10173</td>\n",
              "      <td>2</td>\n",
              "      <td>1</td>\n",
              "      <td>15</td>\n",
              "      <td>6</td>\n",
              "      <td>0</td>\n",
              "      <td>1</td>\n",
              "      <td>0</td>\n",
              "      <td>1</td>\n",
              "    </tr>\n",
              "    <tr>\n",
              "      <th>3</th>\n",
              "      <td>4.96</td>\n",
              "      <td>2019-02-01 12:01:00</td>\n",
              "      <td>980146.0</td>\n",
              "      <td>12342</td>\n",
              "      <td>9</td>\n",
              "      <td>1</td>\n",
              "      <td>15</td>\n",
              "      <td>6</td>\n",
              "      <td>0</td>\n",
              "      <td>1</td>\n",
              "      <td>0</td>\n",
              "      <td>1</td>\n",
              "    </tr>\n",
              "    <tr>\n",
              "      <th>5</th>\n",
              "      <td>4.96</td>\n",
              "      <td>2019-03-01 15:19:00</td>\n",
              "      <td>482394.0</td>\n",
              "      <td>10003</td>\n",
              "      <td>11</td>\n",
              "      <td>1</td>\n",
              "      <td>15</td>\n",
              "      <td>6</td>\n",
              "      <td>0</td>\n",
              "      <td>1</td>\n",
              "      <td>0</td>\n",
              "      <td>1</td>\n",
              "    </tr>\n",
              "    <tr>\n",
              "      <th>...</th>\n",
              "      <td>...</td>\n",
              "      <td>...</td>\n",
              "      <td>...</td>\n",
              "      <td>...</td>\n",
              "      <td>...</td>\n",
              "      <td>...</td>\n",
              "      <td>...</td>\n",
              "      <td>...</td>\n",
              "      <td>...</td>\n",
              "      <td>...</td>\n",
              "      <td>...</td>\n",
              "      <td>...</td>\n",
              "    </tr>\n",
              "    <tr>\n",
              "      <th>282</th>\n",
              "      <td>7.52</td>\n",
              "      <td>2019-02-02 03:19:00</td>\n",
              "      <td>400006.0</td>\n",
              "      <td>30325</td>\n",
              "      <td>2</td>\n",
              "      <td>1</td>\n",
              "      <td>43</td>\n",
              "      <td>2</td>\n",
              "      <td>0</td>\n",
              "      <td>0</td>\n",
              "      <td>1</td>\n",
              "      <td>1</td>\n",
              "    </tr>\n",
              "    <tr>\n",
              "      <th>283</th>\n",
              "      <td>7.54</td>\n",
              "      <td>2019-03-25 01:44:00</td>\n",
              "      <td>200301.0</td>\n",
              "      <td>10008</td>\n",
              "      <td>4</td>\n",
              "      <td>0</td>\n",
              "      <td>10</td>\n",
              "      <td>1</td>\n",
              "      <td>0</td>\n",
              "      <td>2</td>\n",
              "      <td>1</td>\n",
              "      <td>1</td>\n",
              "    </tr>\n",
              "    <tr>\n",
              "      <th>284</th>\n",
              "      <td>7.54</td>\n",
              "      <td>2019-03-25 01:48:00</td>\n",
              "      <td>200282.0</td>\n",
              "      <td>10328</td>\n",
              "      <td>4</td>\n",
              "      <td>0</td>\n",
              "      <td>10</td>\n",
              "      <td>1</td>\n",
              "      <td>1</td>\n",
              "      <td>2</td>\n",
              "      <td>1</td>\n",
              "      <td>1</td>\n",
              "    </tr>\n",
              "    <tr>\n",
              "      <th>285</th>\n",
              "      <td>7.54</td>\n",
              "      <td>2019-03-25 03:58:00</td>\n",
              "      <td>200007.0</td>\n",
              "      <td>10013</td>\n",
              "      <td>2</td>\n",
              "      <td>0</td>\n",
              "      <td>10</td>\n",
              "      <td>1</td>\n",
              "      <td>2</td>\n",
              "      <td>2</td>\n",
              "      <td>1</td>\n",
              "      <td>1</td>\n",
              "    </tr>\n",
              "    <tr>\n",
              "      <th>286</th>\n",
              "      <td>7.48</td>\n",
              "      <td>2019-01-12 03:24:00</td>\n",
              "      <td>600368.0</td>\n",
              "      <td>50916</td>\n",
              "      <td>4</td>\n",
              "      <td>0</td>\n",
              "      <td>30</td>\n",
              "      <td>5</td>\n",
              "      <td>0</td>\n",
              "      <td>1</td>\n",
              "      <td>1</td>\n",
              "      <td>1</td>\n",
              "    </tr>\n",
              "  </tbody>\n",
              "</table>\n",
              "<p>284 rows × 12 columns</p>\n",
              "</div>"
            ],
            "text/plain": [
              "     Customer_ID          Time_stamp  Amount_Transacted  Amounts_received  \\\n",
              "0           4.96 2019-01-01 00:12:00           965721.0             82475   \n",
              "1           4.96 2019-01-01 12:44:00           413052.0             32555   \n",
              "2           4.96 2019-02-01 00:25:00           584822.0             10173   \n",
              "3           4.96 2019-02-01 12:01:00           980146.0             12342   \n",
              "5           4.96 2019-03-01 15:19:00           482394.0             10003   \n",
              "..           ...                 ...                ...               ...   \n",
              "282         7.52 2019-02-02 03:19:00           400006.0             30325   \n",
              "283         7.54 2019-03-25 01:44:00           200301.0             10008   \n",
              "284         7.54 2019-03-25 01:48:00           200282.0             10328   \n",
              "285         7.54 2019-03-25 03:58:00           200007.0             10013   \n",
              "286         7.48 2019-01-12 03:24:00           600368.0             50916   \n",
              "\n",
              "     Category_code  Gender_code  City_code  Credit_Limit_code  \\\n",
              "0                4            1         15                  6   \n",
              "1                1            1         15                  6   \n",
              "2                2            1         15                  6   \n",
              "3                9            1         15                  6   \n",
              "5               11            1         15                  6   \n",
              "..             ...          ...        ...                ...   \n",
              "282              2            1         43                  2   \n",
              "283              4            0         10                  1   \n",
              "284              4            0         10                  1   \n",
              "285              2            0         10                  1   \n",
              "286              4            0         30                  5   \n",
              "\n",
              "     No_of_Transactions_code  Card_Type_code  Is_fraud_code  \\\n",
              "0                          1               1              0   \n",
              "1                          0               1              0   \n",
              "2                          0               1              0   \n",
              "3                          0               1              0   \n",
              "5                          0               1              0   \n",
              "..                       ...             ...            ...   \n",
              "282                        0               0              1   \n",
              "283                        0               2              1   \n",
              "284                        1               2              1   \n",
              "285                        2               2              1   \n",
              "286                        0               1              1   \n",
              "\n",
              "     Authentication_code  \n",
              "0                      1  \n",
              "1                      1  \n",
              "2                      1  \n",
              "3                      1  \n",
              "5                      1  \n",
              "..                   ...  \n",
              "282                    1  \n",
              "283                    1  \n",
              "284                    1  \n",
              "285                    1  \n",
              "286                    1  \n",
              "\n",
              "[284 rows x 12 columns]"
            ]
          },
          "execution_count": 206,
          "metadata": {},
          "output_type": "execute_result"
        }
      ],
      "source": [
        "#Making new dataframe with no outliers in amount recieved column\n",
        "df_2 = df_1[~(outliers_15_low_2 | outliers_15_up_2)]\n",
        "df_2"
      ]
    },
    {
      "cell_type": "code",
      "execution_count": null,
      "metadata": {
        "id": "PQBKyIbCYVHN",
        "outputId": "635d13f9-bea0-4516-bf90-21512aae91fb"
      },
      "outputs": [
        {
          "data": {
            "image/png": "[encoded data removed]",
            "text/plain": [
              "<Figure size 432x288 with 1 Axes>"
            ]
          },
          "metadata": {
            "needs_background": "light"
          },
          "output_type": "display_data"
        }
      ],
      "source": [
        "# verifying the outliers are removed with a box plot\n",
        "sns.boxplot( x = df_2['Amounts_received'])\n",
        "plt.show()"
      ]
    },
    {
      "cell_type": "markdown",
      "metadata": {
        "id": "5rGW6a-_YVHN"
      },
      "source": [
        "## Feature Selection\n",
        "In the exploratory data analysis section missing values were detected and replaced and outliers in the amount transacted and amount received columns were dropped.\n",
        "The new dataset is used to to perform feature selection using the is_fraud column as the target variable. "
      ]
    },
    {
      "cell_type": "code",
      "execution_count": null,
      "metadata": {
        "id": "JlSJlzVhYVHN",
        "outputId": "8df36a75-61e9-4e5a-9354-94b7f00e665f"
      },
      "outputs": [
        {
          "name": "stdout",
          "output_type": "stream",
          "text": [
            "<class 'pandas.core.frame.DataFrame'>\n",
            "RangeIndex: 287 entries, 0 to 286\n",
            "Data columns (total 12 columns):\n",
            " #   Column                   Non-Null Count  Dtype         \n",
            "---  ------                   --------------  -----         \n",
            " 0   Customer_ID              287 non-null    float64       \n",
            " 1   Time_stamp               287 non-null    datetime64[ns]\n",
            " 2   Amount_Transacted        287 non-null    float64       \n",
            " 3   Amounts_received         287 non-null    int64         \n",
            " 4   Category_code            287 non-null    int8          \n",
            " 5   Gender_code              287 non-null    int8          \n",
            " 6   City_code                287 non-null    int8          \n",
            " 7   Credit_Limit_code        287 non-null    int8          \n",
            " 8   No_of_Transactions_code  287 non-null    int8          \n",
            " 9   Card_Type_code           287 non-null    int8          \n",
            " 10  Is_fraud_code            287 non-null    int8          \n",
            " 11  Authentication_code      287 non-null    int8          \n",
            "dtypes: datetime64[ns](1), float64(2), int64(1), int8(8)\n",
            "memory usage: 11.3 KB\n"
          ]
        },
        {
          "name": "stderr",
          "output_type": "stream",
          "text": [
            "C:\\Users\\Julie\\AppData\\Local\\Temp\\ipykernel_4948\\2594616004.py:2: SettingWithCopyWarning: \n",
            "A value is trying to be set on a copy of a slice from a DataFrame.\n",
            "Try using .loc[row_indexer,col_indexer] = value instead\n",
            "\n",
            "See the caveats in the documentation: https://pandas.pydata.org/pandas-docs/stable/user_guide/indexing.html#returning-a-view-versus-a-copy\n",
            "  df_2['Time_stamp']=df_2['Time_stamp'].apply(pd.Timestamp.toordinal)\n"
          ]
        }
      ],
      "source": [
        "#Converting Time variable to ordinal so it can be considered as one of the features\n",
        "df_2['Time_stamp']=df_2['Time_stamp'].apply(pd.Timestamp.toordinal)\n",
        "df2.info()"
      ]
    },
    {
      "cell_type": "code",
      "execution_count": null,
      "metadata": {
        "id": "n4DcnlYnYVHN",
        "outputId": "507b2387-0d49-47b0-ed37-4ac31ee27e86"
      },
      "outputs": [
        {
          "data": {
            "image/png": "[encoded data removed]",
            "text/plain": [
              "<Figure size 864x720 with 2 Axes>"
            ]
          },
          "metadata": {
            "needs_background": "light"
          },
          "output_type": "display_data"
        }
      ],
      "source": [
        "# Using Pearson Correlation of all features (including target)\n",
        "plt.figure(figsize=(12,10))                      # creating a plot figure        \n",
        "cor = df_2.corr()                                  #compute correlation\n",
        "sns.heatmap(cor, annot=True, cmap=plt.cm.Reds)   # plot heatmap\n",
        "plt.show()                                       # show heatmap"
      ]
    },
    {
      "cell_type": "markdown",
      "metadata": {
        "id": "yt3oE5TQYVHN"
      },
      "source": [
        "From the plot above, credit limit and amount transacted show strong correlation, hence further testing with backward elimination is shown below."
      ]
    },
    {
      "cell_type": "markdown",
      "metadata": {
        "id": "vsBuQtVqYVHN"
      },
      "source": [
        "### Backward Feature Elimination\n",
        "This process goes through the following process\n",
        "1. Select a P-value level which is selected as 0.05\n",
        "2. Fit the model with all features\n",
        "3. Which feature has highest P-value?\n",
        "4. Remove the feature with highest P-value\n",
        "5. Fit the model again (Step 2) \n",
        "6. Repeat the Backward Elimination until we remove all features with p-value higher the significance level\n",
        "\n",
        "\n",
        "The code below iterates through the predictors until only the significant variables are chosen"
      ]
    },
    {
      "cell_type": "code",
      "execution_count": null,
      "metadata": {
        "id": "J3vSP0zZYVHO"
      },
      "outputs": [],
      "source": [
        "# Choosing target variable and feature matrix\n",
        "target_norm = df_2['Is_fraud_code']\n",
        "features_norm = df_2.drop(\"Is_fraud_code\", axis=1)"
      ]
    },
    {
      "cell_type": "code",
      "execution_count": null,
      "metadata": {
        "id": "5saPY6K4YVHO",
        "outputId": "b47b3264-07fa-430c-b79e-5c895bdd371f"
      },
      "outputs": [
        {
          "name": "stdout",
          "output_type": "stream",
          "text": [
            "['Customer_ID', 'Time_stamp', 'Amounts_received', 'Credit_Limit_code', 'No_of_Transactions_code', 'Card_Type_code', 'Authentication_code']\n"
          ]
        }
      ],
      "source": [
        "#Backward Elimination for the dataset\n",
        "X = features_norm\n",
        "y = target_norm\n",
        "cols = list(X.columns)\n",
        "pmax = 1\n",
        "while (len(cols)>0):\n",
        "    p= []\n",
        "    X_1 = X[cols]\n",
        "    X_1 = sm.add_constant(X_1)\n",
        "    model = sm.OLS(y,X_1).fit()\n",
        "    p = pd.Series(model.pvalues.values[1:],index = cols)      \n",
        "    pmax = max(p)\n",
        "    feature_with_p_max = p.idxmax()\n",
        "    if(pmax>0.05):\n",
        "        cols.remove(feature_with_p_max)\n",
        "    else:\n",
        "        break\n",
        "selected_features_BE = cols\n",
        "print(selected_features_BE)"
      ]
    },
    {
      "cell_type": "markdown",
      "metadata": {
        "id": "ihRTrF2YYVHO"
      },
      "source": [
        "Based on the backward feature selection process, the variables 'Customer_ID', 'Time_stamp', 'Amounts_received', 'Gender_code', 'City_code', 'Credit_Limit_code', 'No_of_Transactions_code', 'Card_Type_code', 'Authentication_code' have been selected. Because amount transacted and credit limit were highly correlated, Amount transacted was deemed significant."
      ]
    },
    {
      "cell_type": "markdown",
      "metadata": {
        "id": "xD6F2lcwYVHO"
      },
      "source": [
        "## Feature Normalization and Standardization\n",
        "Feature normalization and feature standardisation was performed for the dataset to see if there is a difference in output when the data is normalised vs when it is standardised. \n"
      ]
    },
    {
      "cell_type": "markdown",
      "metadata": {
        "id": "0sCtfFwdYVHO"
      },
      "source": [
        "### Feature Normalization"
      ]
    },
    {
      "cell_type": "code",
      "execution_count": null,
      "metadata": {
        "id": "QQoW9GoFYVHO",
        "outputId": "b73d870d-8cc1-4c7d-e280-f9050b5511d4"
      },
      "outputs": [
        {
          "data": {
            "text/html": [
              "<div>\n",
              "<style scoped>\n",
              "    .dataframe tbody tr th:only-of-type {\n",
              "        vertical-align: middle;\n",
              "    }\n",
              "\n",
              "    .dataframe tbody tr th {\n",
              "        vertical-align: top;\n",
              "    }\n",
              "\n",
              "    .dataframe thead th {\n",
              "        text-align: right;\n",
              "    }\n",
              "</style>\n",
              "<table border=\"1\" class=\"dataframe\">\n",
              "  <thead>\n",
              "    <tr style=\"text-align: right;\">\n",
              "      <th></th>\n",
              "      <th>Customer_ID</th>\n",
              "      <th>Time_stamp</th>\n",
              "      <th>Amount_Transacted</th>\n",
              "      <th>Amounts_received</th>\n",
              "      <th>Category_code</th>\n",
              "      <th>Gender_code</th>\n",
              "      <th>City_code</th>\n",
              "      <th>Credit_Limit_code</th>\n",
              "      <th>No_of_Transactions_code</th>\n",
              "      <th>Card_Type_code</th>\n",
              "      <th>Is_fraud_code</th>\n",
              "      <th>Authentication_code</th>\n",
              "    </tr>\n",
              "  </thead>\n",
              "  <tbody>\n",
              "    <tr>\n",
              "      <th>0</th>\n",
              "      <td>0.550523</td>\n",
              "      <td>0.000000</td>\n",
              "      <td>0.965675</td>\n",
              "      <td>0.826345</td>\n",
              "      <td>0.307692</td>\n",
              "      <td>1.0</td>\n",
              "      <td>0.319149</td>\n",
              "      <td>1.0</td>\n",
              "      <td>0.125</td>\n",
              "      <td>0.5</td>\n",
              "      <td>0.0</td>\n",
              "      <td>1.0</td>\n",
              "    </tr>\n",
              "    <tr>\n",
              "      <th>1</th>\n",
              "      <td>0.550523</td>\n",
              "      <td>0.000000</td>\n",
              "      <td>0.345118</td>\n",
              "      <td>0.326180</td>\n",
              "      <td>0.076923</td>\n",
              "      <td>1.0</td>\n",
              "      <td>0.319149</td>\n",
              "      <td>1.0</td>\n",
              "      <td>0.000</td>\n",
              "      <td>0.5</td>\n",
              "      <td>0.0</td>\n",
              "      <td>1.0</td>\n",
              "    </tr>\n",
              "    <tr>\n",
              "      <th>2</th>\n",
              "      <td>0.550523</td>\n",
              "      <td>0.091988</td>\n",
              "      <td>0.537987</td>\n",
              "      <td>0.101927</td>\n",
              "      <td>0.153846</td>\n",
              "      <td>1.0</td>\n",
              "      <td>0.319149</td>\n",
              "      <td>1.0</td>\n",
              "      <td>0.000</td>\n",
              "      <td>0.5</td>\n",
              "      <td>0.0</td>\n",
              "      <td>1.0</td>\n",
              "    </tr>\n",
              "    <tr>\n",
              "      <th>3</th>\n",
              "      <td>0.550523</td>\n",
              "      <td>0.091988</td>\n",
              "      <td>0.981872</td>\n",
              "      <td>0.123659</td>\n",
              "      <td>0.692308</td>\n",
              "      <td>1.0</td>\n",
              "      <td>0.319149</td>\n",
              "      <td>1.0</td>\n",
              "      <td>0.000</td>\n",
              "      <td>0.5</td>\n",
              "      <td>0.0</td>\n",
              "      <td>1.0</td>\n",
              "    </tr>\n",
              "    <tr>\n",
              "      <th>5</th>\n",
              "      <td>0.550523</td>\n",
              "      <td>0.175074</td>\n",
              "      <td>0.422977</td>\n",
              "      <td>0.100223</td>\n",
              "      <td>0.846154</td>\n",
              "      <td>1.0</td>\n",
              "      <td>0.319149</td>\n",
              "      <td>1.0</td>\n",
              "      <td>0.000</td>\n",
              "      <td>0.5</td>\n",
              "      <td>0.0</td>\n",
              "      <td>1.0</td>\n",
              "    </tr>\n",
              "  </tbody>\n",
              "</table>\n",
              "</div>"
            ],
            "text/plain": [
              "   Customer_ID  Time_stamp  Amount_Transacted  Amounts_received  \\\n",
              "0     0.550523    0.000000           0.965675          0.826345   \n",
              "1     0.550523    0.000000           0.345118          0.326180   \n",
              "2     0.550523    0.091988           0.537987          0.101927   \n",
              "3     0.550523    0.091988           0.981872          0.123659   \n",
              "5     0.550523    0.175074           0.422977          0.100223   \n",
              "\n",
              "   Category_code  Gender_code  City_code  Credit_Limit_code  \\\n",
              "0       0.307692          1.0   0.319149                1.0   \n",
              "1       0.076923          1.0   0.319149                1.0   \n",
              "2       0.153846          1.0   0.319149                1.0   \n",
              "3       0.692308          1.0   0.319149                1.0   \n",
              "5       0.846154          1.0   0.319149                1.0   \n",
              "\n",
              "   No_of_Transactions_code  Card_Type_code  Is_fraud_code  Authentication_code  \n",
              "0                    0.125             0.5            0.0                  1.0  \n",
              "1                    0.000             0.5            0.0                  1.0  \n",
              "2                    0.000             0.5            0.0                  1.0  \n",
              "3                    0.000             0.5            0.0                  1.0  \n",
              "5                    0.000             0.5            0.0                  1.0  "
            ]
          },
          "execution_count": 212,
          "metadata": {},
          "output_type": "execute_result"
        }
      ],
      "source": [
        "#Normalizing Amount transacted and amount recieved\n",
        "#Creating copy of dataset\n",
        "df_norm = df_2.copy()\n",
        "cols = df_2.columns\n",
        "df_norm[cols] = minmax_scale(df_norm[cols])\n",
        "df_norm.head()"
      ]
    },
    {
      "cell_type": "markdown",
      "metadata": {
        "id": "X5u87yyGYVHO"
      },
      "source": [
        "### Feature Standardization"
      ]
    },
    {
      "cell_type": "code",
      "execution_count": null,
      "metadata": {
        "id": "gZga0bACYVHO",
        "outputId": "5e4e39d3-933d-4c24-ad26-93ce7b65b0f2"
      },
      "outputs": [
        {
          "data": {
            "text/html": [
              "<div>\n",
              "<style scoped>\n",
              "    .dataframe tbody tr th:only-of-type {\n",
              "        vertical-align: middle;\n",
              "    }\n",
              "\n",
              "    .dataframe tbody tr th {\n",
              "        vertical-align: top;\n",
              "    }\n",
              "\n",
              "    .dataframe thead th {\n",
              "        text-align: right;\n",
              "    }\n",
              "</style>\n",
              "<table border=\"1\" class=\"dataframe\">\n",
              "  <thead>\n",
              "    <tr style=\"text-align: right;\">\n",
              "      <th></th>\n",
              "      <th>Customer_ID</th>\n",
              "      <th>Time_stamp</th>\n",
              "      <th>Amount_Transacted</th>\n",
              "      <th>Amounts_received</th>\n",
              "      <th>Category_code</th>\n",
              "      <th>Gender_code</th>\n",
              "      <th>City_code</th>\n",
              "      <th>Credit_Limit_code</th>\n",
              "      <th>No_of_Transactions_code</th>\n",
              "      <th>Card_Type_code</th>\n",
              "      <th>Is_fraud_code</th>\n",
              "      <th>Authentication_code</th>\n",
              "    </tr>\n",
              "  </thead>\n",
              "  <tbody>\n",
              "    <tr>\n",
              "      <th>0</th>\n",
              "      <td>-0.496388</td>\n",
              "      <td>-1.162528</td>\n",
              "      <td>2.262842</td>\n",
              "      <td>1.571489</td>\n",
              "      <td>-0.732467</td>\n",
              "      <td>1.276569</td>\n",
              "      <td>-0.858186</td>\n",
              "      <td>1.277589</td>\n",
              "      <td>-0.138651</td>\n",
              "      <td>0.004486</td>\n",
              "      <td>0</td>\n",
              "      <td>0.059444</td>\n",
              "    </tr>\n",
              "    <tr>\n",
              "      <th>1</th>\n",
              "      <td>-0.496388</td>\n",
              "      <td>-1.162528</td>\n",
              "      <td>-0.115770</td>\n",
              "      <td>-0.275527</td>\n",
              "      <td>-1.569012</td>\n",
              "      <td>1.276569</td>\n",
              "      <td>-0.858186</td>\n",
              "      <td>1.277589</td>\n",
              "      <td>-0.817564</td>\n",
              "      <td>0.004486</td>\n",
              "      <td>0</td>\n",
              "      <td>0.059444</td>\n",
              "    </tr>\n",
              "    <tr>\n",
              "      <th>2</th>\n",
              "      <td>-0.496388</td>\n",
              "      <td>-0.805177</td>\n",
              "      <td>0.623505</td>\n",
              "      <td>-1.103651</td>\n",
              "      <td>-1.290164</td>\n",
              "      <td>1.276569</td>\n",
              "      <td>-0.858186</td>\n",
              "      <td>1.277589</td>\n",
              "      <td>-0.817564</td>\n",
              "      <td>0.004486</td>\n",
              "      <td>0</td>\n",
              "      <td>0.059444</td>\n",
              "    </tr>\n",
              "    <tr>\n",
              "      <th>3</th>\n",
              "      <td>-0.496388</td>\n",
              "      <td>-0.805177</td>\n",
              "      <td>2.324925</td>\n",
              "      <td>-1.023399</td>\n",
              "      <td>0.661774</td>\n",
              "      <td>1.276569</td>\n",
              "      <td>-0.858186</td>\n",
              "      <td>1.277589</td>\n",
              "      <td>-0.817564</td>\n",
              "      <td>0.004486</td>\n",
              "      <td>0</td>\n",
              "      <td>0.059444</td>\n",
              "    </tr>\n",
              "    <tr>\n",
              "      <th>5</th>\n",
              "      <td>-0.496388</td>\n",
              "      <td>-0.482408</td>\n",
              "      <td>0.182668</td>\n",
              "      <td>-1.109940</td>\n",
              "      <td>1.219470</td>\n",
              "      <td>1.276569</td>\n",
              "      <td>-0.858186</td>\n",
              "      <td>1.277589</td>\n",
              "      <td>-0.817564</td>\n",
              "      <td>0.004486</td>\n",
              "      <td>0</td>\n",
              "      <td>0.059444</td>\n",
              "    </tr>\n",
              "  </tbody>\n",
              "</table>\n",
              "</div>"
            ],
            "text/plain": [
              "   Customer_ID  Time_stamp  Amount_Transacted  Amounts_received  \\\n",
              "0    -0.496388   -1.162528           2.262842          1.571489   \n",
              "1    -0.496388   -1.162528          -0.115770         -0.275527   \n",
              "2    -0.496388   -0.805177           0.623505         -1.103651   \n",
              "3    -0.496388   -0.805177           2.324925         -1.023399   \n",
              "5    -0.496388   -0.482408           0.182668         -1.109940   \n",
              "\n",
              "   Category_code  Gender_code  City_code  Credit_Limit_code  \\\n",
              "0      -0.732467     1.276569  -0.858186           1.277589   \n",
              "1      -1.569012     1.276569  -0.858186           1.277589   \n",
              "2      -1.290164     1.276569  -0.858186           1.277589   \n",
              "3       0.661774     1.276569  -0.858186           1.277589   \n",
              "5       1.219470     1.276569  -0.858186           1.277589   \n",
              "\n",
              "   No_of_Transactions_code  Card_Type_code  Is_fraud_code  Authentication_code  \n",
              "0                -0.138651        0.004486              0             0.059444  \n",
              "1                -0.817564        0.004486              0             0.059444  \n",
              "2                -0.817564        0.004486              0             0.059444  \n",
              "3                -0.817564        0.004486              0             0.059444  \n",
              "5                -0.817564        0.004486              0             0.059444  "
            ]
          },
          "execution_count": 213,
          "metadata": {},
          "output_type": "execute_result"
        }
      ],
      "source": [
        "#Standardizing Amount transacted and amount recieved\n",
        "df_stand = df_2.copy()\n",
        "cols = ['Customer_ID', 'Time_stamp', 'Amount_Transacted', 'Amounts_received', 'Category_code', 'Gender_code', 'City_code', \n",
        "'Credit_Limit_code', 'No_of_Transactions_code', 'Card_Type_code', 'Authentication_code']\n",
        "df_stand[cols] = StandardScaler().fit_transform(df_stand[cols])\n",
        "df_stand.head()"
      ]
    },
    {
      "cell_type": "code",
      "execution_count": null,
      "metadata": {
        "id": "QY7L5_jWYVHP",
        "outputId": "9b34c6a3-b418-4b6d-d33c-f8a763931869"
      },
      "outputs": [
        {
          "data": {
            "image/png": "[encoded data removed]",
            "text/plain": [
              "<Figure size 432x288 with 1 Axes>"
            ]
          },
          "metadata": {
            "needs_background": "light"
          },
          "output_type": "display_data"
        }
      ],
      "source": [
        "#Comparing normalized and standardized data\n",
        "df_normalized1 = df_norm.assign(Location=\"Normalised\")\n",
        "df_standardised1 = df_stand.assign(Location=\"Standardised\")\n",
        "\n",
        "#Combining the dataframes into 1 to have the box plot in one frame\n",
        "cdf = pd.concat([df_normalized1, df_standardised1])    \n",
        "mdf = pd.melt(cdf, id_vars=['Location'], var_name=['Variables'])\n",
        "\n",
        "bx = sns.boxplot(x=\"Location\", y=\"value\", hue=\"Variables\", data=mdf);    \n",
        "bx.legend(bbox_to_anchor= (1.03, 1) );\n",
        "plt.show()"
      ]
    },
    {
      "cell_type": "markdown",
      "metadata": {
        "id": "E4vKg9g1YVHP"
      },
      "source": [
        "## Model Training"
      ]
    },
    {
      "cell_type": "markdown",
      "metadata": {
        "id": "MTDfm13GYVHP"
      },
      "source": [
        "### Equalizing the fraudulent and legitimate transactions\n",
        "In all cases the fraudulent transactions are less than the legitimate transactions and so we equalize them below for the model."
      ]
    },
    {
      "cell_type": "code",
      "execution_count": null,
      "metadata": {
        "id": "0bePngMRYVHP",
        "outputId": "7e855df2-b86b-4398-a21b-7c7645eae081"
      },
      "outputs": [
        {
          "name": "stdout",
          "output_type": "stream",
          "text": [
            "(146, 12)\n",
            "(138, 12)\n"
          ]
        }
      ],
      "source": [
        "#For normalized Dataset\n",
        "legit_norm= df_norm[df_norm.Is_fraud_code== 0]\n",
        "fraud_norm = df_norm[df_norm.Is_fraud_code == 1]\n",
        "print(legit_norm.shape)\n",
        "print(fraud_norm.shape)"
      ]
    },
    {
      "cell_type": "code",
      "execution_count": null,
      "metadata": {
        "id": "Ie_MEvLeYVHP",
        "outputId": "a73acdf5-6561-4a91-b7ad-01bf3b52f508"
      },
      "outputs": [
        {
          "name": "stdout",
          "output_type": "stream",
          "text": [
            "(146, 12)\n",
            "(138, 12)\n"
          ]
        }
      ],
      "source": [
        "#For standardised Dataset\n",
        "legit_stand= df_stand[df_stand.Is_fraud_code== 0]\n",
        "fraud_stand = df_stand[df_stand.Is_fraud_code == 1]\n",
        "print(legit_stand.shape)\n",
        "print(fraud_stand.shape)"
      ]
    },
    {
      "cell_type": "code",
      "execution_count": null,
      "metadata": {
        "id": "OM8Sowv-YVHP",
        "outputId": "8cf46de2-fe44-4f01-b3b0-63b4f6fcd679"
      },
      "outputs": [
        {
          "name": "stdout",
          "output_type": "stream",
          "text": [
            "<class 'pandas.core.frame.DataFrame'>\n",
            "Int64Index: 276 entries, 148 to 214\n",
            "Data columns (total 12 columns):\n",
            " #   Column                   Non-Null Count  Dtype  \n",
            "---  ------                   --------------  -----  \n",
            " 0   Customer_ID              276 non-null    float64\n",
            " 1   Time_stamp               276 non-null    float64\n",
            " 2   Amount_Transacted        276 non-null    float64\n",
            " 3   Amounts_received         276 non-null    float64\n",
            " 4   Category_code            276 non-null    float64\n",
            " 5   Gender_code              276 non-null    float64\n",
            " 6   City_code                276 non-null    float64\n",
            " 7   Credit_Limit_code        276 non-null    float64\n",
            " 8   No_of_Transactions_code  276 non-null    float64\n",
            " 9   Card_Type_code           276 non-null    float64\n",
            " 10  Is_fraud_code            276 non-null    float64\n",
            " 11  Authentication_code      276 non-null    float64\n",
            "dtypes: float64(12)\n",
            "memory usage: 28.0 KB\n",
            "<class 'pandas.core.frame.DataFrame'>\n",
            "Int64Index: 276 entries, 16 to 163\n",
            "Data columns (total 12 columns):\n",
            " #   Column                   Non-Null Count  Dtype  \n",
            "---  ------                   --------------  -----  \n",
            " 0   Customer_ID              276 non-null    float64\n",
            " 1   Time_stamp               276 non-null    float64\n",
            " 2   Amount_Transacted        276 non-null    float64\n",
            " 3   Amounts_received         276 non-null    float64\n",
            " 4   Category_code            276 non-null    float64\n",
            " 5   Gender_code              276 non-null    float64\n",
            " 6   City_code                276 non-null    float64\n",
            " 7   Credit_Limit_code        276 non-null    float64\n",
            " 8   No_of_Transactions_code  276 non-null    float64\n",
            " 9   Card_Type_code           276 non-null    float64\n",
            " 10  Is_fraud_code            276 non-null    int8   \n",
            " 11  Authentication_code      276 non-null    float64\n",
            "dtypes: float64(11), int8(1)\n",
            "memory usage: 26.1 KB\n"
          ]
        }
      ],
      "source": [
        "#Making the sample equal and recombining dataset\n",
        "#Normalized dataset\n",
        "legit_norm = legit_norm.sample(n = 138)\n",
        "fraud_norm = fraud_norm.sample(n = 138)\n",
        "df_normalized2 = pd.concat([legit_norm,fraud_norm], axis=0)\n",
        "df_normalized2.info()\n",
        "\n",
        "#Standardized dataset\n",
        "legit_stand = legit_stand.sample(n = 138)\n",
        "fraud_stand = fraud_stand.sample(n = 138)\n",
        "df_standardised2 = pd.concat([legit_stand,fraud_stand], axis=0)\n",
        "df_standardised2.info()"
      ]
    },
    {
      "cell_type": "markdown",
      "metadata": {
        "id": "K5yk_rkZYVHQ"
      },
      "source": [
        "### Splitting data into Features and Targets\n",
        "Because amount transacted and category were identified as not significant from the feature selection they were dropped from the model training."
      ]
    },
    {
      "cell_type": "markdown",
      "metadata": {
        "id": "7SzYjCdIYVHQ"
      },
      "source": [
        "#### Normalised data"
      ]
    },
    {
      "cell_type": "code",
      "execution_count": null,
      "metadata": {
        "id": "kq-ggAgPYVHQ"
      },
      "outputs": [],
      "source": [
        "#Splitting the data into features and targets for normalised data\n",
        "X_norm = df_normalized2.drop(['Is_fraud_code', 'Amount_Transacted', 'Category_code'], axis=1)\n",
        "Y_norm = df_normalized2['Is_fraud_code']"
      ]
    },
    {
      "cell_type": "code",
      "execution_count": null,
      "metadata": {
        "id": "Xil17ZyIYVHQ",
        "outputId": "199dca7a-fa66-471e-eadd-cbd7da01310c"
      },
      "outputs": [
        {
          "name": "stdout",
          "output_type": "stream",
          "text": [
            "(276, 9) (220, 9) (56, 9)\n",
            "(276,) (220,) (56,)\n"
          ]
        }
      ],
      "source": [
        "#Split data into testing and training data for normalised data\n",
        "#We split the data by 20% test and 80%train\n",
        "X_train, X_test, Y_train, Y_test = train_test_split(X_norm,Y_norm,test_size=0.2, stratify= Y_norm, random_state=2)\n",
        "print(X_norm.shape,X_train.shape, X_test.shape)\n",
        "print(Y_norm.shape, Y_train.shape, Y_test.shape)"
      ]
    },
    {
      "cell_type": "markdown",
      "metadata": {
        "id": "d7o7QVwOYVHQ"
      },
      "source": [
        "#### Model Training and testing on normalized data"
      ]
    },
    {
      "cell_type": "code",
      "execution_count": null,
      "metadata": {
        "id": "oe1xQ0w1YVHQ",
        "outputId": "d3f529be-381a-4eae-e1e1-179f47da12ae"
      },
      "outputs": [
        {
          "name": "stdout",
          "output_type": "stream",
          "text": [
            "Accuracy on training data 96.36363636363636\n",
            "Accuracy on test data 94.64285714285714\n"
          ]
        }
      ],
      "source": [
        "#Model Training for normalised data\n",
        "model = LogisticRegression( max_iter=1000)\n",
        "#Training the logistic regression model with normalised training data \n",
        "model.fit(X_train, Y_train);\n",
        "\n",
        "#Find the performance of the model with normalised data\n",
        "#Accuracy Score on training data\n",
        "X_train_prediction = model.predict(X_train)\n",
        "training_data_accuracy = accuracy_score(X_train_prediction, Y_train)\n",
        "print(\"Accuracy on training data\", training_data_accuracy*100)\n",
        "\n",
        "#Accuracy on test data\n",
        "X_test_prediction = model.predict(X_test)\n",
        "testing_data_accuracy = accuracy_score(X_test_prediction, Y_test)\n",
        "print(\"Accuracy on test data\", testing_data_accuracy*100)\n"
      ]
    },
    {
      "cell_type": "markdown",
      "metadata": {
        "id": "GyfS79Y7YVHQ"
      },
      "source": [
        "The model trained on normalised data is 95% accurate on test data. "
      ]
    },
    {
      "cell_type": "code",
      "execution_count": null,
      "metadata": {
        "id": "8TWxZmYTYVHQ",
        "outputId": "23841db0-dc31-45a4-cd04-4720c94547a5"
      },
      "outputs": [
        {
          "name": "stdout",
          "output_type": "stream",
          "text": [
            "              precision    recall  f1-score   support\n",
            "\n",
            "         0.0       0.93      0.96      0.95        27\n",
            "         1.0       0.96      0.93      0.95        29\n",
            "\n",
            "    accuracy                           0.95        56\n",
            "   macro avg       0.95      0.95      0.95        56\n",
            "weighted avg       0.95      0.95      0.95        56\n",
            "\n"
          ]
        }
      ],
      "source": [
        "#Classification report\n",
        "print(classification_report(X_test_prediction, Y_test))"
      ]
    },
    {
      "cell_type": "code",
      "execution_count": null,
      "metadata": {
        "id": "hSZuS-fHYVHQ",
        "outputId": "8cac31db-1e64-4b87-d0a5-71b2856c8b79"
      },
      "outputs": [
        {
          "data": {
            "text/plain": [
              "Text(0.5, 33.0, 'Predicted Values')"
            ]
          },
          "execution_count": 298,
          "metadata": {},
          "output_type": "execute_result"
        },
        {
          "data": {
            "image/png": "[encoded data removed]",
            "text/plain": [
              "<Figure size 864x432 with 2 Axes>"
            ]
          },
          "metadata": {
            "needs_background": "light"
          },
          "output_type": "display_data"
        }
      ],
      "source": [
        "#confusion matrix - A performance measurement for machine learning classification \n",
        "cm=confusion_matrix(Y_test,X_test_prediction)\n",
        "plt.figure(figsize=(12,6))\n",
        "plt.title('Confusion Matrix')\n",
        "sns.heatmap(cm, annot=True,fmt='d', cmap='Blues')\n",
        "plt.ylabel('Actual Values')\n",
        "plt.xlabel('Predicted Values')"
      ]
    },
    {
      "cell_type": "markdown",
      "metadata": {
        "id": "Mi0gMGw2YVHR"
      },
      "source": [
        "From the confusion matrix 26 transaction which were legitimate were predicted correctly by the model while 2 which were legitimate were wrongly predicted as fraud. \n",
        "1 transaction that was fraudulent was wrongly predicted as legitimate while 27 fraudulent transactions were correctly predicted as fraudulent. "
      ]
    },
    {
      "cell_type": "markdown",
      "metadata": {
        "id": "AYNXqRnhYVHR"
      },
      "source": [
        "#### Standardized Data"
      ]
    },
    {
      "cell_type": "code",
      "execution_count": null,
      "metadata": {
        "id": "t-Ku81BjYVHR"
      },
      "outputs": [],
      "source": [
        "#Splitting the data into features and targets for standardised data\n",
        "X_stand= df_standardised2.drop(['Is_fraud_code', 'Amount_Transacted', 'Category_code'], axis=1)\n",
        "Y_stand = df_standardised2['Is_fraud_code']"
      ]
    },
    {
      "cell_type": "code",
      "execution_count": null,
      "metadata": {
        "id": "y5nM25Y8YVHR",
        "outputId": "f105898b-06ad-4735-a973-a05eb05e4634"
      },
      "outputs": [
        {
          "name": "stdout",
          "output_type": "stream",
          "text": [
            "(276, 9) (220, 9) (56, 9)\n",
            "(276,) (220,) (56,)\n"
          ]
        }
      ],
      "source": [
        "#Split data into testing and training data for standardised data\n",
        "#We split the data by 20% test and 80%train\n",
        "X_train2, X_test2, Y_train2, Y_test2 = train_test_split(X_stand,Y_stand,test_size=0.2, stratify= Y_stand, random_state=2)\n",
        "print(X_stand.shape,X_train2.shape, X_test2.shape)\n",
        "print(Y_stand.shape, Y_train2.shape, Y_test2.shape)"
      ]
    },
    {
      "cell_type": "markdown",
      "metadata": {
        "id": "YyvigdlqYVHR"
      },
      "source": [
        "##### Model training and testing on standardized data"
      ]
    },
    {
      "cell_type": "code",
      "execution_count": null,
      "metadata": {
        "id": "hVr8fip3YVHR",
        "outputId": "c240a3c7-83a4-4dba-c729-531fb93cccda"
      },
      "outputs": [
        {
          "name": "stdout",
          "output_type": "stream",
          "text": [
            "Accuracy on training data 97.27272727272728\n",
            "Accuracy on test data 100.0\n"
          ]
        }
      ],
      "source": [
        "#Model Training for standardised data\n",
        "model2 = LogisticRegression( max_iter=1000)\n",
        "#Training the logistic regression model with standardised training data \n",
        "model2.fit(X_train2, Y_train2);\n",
        "\n",
        "#Find the performance of the model with standardised data\n",
        "#Accuracy Score on training data\n",
        "X_train_prediction2 = model2.predict(X_train2)\n",
        "training_data_accuracy2 = accuracy_score(X_train_prediction2, Y_train2)\n",
        "print(\"Accuracy on training data\", training_data_accuracy2*100)\n",
        "\n",
        "#Accuracy on test data\n",
        "X_test_prediction2 = model2.predict(X_test2)\n",
        "testing_data_accuracy2 = accuracy_score(X_test_prediction2, Y_test2)\n",
        "print(\"Accuracy on test data\", testing_data_accuracy2*100)\n"
      ]
    },
    {
      "cell_type": "markdown",
      "metadata": {
        "id": "Ow5s6uHaYVHR"
      },
      "source": [
        "The model trained on standardised data, was 100% accurate on test data. "
      ]
    },
    {
      "cell_type": "code",
      "execution_count": null,
      "metadata": {
        "id": "1lvRWbY8YVHS",
        "outputId": "806aff44-8bea-42db-da35-0bc2940771c3"
      },
      "outputs": [
        {
          "name": "stdout",
          "output_type": "stream",
          "text": [
            "              precision    recall  f1-score   support\n",
            "\n",
            "           0       1.00      1.00      1.00        28\n",
            "           1       1.00      1.00      1.00        28\n",
            "\n",
            "    accuracy                           1.00        56\n",
            "   macro avg       1.00      1.00      1.00        56\n",
            "weighted avg       1.00      1.00      1.00        56\n",
            "\n"
          ]
        }
      ],
      "source": [
        "print(classification_report(X_test_prediction2, Y_test2))"
      ]
    },
    {
      "cell_type": "code",
      "execution_count": null,
      "metadata": {
        "id": "Z884OW8oYVHS",
        "outputId": "39499a18-9024-469a-dba6-a0c683a67d6e"
      },
      "outputs": [
        {
          "data": {
            "text/plain": [
              "Text(0.5, 33.0, 'Predicted Values')"
            ]
          },
          "execution_count": 304,
          "metadata": {},
          "output_type": "execute_result"
        },
        {
          "data": {
            "image/png": "[encoded data removed]",
            "text/plain": [
              "<Figure size 864x432 with 2 Axes>"
            ]
          },
          "metadata": {
            "needs_background": "light"
          },
          "output_type": "display_data"
        }
      ],
      "source": [
        "#confusion matrix - A performance measurement for machine learning classification \n",
        "cm=confusion_matrix(Y_test2,X_test_prediction2)\n",
        "plt.figure(figsize=(12,6))\n",
        "plt.title('Confusion Matrix')\n",
        "sns.heatmap(cm, annot=True,fmt='d', cmap='Blues')\n",
        "plt.ylabel('Actual Values')\n",
        "plt.xlabel('Predicted Values')"
      ]
    },
    {
      "cell_type": "markdown",
      "metadata": {
        "id": "D9LNLB3nYVHS"
      },
      "source": [
        "From the confusion matrix based on the standardized data, all legitimate and all fraudulent transactions were predicted correctly. "
      ]
    },
    {
      "cell_type": "markdown",
      "metadata": {
        "id": "wHBS0OhLYVHS"
      },
      "source": [
        "**NOTE** The model trained on standardized data performed better than the model trained on normalised data. "
      ]
    },
    {
      "cell_type": "markdown",
      "metadata": {
        "id": "do0cLkCBYVHS"
      },
      "source": [
        "## Testing model on new customers\n",
        "Two new customers were added and scaled their data to test if the model is accurate. Customer 1 named new_person is a legitimate transaction and customer 2 named new_person 2 is a fraudulent transaction. "
      ]
    },
    {
      "cell_type": "code",
      "execution_count": null,
      "metadata": {
        "id": "FJRG9E7ZYVHS",
        "outputId": "96544614-2627-4798-8773-0de71048ac28"
      },
      "outputs": [
        {
          "data": {
            "text/html": [
              "<div>\n",
              "<style scoped>\n",
              "    .dataframe tbody tr th:only-of-type {\n",
              "        vertical-align: middle;\n",
              "    }\n",
              "\n",
              "    .dataframe tbody tr th {\n",
              "        vertical-align: top;\n",
              "    }\n",
              "\n",
              "    .dataframe thead th {\n",
              "        text-align: right;\n",
              "    }\n",
              "</style>\n",
              "<table border=\"1\" class=\"dataframe\">\n",
              "  <thead>\n",
              "    <tr style=\"text-align: right;\">\n",
              "      <th></th>\n",
              "      <th>Customer_ID</th>\n",
              "      <th>Time_stamp</th>\n",
              "      <th>Amounts_received</th>\n",
              "      <th>Gender_code</th>\n",
              "      <th>City_code</th>\n",
              "      <th>Credit_Limit_code</th>\n",
              "      <th>No_of_Transactions_code</th>\n",
              "      <th>Card_Type_code</th>\n",
              "      <th>Authentication_code</th>\n",
              "    </tr>\n",
              "  </thead>\n",
              "  <tbody>\n",
              "    <tr>\n",
              "      <th>0</th>\n",
              "      <td>-1.126864</td>\n",
              "      <td>2.376401</td>\n",
              "      <td>2.125112</td>\n",
              "      <td>-0.783349</td>\n",
              "      <td>-0.042234</td>\n",
              "      <td>0.830747</td>\n",
              "      <td>0.540262</td>\n",
              "      <td>0.004486</td>\n",
              "      <td>0.059444</td>\n",
              "    </tr>\n",
              "  </tbody>\n",
              "</table>\n",
              "</div>"
            ],
            "text/plain": [
              "   Customer_ID  Time_stamp  Amounts_received  Gender_code  City_code  \\\n",
              "0    -1.126864    2.376401          2.125112    -0.783349  -0.042234   \n",
              "\n",
              "   Credit_Limit_code  No_of_Transactions_code  Card_Type_code  \\\n",
              "0           0.830747                 0.540262        0.004486   \n",
              "\n",
              "   Authentication_code  \n",
              "0             0.059444  "
            ]
          },
          "execution_count": 290,
          "metadata": {},
          "output_type": "execute_result"
        }
      ],
      "source": [
        "#Adding scaled data on Customer 1\n",
        "new_person = {\n",
        "    'Customer_ID': -1.126864,\n",
        "    'Time_stamp':2.376401,\n",
        "    'Amounts_received':2.125112,\n",
        "   'Gender_code':-0.783349,\n",
        "    'City_code':-0.042234,\n",
        "    'Credit_Limit_code':0.830747,\n",
        "    'No_of_Transactions_code':0.540262,\n",
        "    'Card_Type_code':0.004486,\n",
        "    'Authentication_code':0.059444\n",
        "}\n",
        "new_person = pd.DataFrame([new_person])\n",
        "new_person"
      ]
    },
    {
      "cell_type": "code",
      "execution_count": null,
      "metadata": {
        "id": "wV_9ck1dYVHS",
        "outputId": "12ff1b52-1e3d-4c88-92ec-d0eee604d5b8"
      },
      "outputs": [
        {
          "name": "stdout",
          "output_type": "stream",
          "text": [
            "This is a Legitimate Transaction\n"
          ]
        }
      ],
      "source": [
        "#Using the model trained on standardised data to predict whether or not new person's transaction is fraudulent. \n",
        "result=model.predict(new_person)\n",
        "if result==1:\n",
        "    print('Warning! This is a Fraudulent Transaction!')\n",
        "else:\n",
        "    print('This is a Legitimate Transaction')"
      ]
    },
    {
      "cell_type": "code",
      "execution_count": null,
      "metadata": {
        "id": "LZnBU4mtYVHS",
        "outputId": "f8f88298-c119-45d2-cb33-53e7ec811fd3"
      },
      "outputs": [
        {
          "data": {
            "text/html": [
              "<div>\n",
              "<style scoped>\n",
              "    .dataframe tbody tr th:only-of-type {\n",
              "        vertical-align: middle;\n",
              "    }\n",
              "\n",
              "    .dataframe tbody tr th {\n",
              "        vertical-align: top;\n",
              "    }\n",
              "\n",
              "    .dataframe thead th {\n",
              "        text-align: right;\n",
              "    }\n",
              "</style>\n",
              "<table border=\"1\" class=\"dataframe\">\n",
              "  <thead>\n",
              "    <tr style=\"text-align: right;\">\n",
              "      <th></th>\n",
              "      <th>Customer_ID</th>\n",
              "      <th>Time_stamp</th>\n",
              "      <th>Amounts_received</th>\n",
              "      <th>Gender_code</th>\n",
              "      <th>City_code</th>\n",
              "      <th>Credit_Limit_code</th>\n",
              "      <th>No_of_Transactions_code</th>\n",
              "      <th>Card_Type_code</th>\n",
              "      <th>Authentication_code</th>\n",
              "    </tr>\n",
              "  </thead>\n",
              "  <tbody>\n",
              "    <tr>\n",
              "      <th>0</th>\n",
              "      <td>0.965168</td>\n",
              "      <td>0.393679</td>\n",
              "      <td>-0.369617</td>\n",
              "      <td>-0.783349</td>\n",
              "      <td>-0.694995</td>\n",
              "      <td>0.383906</td>\n",
              "      <td>-0.138651</td>\n",
              "      <td>-1.269441</td>\n",
              "      <td>0.059444</td>\n",
              "    </tr>\n",
              "  </tbody>\n",
              "</table>\n",
              "</div>"
            ],
            "text/plain": [
              "   Customer_ID  Time_stamp  Amounts_received  Gender_code  City_code  \\\n",
              "0     0.965168    0.393679         -0.369617    -0.783349  -0.694995   \n",
              "\n",
              "   Credit_Limit_code  No_of_Transactions_code  Card_Type_code  \\\n",
              "0           0.383906                -0.138651       -1.269441   \n",
              "\n",
              "   Authentication_code  \n",
              "0             0.059444  "
            ]
          },
          "execution_count": 286,
          "metadata": {},
          "output_type": "execute_result"
        }
      ],
      "source": [
        "#Adding scaled data on Customer 2\n",
        "new_person_2 = {\n",
        "    'Customer_ID': 0.965168,\n",
        "    'Time_stamp':0.393679,\n",
        "    'Amounts_received':-0.369617,\n",
        "   'Gender_code':-0.783349,\n",
        "    'City_code':-0.694995,\n",
        "    'Credit_Limit_code':0.383906,\n",
        "    'No_of_Transactions_code':-0.138651,\n",
        "    'Card_Type_code':-1.269441,\n",
        "    'Authentication_code':0.059444\n",
        "}\n",
        "new_person_2 = pd.DataFrame([new_person_2])\n",
        "new_person_2"
      ]
    },
    {
      "cell_type": "code",
      "execution_count": null,
      "metadata": {
        "id": "cqCJAdLYYVHT",
        "outputId": "517c518f-7f1c-4239-fe23-c1f030f0ff87"
      },
      "outputs": [
        {
          "name": "stdout",
          "output_type": "stream",
          "text": [
            "Warning! This is a Fraudulent Transaction!\n"
          ]
        }
      ],
      "source": [
        "#Using the model trained on standardised data to predict whether or not new person 2's transaction is fraudulent. \n",
        "result=model2.predict(new_person_2)\n",
        "if result==1:\n",
        "    print('Warning! This is a Fraudulent Transaction!')\n",
        "else:\n",
        "    print('This is a Legitimate Transaction')\n"
      ]
    },
    {
      "cell_type": "markdown",
      "metadata": {
        "id": "8-MV0YbPYVHT"
      },
      "source": [
        "## Conclusion\n",
        "As demonstrated above the model has successfully predicted fraudulent cases in credit card transactions through the following steps:\n",
        "1. Retrieved relevant data on credit card transactions\n",
        "2. Cleaned the data by correcting missing values and outliers\n",
        "3. Identified the relevant features using pearson correlationa and backward elimination.\n",
        "4. Normalized and standardized the data\n",
        "5. Used customers information as attributes by labelling them as features in our model\n",
        "6. Build a model, trained and tested the model\n",
        "7. Then added information from 2 new customers and they were correctly identified as legitimate and fraudulent."
      ]
    }
  ],
  "metadata": {
    "colab": {
      "provenance": []
    },
    "kernelspec": {
      "display_name": "Python 3.10.4 64-bit",
      "language": "python",
      "name": "python3"
    },
    "language_info": {
      "codemirror_mode": {
        "name": "ipython",
        "version": 3
      },
      "file_extension": ".py",
      "mimetype": "text/x-python",
      "name": "python",
      "nbconvert_exporter": "python",
      "pygments_lexer": "ipython3",
      "version": "3.10.4"
    },
    "orig_nbformat": 4,
    "vscode": {
      "interpreter": {
        "hash": "0ff010205904bfe3eee581ff58f8f0b99bd85f9d9a45393812156d4e4d4c6c03"
      }
    }
  },
  "nbformat": 4,
  "nbformat_minor": 0
}
